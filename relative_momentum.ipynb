{
  "nbformat": 4,
  "nbformat_minor": 0,
  "metadata": {
    "colab": {
      "name": "relative_momentum.ipynb",
      "provenance": [],
      "collapsed_sections": []
    },
    "kernelspec": {
      "name": "python3",
      "display_name": "Python 3"
    },
    "language_info": {
      "name": "python"
    }
  },
  "cells": [
    {
      "cell_type": "markdown",
      "metadata": {
        "id": "50J_IXykl1bN"
      },
      "source": [
        "### trade based simulation"
      ]
    },
    {
      "cell_type": "markdown",
      "metadata": {
        "id": "T2QGbF4bNyjH"
      },
      "source": [
        "# data import using yfinance"
      ]
    },
    {
      "cell_type": "markdown",
      "metadata": {
        "id": "lCGsN04N316q"
      },
      "source": [
        "## 라이브러리 임포트"
      ]
    },
    {
      "cell_type": "code",
      "source": [
        "!pip install yfinance\n",
        "!pip install pandas-datareader"
      ],
      "metadata": {
        "id": "CNokRBnol15O",
        "colab": {
          "base_uri": "https://localhost:8080/"
        },
        "outputId": "a8822d15-954e-4374-f978-a5280e25e115"
      },
      "execution_count": 2,
      "outputs": [
        {
          "output_type": "stream",
          "name": "stdout",
          "text": [
            "Collecting yfinance\n",
            "  Downloading yfinance-0.1.70-py2.py3-none-any.whl (26 kB)\n",
            "Requirement already satisfied: numpy>=1.15 in /usr/local/lib/python3.7/dist-packages (from yfinance) (1.21.5)\n",
            "Requirement already satisfied: pandas>=0.24.0 in /usr/local/lib/python3.7/dist-packages (from yfinance) (1.3.5)\n",
            "Requirement already satisfied: multitasking>=0.0.7 in /usr/local/lib/python3.7/dist-packages (from yfinance) (0.0.10)\n",
            "Collecting lxml>=4.5.1\n",
            "  Downloading lxml-4.8.0-cp37-cp37m-manylinux_2_17_x86_64.manylinux2014_x86_64.manylinux_2_24_x86_64.whl (6.4 MB)\n",
            "\u001b[K     |████████████████████████████████| 6.4 MB 8.1 MB/s \n",
            "\u001b[?25hCollecting requests>=2.26\n",
            "  Downloading requests-2.27.1-py2.py3-none-any.whl (63 kB)\n",
            "\u001b[K     |████████████████████████████████| 63 kB 1.6 MB/s \n",
            "\u001b[?25hRequirement already satisfied: python-dateutil>=2.7.3 in /usr/local/lib/python3.7/dist-packages (from pandas>=0.24.0->yfinance) (2.8.2)\n",
            "Requirement already satisfied: pytz>=2017.3 in /usr/local/lib/python3.7/dist-packages (from pandas>=0.24.0->yfinance) (2018.9)\n",
            "Requirement already satisfied: six>=1.5 in /usr/local/lib/python3.7/dist-packages (from python-dateutil>=2.7.3->pandas>=0.24.0->yfinance) (1.15.0)\n",
            "Requirement already satisfied: certifi>=2017.4.17 in /usr/local/lib/python3.7/dist-packages (from requests>=2.26->yfinance) (2021.10.8)\n",
            "Requirement already satisfied: charset-normalizer~=2.0.0 in /usr/local/lib/python3.7/dist-packages (from requests>=2.26->yfinance) (2.0.12)\n",
            "Requirement already satisfied: idna<4,>=2.5 in /usr/local/lib/python3.7/dist-packages (from requests>=2.26->yfinance) (2.10)\n",
            "Requirement already satisfied: urllib3<1.27,>=1.21.1 in /usr/local/lib/python3.7/dist-packages (from requests>=2.26->yfinance) (1.24.3)\n",
            "Installing collected packages: requests, lxml, yfinance\n",
            "  Attempting uninstall: requests\n",
            "    Found existing installation: requests 2.23.0\n",
            "    Uninstalling requests-2.23.0:\n",
            "      Successfully uninstalled requests-2.23.0\n",
            "  Attempting uninstall: lxml\n",
            "    Found existing installation: lxml 4.2.6\n",
            "    Uninstalling lxml-4.2.6:\n",
            "      Successfully uninstalled lxml-4.2.6\n",
            "\u001b[31mERROR: pip's dependency resolver does not currently take into account all the packages that are installed. This behaviour is the source of the following dependency conflicts.\n",
            "google-colab 1.0.0 requires requests~=2.23.0, but you have requests 2.27.1 which is incompatible.\n",
            "datascience 0.10.6 requires folium==0.2.1, but you have folium 0.8.3 which is incompatible.\u001b[0m\n",
            "Successfully installed lxml-4.8.0 requests-2.27.1 yfinance-0.1.70\n",
            "Requirement already satisfied: pandas-datareader in /usr/local/lib/python3.7/dist-packages (0.9.0)\n",
            "Requirement already satisfied: lxml in /usr/local/lib/python3.7/dist-packages (from pandas-datareader) (4.8.0)\n",
            "Requirement already satisfied: pandas>=0.23 in /usr/local/lib/python3.7/dist-packages (from pandas-datareader) (1.3.5)\n",
            "Requirement already satisfied: requests>=2.19.0 in /usr/local/lib/python3.7/dist-packages (from pandas-datareader) (2.27.1)\n",
            "Requirement already satisfied: pytz>=2017.3 in /usr/local/lib/python3.7/dist-packages (from pandas>=0.23->pandas-datareader) (2018.9)\n",
            "Requirement already satisfied: python-dateutil>=2.7.3 in /usr/local/lib/python3.7/dist-packages (from pandas>=0.23->pandas-datareader) (2.8.2)\n",
            "Requirement already satisfied: numpy>=1.17.3 in /usr/local/lib/python3.7/dist-packages (from pandas>=0.23->pandas-datareader) (1.21.5)\n",
            "Requirement already satisfied: six>=1.5 in /usr/local/lib/python3.7/dist-packages (from python-dateutil>=2.7.3->pandas>=0.23->pandas-datareader) (1.15.0)\n",
            "Requirement already satisfied: certifi>=2017.4.17 in /usr/local/lib/python3.7/dist-packages (from requests>=2.19.0->pandas-datareader) (2021.10.8)\n",
            "Requirement already satisfied: charset-normalizer~=2.0.0 in /usr/local/lib/python3.7/dist-packages (from requests>=2.19.0->pandas-datareader) (2.0.12)\n",
            "Requirement already satisfied: idna<4,>=2.5 in /usr/local/lib/python3.7/dist-packages (from requests>=2.19.0->pandas-datareader) (2.10)\n",
            "Requirement already satisfied: urllib3<1.27,>=1.21.1 in /usr/local/lib/python3.7/dist-packages (from requests>=2.19.0->pandas-datareader) (1.24.3)\n"
          ]
        }
      ]
    },
    {
      "cell_type": "code",
      "metadata": {
        "id": "4IduEGuosnal"
      },
      "source": [
        "import math\n",
        "import time\n",
        "from datetime import datetime\n",
        "import pandas as pd\n",
        "import numpy as np\n",
        "import yfinance as yf\n",
        "import pandas_datareader as pdr\n",
        "from collections import deque"
      ],
      "execution_count": 3,
      "outputs": []
    },
    {
      "cell_type": "code",
      "metadata": {
        "id": "Tqq86p3oWLEj"
      },
      "source": [
        "current_date = datetime.now().strftime(\"%Y-%m-%d-%H-%M-%S\")"
      ],
      "execution_count": 57,
      "outputs": []
    },
    {
      "cell_type": "markdown",
      "source": [
        "## 데이터 임포트"
      ],
      "metadata": {
        "id": "nmIuvruxLnJr"
      }
    },
    {
      "cell_type": "code",
      "source": [
        "tickers = [\"SPY\", \"QQQ\", \"GLD\", \"LQD\", \"EEM\"]\n",
        "risk_free_asset = \"TB3MS\""
      ],
      "metadata": {
        "id": "wLGIVDT7rMPr"
      },
      "execution_count": 5,
      "outputs": []
    },
    {
      "cell_type": "code",
      "source": [
        "divs = []\n",
        "for ticker in tickers:\n",
        "  div = yf.Ticker(ticker).dividends\n",
        "  div.index = pd.to_datetime(div.index).strftime('%Y-%m')\n",
        "  if not div.index.is_unique:\n",
        "    div = div.groupby(div.index).sum()\n",
        "  divs.append(div)"
      ],
      "metadata": {
        "id": "V50gvsHPplTC"
      },
      "execution_count": 6,
      "outputs": []
    },
    {
      "cell_type": "code",
      "source": [
        "dividends_df = pd.concat(divs, axis=1)\n",
        "dividends_df.columns = [[\"Dividend\"] * len(tickers), tickers]\n",
        "dividends_df.index.name = \"Date\"\n",
        "dividends_df.sort_index(inplace=True)"
      ],
      "metadata": {
        "id": "-t4lYB4yrREh"
      },
      "execution_count": 7,
      "outputs": []
    },
    {
      "cell_type": "code",
      "source": [
        "dividends_df"
      ],
      "metadata": {
        "colab": {
          "base_uri": "https://localhost:8080/",
          "height": 486
        },
        "id": "mmlCVAkINvq9",
        "outputId": "ff89f757-489e-4d0f-8e32-664dff1a72bb"
      },
      "execution_count": 8,
      "outputs": [
        {
          "output_type": "execute_result",
          "data": {
            "text/html": [
              "\n",
              "  <div id=\"df-67682282-d8a5-4b6e-abdd-ad07534d8c2c\">\n",
              "    <div class=\"colab-df-container\">\n",
              "      <div>\n",
              "<style scoped>\n",
              "    .dataframe tbody tr th:only-of-type {\n",
              "        vertical-align: middle;\n",
              "    }\n",
              "\n",
              "    .dataframe tbody tr th {\n",
              "        vertical-align: top;\n",
              "    }\n",
              "\n",
              "    .dataframe thead tr th {\n",
              "        text-align: left;\n",
              "    }\n",
              "\n",
              "    .dataframe thead tr:last-of-type th {\n",
              "        text-align: right;\n",
              "    }\n",
              "</style>\n",
              "<table border=\"1\" class=\"dataframe\">\n",
              "  <thead>\n",
              "    <tr>\n",
              "      <th></th>\n",
              "      <th colspan=\"5\" halign=\"left\">Dividend</th>\n",
              "    </tr>\n",
              "    <tr>\n",
              "      <th></th>\n",
              "      <th>SPY</th>\n",
              "      <th>QQQ</th>\n",
              "      <th>GLD</th>\n",
              "      <th>LQD</th>\n",
              "      <th>EEM</th>\n",
              "    </tr>\n",
              "    <tr>\n",
              "      <th>Date</th>\n",
              "      <th></th>\n",
              "      <th></th>\n",
              "      <th></th>\n",
              "      <th></th>\n",
              "      <th></th>\n",
              "    </tr>\n",
              "  </thead>\n",
              "  <tbody>\n",
              "    <tr>\n",
              "      <th>1993-03</th>\n",
              "      <td>0.213</td>\n",
              "      <td>NaN</td>\n",
              "      <td>NaN</td>\n",
              "      <td>NaN</td>\n",
              "      <td>NaN</td>\n",
              "    </tr>\n",
              "    <tr>\n",
              "      <th>1993-06</th>\n",
              "      <td>0.318</td>\n",
              "      <td>NaN</td>\n",
              "      <td>NaN</td>\n",
              "      <td>NaN</td>\n",
              "      <td>NaN</td>\n",
              "    </tr>\n",
              "    <tr>\n",
              "      <th>1993-09</th>\n",
              "      <td>0.286</td>\n",
              "      <td>NaN</td>\n",
              "      <td>NaN</td>\n",
              "      <td>NaN</td>\n",
              "      <td>NaN</td>\n",
              "    </tr>\n",
              "    <tr>\n",
              "      <th>1993-12</th>\n",
              "      <td>0.317</td>\n",
              "      <td>NaN</td>\n",
              "      <td>NaN</td>\n",
              "      <td>NaN</td>\n",
              "      <td>NaN</td>\n",
              "    </tr>\n",
              "    <tr>\n",
              "      <th>1994-03</th>\n",
              "      <td>0.271</td>\n",
              "      <td>NaN</td>\n",
              "      <td>NaN</td>\n",
              "      <td>NaN</td>\n",
              "      <td>NaN</td>\n",
              "    </tr>\n",
              "    <tr>\n",
              "      <th>...</th>\n",
              "      <td>...</td>\n",
              "      <td>...</td>\n",
              "      <td>...</td>\n",
              "      <td>...</td>\n",
              "      <td>...</td>\n",
              "    </tr>\n",
              "    <tr>\n",
              "      <th>2021-09</th>\n",
              "      <td>1.428</td>\n",
              "      <td>0.414</td>\n",
              "      <td>NaN</td>\n",
              "      <td>0.234</td>\n",
              "      <td>NaN</td>\n",
              "    </tr>\n",
              "    <tr>\n",
              "      <th>2021-10</th>\n",
              "      <td>NaN</td>\n",
              "      <td>NaN</td>\n",
              "      <td>NaN</td>\n",
              "      <td>0.255</td>\n",
              "      <td>NaN</td>\n",
              "    </tr>\n",
              "    <tr>\n",
              "      <th>2021-11</th>\n",
              "      <td>NaN</td>\n",
              "      <td>NaN</td>\n",
              "      <td>NaN</td>\n",
              "      <td>0.262</td>\n",
              "      <td>NaN</td>\n",
              "    </tr>\n",
              "    <tr>\n",
              "      <th>2021-12</th>\n",
              "      <td>1.633</td>\n",
              "      <td>0.491</td>\n",
              "      <td>NaN</td>\n",
              "      <td>0.495</td>\n",
              "      <td>0.733</td>\n",
              "    </tr>\n",
              "    <tr>\n",
              "      <th>2022-02</th>\n",
              "      <td>NaN</td>\n",
              "      <td>NaN</td>\n",
              "      <td>NaN</td>\n",
              "      <td>0.242</td>\n",
              "      <td>NaN</td>\n",
              "    </tr>\n",
              "  </tbody>\n",
              "</table>\n",
              "<p>251 rows × 5 columns</p>\n",
              "</div>\n",
              "      <button class=\"colab-df-convert\" onclick=\"convertToInteractive('df-67682282-d8a5-4b6e-abdd-ad07534d8c2c')\"\n",
              "              title=\"Convert this dataframe to an interactive table.\"\n",
              "              style=\"display:none;\">\n",
              "        \n",
              "  <svg xmlns=\"http://www.w3.org/2000/svg\" height=\"24px\"viewBox=\"0 0 24 24\"\n",
              "       width=\"24px\">\n",
              "    <path d=\"M0 0h24v24H0V0z\" fill=\"none\"/>\n",
              "    <path d=\"M18.56 5.44l.94 2.06.94-2.06 2.06-.94-2.06-.94-.94-2.06-.94 2.06-2.06.94zm-11 1L8.5 8.5l.94-2.06 2.06-.94-2.06-.94L8.5 2.5l-.94 2.06-2.06.94zm10 10l.94 2.06.94-2.06 2.06-.94-2.06-.94-.94-2.06-.94 2.06-2.06.94z\"/><path d=\"M17.41 7.96l-1.37-1.37c-.4-.4-.92-.59-1.43-.59-.52 0-1.04.2-1.43.59L10.3 9.45l-7.72 7.72c-.78.78-.78 2.05 0 2.83L4 21.41c.39.39.9.59 1.41.59.51 0 1.02-.2 1.41-.59l7.78-7.78 2.81-2.81c.8-.78.8-2.07 0-2.86zM5.41 20L4 18.59l7.72-7.72 1.47 1.35L5.41 20z\"/>\n",
              "  </svg>\n",
              "      </button>\n",
              "      \n",
              "  <style>\n",
              "    .colab-df-container {\n",
              "      display:flex;\n",
              "      flex-wrap:wrap;\n",
              "      gap: 12px;\n",
              "    }\n",
              "\n",
              "    .colab-df-convert {\n",
              "      background-color: #E8F0FE;\n",
              "      border: none;\n",
              "      border-radius: 50%;\n",
              "      cursor: pointer;\n",
              "      display: none;\n",
              "      fill: #1967D2;\n",
              "      height: 32px;\n",
              "      padding: 0 0 0 0;\n",
              "      width: 32px;\n",
              "    }\n",
              "\n",
              "    .colab-df-convert:hover {\n",
              "      background-color: #E2EBFA;\n",
              "      box-shadow: 0px 1px 2px rgba(60, 64, 67, 0.3), 0px 1px 3px 1px rgba(60, 64, 67, 0.15);\n",
              "      fill: #174EA6;\n",
              "    }\n",
              "\n",
              "    [theme=dark] .colab-df-convert {\n",
              "      background-color: #3B4455;\n",
              "      fill: #D2E3FC;\n",
              "    }\n",
              "\n",
              "    [theme=dark] .colab-df-convert:hover {\n",
              "      background-color: #434B5C;\n",
              "      box-shadow: 0px 1px 3px 1px rgba(0, 0, 0, 0.15);\n",
              "      filter: drop-shadow(0px 1px 2px rgba(0, 0, 0, 0.3));\n",
              "      fill: #FFFFFF;\n",
              "    }\n",
              "  </style>\n",
              "\n",
              "      <script>\n",
              "        const buttonEl =\n",
              "          document.querySelector('#df-67682282-d8a5-4b6e-abdd-ad07534d8c2c button.colab-df-convert');\n",
              "        buttonEl.style.display =\n",
              "          google.colab.kernel.accessAllowed ? 'block' : 'none';\n",
              "\n",
              "        async function convertToInteractive(key) {\n",
              "          const element = document.querySelector('#df-67682282-d8a5-4b6e-abdd-ad07534d8c2c');\n",
              "          const dataTable =\n",
              "            await google.colab.kernel.invokeFunction('convertToInteractive',\n",
              "                                                     [key], {});\n",
              "          if (!dataTable) return;\n",
              "\n",
              "          const docLinkHtml = 'Like what you see? Visit the ' +\n",
              "            '<a target=\"_blank\" href=https://colab.research.google.com/notebooks/data_table.ipynb>data table notebook</a>'\n",
              "            + ' to learn more about interactive tables.';\n",
              "          element.innerHTML = '';\n",
              "          dataTable['output_type'] = 'display_data';\n",
              "          await google.colab.output.renderOutput(dataTable, element);\n",
              "          const docLink = document.createElement('div');\n",
              "          docLink.innerHTML = docLinkHtml;\n",
              "          element.appendChild(docLink);\n",
              "        }\n",
              "      </script>\n",
              "    </div>\n",
              "  </div>\n",
              "  "
            ],
            "text/plain": [
              "        Dividend                         \n",
              "             SPY    QQQ GLD    LQD    EEM\n",
              "Date                                     \n",
              "1993-03    0.213    NaN NaN    NaN    NaN\n",
              "1993-06    0.318    NaN NaN    NaN    NaN\n",
              "1993-09    0.286    NaN NaN    NaN    NaN\n",
              "1993-12    0.317    NaN NaN    NaN    NaN\n",
              "1994-03    0.271    NaN NaN    NaN    NaN\n",
              "...          ...    ...  ..    ...    ...\n",
              "2021-09    1.428  0.414 NaN  0.234    NaN\n",
              "2021-10      NaN    NaN NaN  0.255    NaN\n",
              "2021-11      NaN    NaN NaN  0.262    NaN\n",
              "2021-12    1.633  0.491 NaN  0.495  0.733\n",
              "2022-02      NaN    NaN NaN  0.242    NaN\n",
              "\n",
              "[251 rows x 5 columns]"
            ]
          },
          "metadata": {},
          "execution_count": 8
        }
      ]
    },
    {
      "cell_type": "code",
      "source": [
        "tickers_df = yf.download(\" \".join(tickers), period='max', interval='1mo')"
      ],
      "metadata": {
        "colab": {
          "base_uri": "https://localhost:8080/"
        },
        "id": "OBeky-Q48_64",
        "outputId": "d62d149a-4947-490e-819e-088c4501422b"
      },
      "execution_count": 9,
      "outputs": [
        {
          "output_type": "stream",
          "name": "stdout",
          "text": [
            "[*********************100%***********************]  5 of 5 completed\n"
          ]
        }
      ]
    },
    {
      "cell_type": "code",
      "source": [
        "tickers_df.index = pd.to_datetime(tickers_df.index).strftime('%Y-%m')"
      ],
      "metadata": {
        "id": "km-qJsXfOlkt"
      },
      "execution_count": 10,
      "outputs": []
    },
    {
      "cell_type": "code",
      "source": [
        "opens_df = tickers_df[\"Open\"]\n",
        "closes_df = tickers_df[\"Close\"]\n",
        "# tickers_df.drop(columns=[\"Adj Close\", \"High\", \"Low\", \"Open\", \"Volume\"], inplace=True)\n",
        "# tickers_df.dropna(how=\"all\", inplace=True)"
      ],
      "metadata": {
        "id": "8hRM1UyOvJaa"
      },
      "execution_count": 11,
      "outputs": []
    },
    {
      "cell_type": "code",
      "source": [
        "closes_df"
      ],
      "metadata": {
        "colab": {
          "base_uri": "https://localhost:8080/",
          "height": 455
        },
        "id": "-bMfilN3e9vT",
        "outputId": "a0a46ba0-14f2-4fc6-f8d7-a002b4178cd8"
      },
      "execution_count": 12,
      "outputs": [
        {
          "output_type": "execute_result",
          "data": {
            "text/html": [
              "\n",
              "  <div id=\"df-eed63242-2204-4972-a276-441aa9cd1f0c\">\n",
              "    <div class=\"colab-df-container\">\n",
              "      <div>\n",
              "<style scoped>\n",
              "    .dataframe tbody tr th:only-of-type {\n",
              "        vertical-align: middle;\n",
              "    }\n",
              "\n",
              "    .dataframe tbody tr th {\n",
              "        vertical-align: top;\n",
              "    }\n",
              "\n",
              "    .dataframe thead th {\n",
              "        text-align: right;\n",
              "    }\n",
              "</style>\n",
              "<table border=\"1\" class=\"dataframe\">\n",
              "  <thead>\n",
              "    <tr style=\"text-align: right;\">\n",
              "      <th></th>\n",
              "      <th>EEM</th>\n",
              "      <th>GLD</th>\n",
              "      <th>LQD</th>\n",
              "      <th>QQQ</th>\n",
              "      <th>SPY</th>\n",
              "    </tr>\n",
              "    <tr>\n",
              "      <th>Date</th>\n",
              "      <th></th>\n",
              "      <th></th>\n",
              "      <th></th>\n",
              "      <th></th>\n",
              "      <th></th>\n",
              "    </tr>\n",
              "  </thead>\n",
              "  <tbody>\n",
              "    <tr>\n",
              "      <th>1993-02</th>\n",
              "      <td>NaN</td>\n",
              "      <td>NaN</td>\n",
              "      <td>NaN</td>\n",
              "      <td>NaN</td>\n",
              "      <td>44.406250</td>\n",
              "    </tr>\n",
              "    <tr>\n",
              "      <th>1993-03</th>\n",
              "      <td>NaN</td>\n",
              "      <td>NaN</td>\n",
              "      <td>NaN</td>\n",
              "      <td>NaN</td>\n",
              "      <td>45.187500</td>\n",
              "    </tr>\n",
              "    <tr>\n",
              "      <th>1993-03</th>\n",
              "      <td>NaN</td>\n",
              "      <td>NaN</td>\n",
              "      <td>NaN</td>\n",
              "      <td>NaN</td>\n",
              "      <td>NaN</td>\n",
              "    </tr>\n",
              "    <tr>\n",
              "      <th>1993-04</th>\n",
              "      <td>NaN</td>\n",
              "      <td>NaN</td>\n",
              "      <td>NaN</td>\n",
              "      <td>NaN</td>\n",
              "      <td>44.031250</td>\n",
              "    </tr>\n",
              "    <tr>\n",
              "      <th>1993-05</th>\n",
              "      <td>NaN</td>\n",
              "      <td>NaN</td>\n",
              "      <td>NaN</td>\n",
              "      <td>NaN</td>\n",
              "      <td>45.218750</td>\n",
              "    </tr>\n",
              "    <tr>\n",
              "      <th>...</th>\n",
              "      <td>...</td>\n",
              "      <td>...</td>\n",
              "      <td>...</td>\n",
              "      <td>...</td>\n",
              "      <td>...</td>\n",
              "    </tr>\n",
              "    <tr>\n",
              "      <th>2021-12</th>\n",
              "      <td>NaN</td>\n",
              "      <td>NaN</td>\n",
              "      <td>NaN</td>\n",
              "      <td>NaN</td>\n",
              "      <td>NaN</td>\n",
              "    </tr>\n",
              "    <tr>\n",
              "      <th>2021-12</th>\n",
              "      <td>NaN</td>\n",
              "      <td>NaN</td>\n",
              "      <td>NaN</td>\n",
              "      <td>NaN</td>\n",
              "      <td>NaN</td>\n",
              "    </tr>\n",
              "    <tr>\n",
              "      <th>2022-01</th>\n",
              "      <td>48.840000</td>\n",
              "      <td>168.089996</td>\n",
              "      <td>127.760002</td>\n",
              "      <td>363.049988</td>\n",
              "      <td>449.910004</td>\n",
              "    </tr>\n",
              "    <tr>\n",
              "      <th>2022-02</th>\n",
              "      <td>48.029999</td>\n",
              "      <td>177.490005</td>\n",
              "      <td>123.519997</td>\n",
              "      <td>338.079987</td>\n",
              "      <td>429.570007</td>\n",
              "    </tr>\n",
              "    <tr>\n",
              "      <th>2022-02</th>\n",
              "      <td>48.020000</td>\n",
              "      <td>177.777298</td>\n",
              "      <td>122.919998</td>\n",
              "      <td>339.329987</td>\n",
              "      <td>431.540009</td>\n",
              "    </tr>\n",
              "  </tbody>\n",
              "</table>\n",
              "<p>611 rows × 5 columns</p>\n",
              "</div>\n",
              "      <button class=\"colab-df-convert\" onclick=\"convertToInteractive('df-eed63242-2204-4972-a276-441aa9cd1f0c')\"\n",
              "              title=\"Convert this dataframe to an interactive table.\"\n",
              "              style=\"display:none;\">\n",
              "        \n",
              "  <svg xmlns=\"http://www.w3.org/2000/svg\" height=\"24px\"viewBox=\"0 0 24 24\"\n",
              "       width=\"24px\">\n",
              "    <path d=\"M0 0h24v24H0V0z\" fill=\"none\"/>\n",
              "    <path d=\"M18.56 5.44l.94 2.06.94-2.06 2.06-.94-2.06-.94-.94-2.06-.94 2.06-2.06.94zm-11 1L8.5 8.5l.94-2.06 2.06-.94-2.06-.94L8.5 2.5l-.94 2.06-2.06.94zm10 10l.94 2.06.94-2.06 2.06-.94-2.06-.94-.94-2.06-.94 2.06-2.06.94z\"/><path d=\"M17.41 7.96l-1.37-1.37c-.4-.4-.92-.59-1.43-.59-.52 0-1.04.2-1.43.59L10.3 9.45l-7.72 7.72c-.78.78-.78 2.05 0 2.83L4 21.41c.39.39.9.59 1.41.59.51 0 1.02-.2 1.41-.59l7.78-7.78 2.81-2.81c.8-.78.8-2.07 0-2.86zM5.41 20L4 18.59l7.72-7.72 1.47 1.35L5.41 20z\"/>\n",
              "  </svg>\n",
              "      </button>\n",
              "      \n",
              "  <style>\n",
              "    .colab-df-container {\n",
              "      display:flex;\n",
              "      flex-wrap:wrap;\n",
              "      gap: 12px;\n",
              "    }\n",
              "\n",
              "    .colab-df-convert {\n",
              "      background-color: #E8F0FE;\n",
              "      border: none;\n",
              "      border-radius: 50%;\n",
              "      cursor: pointer;\n",
              "      display: none;\n",
              "      fill: #1967D2;\n",
              "      height: 32px;\n",
              "      padding: 0 0 0 0;\n",
              "      width: 32px;\n",
              "    }\n",
              "\n",
              "    .colab-df-convert:hover {\n",
              "      background-color: #E2EBFA;\n",
              "      box-shadow: 0px 1px 2px rgba(60, 64, 67, 0.3), 0px 1px 3px 1px rgba(60, 64, 67, 0.15);\n",
              "      fill: #174EA6;\n",
              "    }\n",
              "\n",
              "    [theme=dark] .colab-df-convert {\n",
              "      background-color: #3B4455;\n",
              "      fill: #D2E3FC;\n",
              "    }\n",
              "\n",
              "    [theme=dark] .colab-df-convert:hover {\n",
              "      background-color: #434B5C;\n",
              "      box-shadow: 0px 1px 3px 1px rgba(0, 0, 0, 0.15);\n",
              "      filter: drop-shadow(0px 1px 2px rgba(0, 0, 0, 0.3));\n",
              "      fill: #FFFFFF;\n",
              "    }\n",
              "  </style>\n",
              "\n",
              "      <script>\n",
              "        const buttonEl =\n",
              "          document.querySelector('#df-eed63242-2204-4972-a276-441aa9cd1f0c button.colab-df-convert');\n",
              "        buttonEl.style.display =\n",
              "          google.colab.kernel.accessAllowed ? 'block' : 'none';\n",
              "\n",
              "        async function convertToInteractive(key) {\n",
              "          const element = document.querySelector('#df-eed63242-2204-4972-a276-441aa9cd1f0c');\n",
              "          const dataTable =\n",
              "            await google.colab.kernel.invokeFunction('convertToInteractive',\n",
              "                                                     [key], {});\n",
              "          if (!dataTable) return;\n",
              "\n",
              "          const docLinkHtml = 'Like what you see? Visit the ' +\n",
              "            '<a target=\"_blank\" href=https://colab.research.google.com/notebooks/data_table.ipynb>data table notebook</a>'\n",
              "            + ' to learn more about interactive tables.';\n",
              "          element.innerHTML = '';\n",
              "          dataTable['output_type'] = 'display_data';\n",
              "          await google.colab.output.renderOutput(dataTable, element);\n",
              "          const docLink = document.createElement('div');\n",
              "          docLink.innerHTML = docLinkHtml;\n",
              "          element.appendChild(docLink);\n",
              "        }\n",
              "      </script>\n",
              "    </div>\n",
              "  </div>\n",
              "  "
            ],
            "text/plain": [
              "               EEM         GLD         LQD         QQQ         SPY\n",
              "Date                                                              \n",
              "1993-02        NaN         NaN         NaN         NaN   44.406250\n",
              "1993-03        NaN         NaN         NaN         NaN   45.187500\n",
              "1993-03        NaN         NaN         NaN         NaN         NaN\n",
              "1993-04        NaN         NaN         NaN         NaN   44.031250\n",
              "1993-05        NaN         NaN         NaN         NaN   45.218750\n",
              "...            ...         ...         ...         ...         ...\n",
              "2021-12        NaN         NaN         NaN         NaN         NaN\n",
              "2021-12        NaN         NaN         NaN         NaN         NaN\n",
              "2022-01  48.840000  168.089996  127.760002  363.049988  449.910004\n",
              "2022-02  48.029999  177.490005  123.519997  338.079987  429.570007\n",
              "2022-02  48.020000  177.777298  122.919998  339.329987  431.540009\n",
              "\n",
              "[611 rows x 5 columns]"
            ]
          },
          "metadata": {},
          "execution_count": 12
        }
      ]
    },
    {
      "cell_type": "code",
      "source": [
        "if not closes_df.index.is_unique:\n",
        "    closes_df = closes_df.groupby(closes_df.index).last()"
      ],
      "metadata": {
        "id": "Kg5wfUuEDA5t"
      },
      "execution_count": 13,
      "outputs": []
    },
    {
      "cell_type": "code",
      "source": [
        "tb3ms_df = pdr.DataReader(risk_free_asset, \"fred\", closes_df.index[0], closes_df.index[-1] )\n",
        "tb3ms_df[\"RoR12\"] = tb3ms_df[risk_free_asset].map(lambda x: x / 100)\n",
        "tb3ms_df[\"CRoR\"] = (1 + tb3ms_df[\"RoR12\"] / 12).cumprod()\n",
        "tb3ms_df.index = pd.to_datetime(tb3ms_df.index).strftime('%Y-%m')"
      ],
      "metadata": {
        "id": "f1o3g8ktzSaN"
      },
      "execution_count": 14,
      "outputs": []
    },
    {
      "cell_type": "code",
      "source": [
        "tb3ms_df"
      ],
      "metadata": {
        "colab": {
          "base_uri": "https://localhost:8080/",
          "height": 455
        },
        "id": "2rg9CYi9aMcj",
        "outputId": "ff85f38f-52ce-429b-e344-3b395c6db942"
      },
      "execution_count": 15,
      "outputs": [
        {
          "output_type": "execute_result",
          "data": {
            "text/html": [
              "\n",
              "  <div id=\"df-88dfc9e6-2dda-486c-a586-95c0fb0af6f6\">\n",
              "    <div class=\"colab-df-container\">\n",
              "      <div>\n",
              "<style scoped>\n",
              "    .dataframe tbody tr th:only-of-type {\n",
              "        vertical-align: middle;\n",
              "    }\n",
              "\n",
              "    .dataframe tbody tr th {\n",
              "        vertical-align: top;\n",
              "    }\n",
              "\n",
              "    .dataframe thead th {\n",
              "        text-align: right;\n",
              "    }\n",
              "</style>\n",
              "<table border=\"1\" class=\"dataframe\">\n",
              "  <thead>\n",
              "    <tr style=\"text-align: right;\">\n",
              "      <th></th>\n",
              "      <th>TB3MS</th>\n",
              "      <th>RoR12</th>\n",
              "      <th>CRoR</th>\n",
              "    </tr>\n",
              "    <tr>\n",
              "      <th>DATE</th>\n",
              "      <th></th>\n",
              "      <th></th>\n",
              "      <th></th>\n",
              "    </tr>\n",
              "  </thead>\n",
              "  <tbody>\n",
              "    <tr>\n",
              "      <th>1993-02</th>\n",
              "      <td>2.93</td>\n",
              "      <td>0.0293</td>\n",
              "      <td>1.002442</td>\n",
              "    </tr>\n",
              "    <tr>\n",
              "      <th>1993-03</th>\n",
              "      <td>2.95</td>\n",
              "      <td>0.0295</td>\n",
              "      <td>1.004906</td>\n",
              "    </tr>\n",
              "    <tr>\n",
              "      <th>1993-04</th>\n",
              "      <td>2.87</td>\n",
              "      <td>0.0287</td>\n",
              "      <td>1.007309</td>\n",
              "    </tr>\n",
              "    <tr>\n",
              "      <th>1993-05</th>\n",
              "      <td>2.96</td>\n",
              "      <td>0.0296</td>\n",
              "      <td>1.009794</td>\n",
              "    </tr>\n",
              "    <tr>\n",
              "      <th>1993-06</th>\n",
              "      <td>3.07</td>\n",
              "      <td>0.0307</td>\n",
              "      <td>1.012377</td>\n",
              "    </tr>\n",
              "    <tr>\n",
              "      <th>...</th>\n",
              "      <td>...</td>\n",
              "      <td>...</td>\n",
              "      <td>...</td>\n",
              "    </tr>\n",
              "    <tr>\n",
              "      <th>2021-09</th>\n",
              "      <td>0.04</td>\n",
              "      <td>0.0004</td>\n",
              "      <td>1.912639</td>\n",
              "    </tr>\n",
              "    <tr>\n",
              "      <th>2021-10</th>\n",
              "      <td>0.05</td>\n",
              "      <td>0.0005</td>\n",
              "      <td>1.912718</td>\n",
              "    </tr>\n",
              "    <tr>\n",
              "      <th>2021-11</th>\n",
              "      <td>0.05</td>\n",
              "      <td>0.0005</td>\n",
              "      <td>1.912798</td>\n",
              "    </tr>\n",
              "    <tr>\n",
              "      <th>2021-12</th>\n",
              "      <td>0.06</td>\n",
              "      <td>0.0006</td>\n",
              "      <td>1.912894</td>\n",
              "    </tr>\n",
              "    <tr>\n",
              "      <th>2022-01</th>\n",
              "      <td>0.15</td>\n",
              "      <td>0.0015</td>\n",
              "      <td>1.913133</td>\n",
              "    </tr>\n",
              "  </tbody>\n",
              "</table>\n",
              "<p>348 rows × 3 columns</p>\n",
              "</div>\n",
              "      <button class=\"colab-df-convert\" onclick=\"convertToInteractive('df-88dfc9e6-2dda-486c-a586-95c0fb0af6f6')\"\n",
              "              title=\"Convert this dataframe to an interactive table.\"\n",
              "              style=\"display:none;\">\n",
              "        \n",
              "  <svg xmlns=\"http://www.w3.org/2000/svg\" height=\"24px\"viewBox=\"0 0 24 24\"\n",
              "       width=\"24px\">\n",
              "    <path d=\"M0 0h24v24H0V0z\" fill=\"none\"/>\n",
              "    <path d=\"M18.56 5.44l.94 2.06.94-2.06 2.06-.94-2.06-.94-.94-2.06-.94 2.06-2.06.94zm-11 1L8.5 8.5l.94-2.06 2.06-.94-2.06-.94L8.5 2.5l-.94 2.06-2.06.94zm10 10l.94 2.06.94-2.06 2.06-.94-2.06-.94-.94-2.06-.94 2.06-2.06.94z\"/><path d=\"M17.41 7.96l-1.37-1.37c-.4-.4-.92-.59-1.43-.59-.52 0-1.04.2-1.43.59L10.3 9.45l-7.72 7.72c-.78.78-.78 2.05 0 2.83L4 21.41c.39.39.9.59 1.41.59.51 0 1.02-.2 1.41-.59l7.78-7.78 2.81-2.81c.8-.78.8-2.07 0-2.86zM5.41 20L4 18.59l7.72-7.72 1.47 1.35L5.41 20z\"/>\n",
              "  </svg>\n",
              "      </button>\n",
              "      \n",
              "  <style>\n",
              "    .colab-df-container {\n",
              "      display:flex;\n",
              "      flex-wrap:wrap;\n",
              "      gap: 12px;\n",
              "    }\n",
              "\n",
              "    .colab-df-convert {\n",
              "      background-color: #E8F0FE;\n",
              "      border: none;\n",
              "      border-radius: 50%;\n",
              "      cursor: pointer;\n",
              "      display: none;\n",
              "      fill: #1967D2;\n",
              "      height: 32px;\n",
              "      padding: 0 0 0 0;\n",
              "      width: 32px;\n",
              "    }\n",
              "\n",
              "    .colab-df-convert:hover {\n",
              "      background-color: #E2EBFA;\n",
              "      box-shadow: 0px 1px 2px rgba(60, 64, 67, 0.3), 0px 1px 3px 1px rgba(60, 64, 67, 0.15);\n",
              "      fill: #174EA6;\n",
              "    }\n",
              "\n",
              "    [theme=dark] .colab-df-convert {\n",
              "      background-color: #3B4455;\n",
              "      fill: #D2E3FC;\n",
              "    }\n",
              "\n",
              "    [theme=dark] .colab-df-convert:hover {\n",
              "      background-color: #434B5C;\n",
              "      box-shadow: 0px 1px 3px 1px rgba(0, 0, 0, 0.15);\n",
              "      filter: drop-shadow(0px 1px 2px rgba(0, 0, 0, 0.3));\n",
              "      fill: #FFFFFF;\n",
              "    }\n",
              "  </style>\n",
              "\n",
              "      <script>\n",
              "        const buttonEl =\n",
              "          document.querySelector('#df-88dfc9e6-2dda-486c-a586-95c0fb0af6f6 button.colab-df-convert');\n",
              "        buttonEl.style.display =\n",
              "          google.colab.kernel.accessAllowed ? 'block' : 'none';\n",
              "\n",
              "        async function convertToInteractive(key) {\n",
              "          const element = document.querySelector('#df-88dfc9e6-2dda-486c-a586-95c0fb0af6f6');\n",
              "          const dataTable =\n",
              "            await google.colab.kernel.invokeFunction('convertToInteractive',\n",
              "                                                     [key], {});\n",
              "          if (!dataTable) return;\n",
              "\n",
              "          const docLinkHtml = 'Like what you see? Visit the ' +\n",
              "            '<a target=\"_blank\" href=https://colab.research.google.com/notebooks/data_table.ipynb>data table notebook</a>'\n",
              "            + ' to learn more about interactive tables.';\n",
              "          element.innerHTML = '';\n",
              "          dataTable['output_type'] = 'display_data';\n",
              "          await google.colab.output.renderOutput(dataTable, element);\n",
              "          const docLink = document.createElement('div');\n",
              "          docLink.innerHTML = docLinkHtml;\n",
              "          element.appendChild(docLink);\n",
              "        }\n",
              "      </script>\n",
              "    </div>\n",
              "  </div>\n",
              "  "
            ],
            "text/plain": [
              "         TB3MS   RoR12      CRoR\n",
              "DATE                            \n",
              "1993-02   2.93  0.0293  1.002442\n",
              "1993-03   2.95  0.0295  1.004906\n",
              "1993-04   2.87  0.0287  1.007309\n",
              "1993-05   2.96  0.0296  1.009794\n",
              "1993-06   3.07  0.0307  1.012377\n",
              "...        ...     ...       ...\n",
              "2021-09   0.04  0.0004  1.912639\n",
              "2021-10   0.05  0.0005  1.912718\n",
              "2021-11   0.05  0.0005  1.912798\n",
              "2021-12   0.06  0.0006  1.912894\n",
              "2022-01   0.15  0.0015  1.913133\n",
              "\n",
              "[348 rows x 3 columns]"
            ]
          },
          "metadata": {},
          "execution_count": 15
        }
      ]
    },
    {
      "cell_type": "code",
      "source": [
        "closes_df[risk_free_asset] = tb3ms_df[\"CRoR\"]"
      ],
      "metadata": {
        "id": "qvsHKVC7LNYS"
      },
      "execution_count": 16,
      "outputs": []
    },
    {
      "cell_type": "code",
      "source": [
        "closes_df.drop(closes_df.tail(1).index, inplace=True)"
      ],
      "metadata": {
        "id": "WZiiu-8AeQTT"
      },
      "execution_count": 17,
      "outputs": []
    },
    {
      "cell_type": "code",
      "source": [
        "closes_df"
      ],
      "metadata": {
        "colab": {
          "base_uri": "https://localhost:8080/",
          "height": 455
        },
        "id": "n5bQ-ezitPfZ",
        "outputId": "e90b5a68-6c1a-4089-e127-4c4d859eb43b"
      },
      "execution_count": 18,
      "outputs": [
        {
          "output_type": "execute_result",
          "data": {
            "text/html": [
              "\n",
              "  <div id=\"df-d75b21a9-21d7-4e40-a49b-7dbb0b6dbd44\">\n",
              "    <div class=\"colab-df-container\">\n",
              "      <div>\n",
              "<style scoped>\n",
              "    .dataframe tbody tr th:only-of-type {\n",
              "        vertical-align: middle;\n",
              "    }\n",
              "\n",
              "    .dataframe tbody tr th {\n",
              "        vertical-align: top;\n",
              "    }\n",
              "\n",
              "    .dataframe thead th {\n",
              "        text-align: right;\n",
              "    }\n",
              "</style>\n",
              "<table border=\"1\" class=\"dataframe\">\n",
              "  <thead>\n",
              "    <tr style=\"text-align: right;\">\n",
              "      <th></th>\n",
              "      <th>EEM</th>\n",
              "      <th>GLD</th>\n",
              "      <th>LQD</th>\n",
              "      <th>QQQ</th>\n",
              "      <th>SPY</th>\n",
              "      <th>TB3MS</th>\n",
              "    </tr>\n",
              "    <tr>\n",
              "      <th>Date</th>\n",
              "      <th></th>\n",
              "      <th></th>\n",
              "      <th></th>\n",
              "      <th></th>\n",
              "      <th></th>\n",
              "      <th></th>\n",
              "    </tr>\n",
              "  </thead>\n",
              "  <tbody>\n",
              "    <tr>\n",
              "      <th>1993-02</th>\n",
              "      <td>NaN</td>\n",
              "      <td>NaN</td>\n",
              "      <td>NaN</td>\n",
              "      <td>NaN</td>\n",
              "      <td>44.406250</td>\n",
              "      <td>1.002442</td>\n",
              "    </tr>\n",
              "    <tr>\n",
              "      <th>1993-03</th>\n",
              "      <td>NaN</td>\n",
              "      <td>NaN</td>\n",
              "      <td>NaN</td>\n",
              "      <td>NaN</td>\n",
              "      <td>45.187500</td>\n",
              "      <td>1.004906</td>\n",
              "    </tr>\n",
              "    <tr>\n",
              "      <th>1993-04</th>\n",
              "      <td>NaN</td>\n",
              "      <td>NaN</td>\n",
              "      <td>NaN</td>\n",
              "      <td>NaN</td>\n",
              "      <td>44.031250</td>\n",
              "      <td>1.007309</td>\n",
              "    </tr>\n",
              "    <tr>\n",
              "      <th>1993-05</th>\n",
              "      <td>NaN</td>\n",
              "      <td>NaN</td>\n",
              "      <td>NaN</td>\n",
              "      <td>NaN</td>\n",
              "      <td>45.218750</td>\n",
              "      <td>1.009794</td>\n",
              "    </tr>\n",
              "    <tr>\n",
              "      <th>1993-06</th>\n",
              "      <td>NaN</td>\n",
              "      <td>NaN</td>\n",
              "      <td>NaN</td>\n",
              "      <td>NaN</td>\n",
              "      <td>45.062500</td>\n",
              "      <td>1.012377</td>\n",
              "    </tr>\n",
              "    <tr>\n",
              "      <th>...</th>\n",
              "      <td>...</td>\n",
              "      <td>...</td>\n",
              "      <td>...</td>\n",
              "      <td>...</td>\n",
              "      <td>...</td>\n",
              "      <td>...</td>\n",
              "    </tr>\n",
              "    <tr>\n",
              "      <th>2021-09</th>\n",
              "      <td>50.380001</td>\n",
              "      <td>164.220001</td>\n",
              "      <td>133.029999</td>\n",
              "      <td>357.959991</td>\n",
              "      <td>429.140015</td>\n",
              "      <td>1.912639</td>\n",
              "    </tr>\n",
              "    <tr>\n",
              "      <th>2021-10</th>\n",
              "      <td>50.919998</td>\n",
              "      <td>166.649994</td>\n",
              "      <td>133.479996</td>\n",
              "      <td>386.109985</td>\n",
              "      <td>459.250000</td>\n",
              "      <td>1.912718</td>\n",
              "    </tr>\n",
              "    <tr>\n",
              "      <th>2021-11</th>\n",
              "      <td>48.840000</td>\n",
              "      <td>165.500000</td>\n",
              "      <td>133.059998</td>\n",
              "      <td>393.820007</td>\n",
              "      <td>455.559998</td>\n",
              "      <td>1.912798</td>\n",
              "    </tr>\n",
              "    <tr>\n",
              "      <th>2021-12</th>\n",
              "      <td>48.849998</td>\n",
              "      <td>170.960007</td>\n",
              "      <td>132.520004</td>\n",
              "      <td>397.850006</td>\n",
              "      <td>474.959991</td>\n",
              "      <td>1.912894</td>\n",
              "    </tr>\n",
              "    <tr>\n",
              "      <th>2022-01</th>\n",
              "      <td>48.840000</td>\n",
              "      <td>168.089996</td>\n",
              "      <td>127.760002</td>\n",
              "      <td>363.049988</td>\n",
              "      <td>449.910004</td>\n",
              "      <td>1.913133</td>\n",
              "    </tr>\n",
              "  </tbody>\n",
              "</table>\n",
              "<p>348 rows × 6 columns</p>\n",
              "</div>\n",
              "      <button class=\"colab-df-convert\" onclick=\"convertToInteractive('df-d75b21a9-21d7-4e40-a49b-7dbb0b6dbd44')\"\n",
              "              title=\"Convert this dataframe to an interactive table.\"\n",
              "              style=\"display:none;\">\n",
              "        \n",
              "  <svg xmlns=\"http://www.w3.org/2000/svg\" height=\"24px\"viewBox=\"0 0 24 24\"\n",
              "       width=\"24px\">\n",
              "    <path d=\"M0 0h24v24H0V0z\" fill=\"none\"/>\n",
              "    <path d=\"M18.56 5.44l.94 2.06.94-2.06 2.06-.94-2.06-.94-.94-2.06-.94 2.06-2.06.94zm-11 1L8.5 8.5l.94-2.06 2.06-.94-2.06-.94L8.5 2.5l-.94 2.06-2.06.94zm10 10l.94 2.06.94-2.06 2.06-.94-2.06-.94-.94-2.06-.94 2.06-2.06.94z\"/><path d=\"M17.41 7.96l-1.37-1.37c-.4-.4-.92-.59-1.43-.59-.52 0-1.04.2-1.43.59L10.3 9.45l-7.72 7.72c-.78.78-.78 2.05 0 2.83L4 21.41c.39.39.9.59 1.41.59.51 0 1.02-.2 1.41-.59l7.78-7.78 2.81-2.81c.8-.78.8-2.07 0-2.86zM5.41 20L4 18.59l7.72-7.72 1.47 1.35L5.41 20z\"/>\n",
              "  </svg>\n",
              "      </button>\n",
              "      \n",
              "  <style>\n",
              "    .colab-df-container {\n",
              "      display:flex;\n",
              "      flex-wrap:wrap;\n",
              "      gap: 12px;\n",
              "    }\n",
              "\n",
              "    .colab-df-convert {\n",
              "      background-color: #E8F0FE;\n",
              "      border: none;\n",
              "      border-radius: 50%;\n",
              "      cursor: pointer;\n",
              "      display: none;\n",
              "      fill: #1967D2;\n",
              "      height: 32px;\n",
              "      padding: 0 0 0 0;\n",
              "      width: 32px;\n",
              "    }\n",
              "\n",
              "    .colab-df-convert:hover {\n",
              "      background-color: #E2EBFA;\n",
              "      box-shadow: 0px 1px 2px rgba(60, 64, 67, 0.3), 0px 1px 3px 1px rgba(60, 64, 67, 0.15);\n",
              "      fill: #174EA6;\n",
              "    }\n",
              "\n",
              "    [theme=dark] .colab-df-convert {\n",
              "      background-color: #3B4455;\n",
              "      fill: #D2E3FC;\n",
              "    }\n",
              "\n",
              "    [theme=dark] .colab-df-convert:hover {\n",
              "      background-color: #434B5C;\n",
              "      box-shadow: 0px 1px 3px 1px rgba(0, 0, 0, 0.15);\n",
              "      filter: drop-shadow(0px 1px 2px rgba(0, 0, 0, 0.3));\n",
              "      fill: #FFFFFF;\n",
              "    }\n",
              "  </style>\n",
              "\n",
              "      <script>\n",
              "        const buttonEl =\n",
              "          document.querySelector('#df-d75b21a9-21d7-4e40-a49b-7dbb0b6dbd44 button.colab-df-convert');\n",
              "        buttonEl.style.display =\n",
              "          google.colab.kernel.accessAllowed ? 'block' : 'none';\n",
              "\n",
              "        async function convertToInteractive(key) {\n",
              "          const element = document.querySelector('#df-d75b21a9-21d7-4e40-a49b-7dbb0b6dbd44');\n",
              "          const dataTable =\n",
              "            await google.colab.kernel.invokeFunction('convertToInteractive',\n",
              "                                                     [key], {});\n",
              "          if (!dataTable) return;\n",
              "\n",
              "          const docLinkHtml = 'Like what you see? Visit the ' +\n",
              "            '<a target=\"_blank\" href=https://colab.research.google.com/notebooks/data_table.ipynb>data table notebook</a>'\n",
              "            + ' to learn more about interactive tables.';\n",
              "          element.innerHTML = '';\n",
              "          dataTable['output_type'] = 'display_data';\n",
              "          await google.colab.output.renderOutput(dataTable, element);\n",
              "          const docLink = document.createElement('div');\n",
              "          docLink.innerHTML = docLinkHtml;\n",
              "          element.appendChild(docLink);\n",
              "        }\n",
              "      </script>\n",
              "    </div>\n",
              "  </div>\n",
              "  "
            ],
            "text/plain": [
              "               EEM         GLD         LQD         QQQ         SPY     TB3MS\n",
              "Date                                                                        \n",
              "1993-02        NaN         NaN         NaN         NaN   44.406250  1.002442\n",
              "1993-03        NaN         NaN         NaN         NaN   45.187500  1.004906\n",
              "1993-04        NaN         NaN         NaN         NaN   44.031250  1.007309\n",
              "1993-05        NaN         NaN         NaN         NaN   45.218750  1.009794\n",
              "1993-06        NaN         NaN         NaN         NaN   45.062500  1.012377\n",
              "...            ...         ...         ...         ...         ...       ...\n",
              "2021-09  50.380001  164.220001  133.029999  357.959991  429.140015  1.912639\n",
              "2021-10  50.919998  166.649994  133.479996  386.109985  459.250000  1.912718\n",
              "2021-11  48.840000  165.500000  133.059998  393.820007  455.559998  1.912798\n",
              "2021-12  48.849998  170.960007  132.520004  397.850006  474.959991  1.912894\n",
              "2022-01  48.840000  168.089996  127.760002  363.049988  449.910004  1.913133\n",
              "\n",
              "[348 rows x 6 columns]"
            ]
          },
          "metadata": {},
          "execution_count": 18
        }
      ]
    },
    {
      "cell_type": "markdown",
      "metadata": {
        "id": "a2QbLZh3hy2t"
      },
      "source": [
        "# calculate ror and find winners"
      ]
    },
    {
      "cell_type": "code",
      "source": [
        "exclude_period, look_back = 3, 12"
      ],
      "metadata": {
        "id": "aOwwbDCx6QZ3"
      },
      "execution_count": 19,
      "outputs": []
    },
    {
      "cell_type": "code",
      "source": [
        "ror_df = closes_df.apply(lambda x: round((x.shift(exclude_period) - x.shift(look_back)) / x.shift(look_back), 4), axis=0)"
      ],
      "metadata": {
        "id": "PBrif83apBmx"
      },
      "execution_count": 20,
      "outputs": []
    },
    {
      "cell_type": "code",
      "source": [
        "ror_df"
      ],
      "metadata": {
        "colab": {
          "base_uri": "https://localhost:8080/",
          "height": 455
        },
        "id": "CdvYWSQP7fLk",
        "outputId": "dd581a26-9b9c-4ec1-c85e-01cb1c4bbfbd"
      },
      "execution_count": 21,
      "outputs": [
        {
          "output_type": "execute_result",
          "data": {
            "text/html": [
              "\n",
              "  <div id=\"df-5d02e514-015b-4323-b8a9-fdd98127845d\">\n",
              "    <div class=\"colab-df-container\">\n",
              "      <div>\n",
              "<style scoped>\n",
              "    .dataframe tbody tr th:only-of-type {\n",
              "        vertical-align: middle;\n",
              "    }\n",
              "\n",
              "    .dataframe tbody tr th {\n",
              "        vertical-align: top;\n",
              "    }\n",
              "\n",
              "    .dataframe thead th {\n",
              "        text-align: right;\n",
              "    }\n",
              "</style>\n",
              "<table border=\"1\" class=\"dataframe\">\n",
              "  <thead>\n",
              "    <tr style=\"text-align: right;\">\n",
              "      <th></th>\n",
              "      <th>EEM</th>\n",
              "      <th>GLD</th>\n",
              "      <th>LQD</th>\n",
              "      <th>QQQ</th>\n",
              "      <th>SPY</th>\n",
              "      <th>TB3MS</th>\n",
              "    </tr>\n",
              "    <tr>\n",
              "      <th>Date</th>\n",
              "      <th></th>\n",
              "      <th></th>\n",
              "      <th></th>\n",
              "      <th></th>\n",
              "      <th></th>\n",
              "      <th></th>\n",
              "    </tr>\n",
              "  </thead>\n",
              "  <tbody>\n",
              "    <tr>\n",
              "      <th>1993-02</th>\n",
              "      <td>NaN</td>\n",
              "      <td>NaN</td>\n",
              "      <td>NaN</td>\n",
              "      <td>NaN</td>\n",
              "      <td>NaN</td>\n",
              "      <td>NaN</td>\n",
              "    </tr>\n",
              "    <tr>\n",
              "      <th>1993-03</th>\n",
              "      <td>NaN</td>\n",
              "      <td>NaN</td>\n",
              "      <td>NaN</td>\n",
              "      <td>NaN</td>\n",
              "      <td>NaN</td>\n",
              "      <td>NaN</td>\n",
              "    </tr>\n",
              "    <tr>\n",
              "      <th>1993-04</th>\n",
              "      <td>NaN</td>\n",
              "      <td>NaN</td>\n",
              "      <td>NaN</td>\n",
              "      <td>NaN</td>\n",
              "      <td>NaN</td>\n",
              "      <td>NaN</td>\n",
              "    </tr>\n",
              "    <tr>\n",
              "      <th>1993-05</th>\n",
              "      <td>NaN</td>\n",
              "      <td>NaN</td>\n",
              "      <td>NaN</td>\n",
              "      <td>NaN</td>\n",
              "      <td>NaN</td>\n",
              "      <td>NaN</td>\n",
              "    </tr>\n",
              "    <tr>\n",
              "      <th>1993-06</th>\n",
              "      <td>NaN</td>\n",
              "      <td>NaN</td>\n",
              "      <td>NaN</td>\n",
              "      <td>NaN</td>\n",
              "      <td>NaN</td>\n",
              "      <td>NaN</td>\n",
              "    </tr>\n",
              "    <tr>\n",
              "      <th>...</th>\n",
              "      <td>...</td>\n",
              "      <td>...</td>\n",
              "      <td>...</td>\n",
              "      <td>...</td>\n",
              "      <td>...</td>\n",
              "      <td>...</td>\n",
              "    </tr>\n",
              "    <tr>\n",
              "      <th>2021-09</th>\n",
              "      <td>0.2509</td>\n",
              "      <td>-0.0649</td>\n",
              "      <td>-0.0026</td>\n",
              "      <td>0.2757</td>\n",
              "      <td>0.2782</td>\n",
              "      <td>0.0004</td>\n",
              "    </tr>\n",
              "    <tr>\n",
              "      <th>2021-10</th>\n",
              "      <td>0.1541</td>\n",
              "      <td>-0.0362</td>\n",
              "      <td>0.0170</td>\n",
              "      <td>0.3534</td>\n",
              "      <td>0.3429</td>\n",
              "      <td>0.0004</td>\n",
              "    </tr>\n",
              "    <tr>\n",
              "      <th>2021-11</th>\n",
              "      <td>0.0755</td>\n",
              "      <td>0.0181</td>\n",
              "      <td>-0.0230</td>\n",
              "      <td>0.2681</td>\n",
              "      <td>0.2472</td>\n",
              "      <td>0.0004</td>\n",
              "    </tr>\n",
              "    <tr>\n",
              "      <th>2021-12</th>\n",
              "      <td>-0.0250</td>\n",
              "      <td>-0.0793</td>\n",
              "      <td>-0.0369</td>\n",
              "      <td>0.1409</td>\n",
              "      <td>0.1478</td>\n",
              "      <td>0.0003</td>\n",
              "    </tr>\n",
              "    <tr>\n",
              "      <th>2022-01</th>\n",
              "      <td>-0.0448</td>\n",
              "      <td>-0.0345</td>\n",
              "      <td>-0.0156</td>\n",
              "      <td>0.2275</td>\n",
              "      <td>0.2410</td>\n",
              "      <td>0.0003</td>\n",
              "    </tr>\n",
              "  </tbody>\n",
              "</table>\n",
              "<p>348 rows × 6 columns</p>\n",
              "</div>\n",
              "      <button class=\"colab-df-convert\" onclick=\"convertToInteractive('df-5d02e514-015b-4323-b8a9-fdd98127845d')\"\n",
              "              title=\"Convert this dataframe to an interactive table.\"\n",
              "              style=\"display:none;\">\n",
              "        \n",
              "  <svg xmlns=\"http://www.w3.org/2000/svg\" height=\"24px\"viewBox=\"0 0 24 24\"\n",
              "       width=\"24px\">\n",
              "    <path d=\"M0 0h24v24H0V0z\" fill=\"none\"/>\n",
              "    <path d=\"M18.56 5.44l.94 2.06.94-2.06 2.06-.94-2.06-.94-.94-2.06-.94 2.06-2.06.94zm-11 1L8.5 8.5l.94-2.06 2.06-.94-2.06-.94L8.5 2.5l-.94 2.06-2.06.94zm10 10l.94 2.06.94-2.06 2.06-.94-2.06-.94-.94-2.06-.94 2.06-2.06.94z\"/><path d=\"M17.41 7.96l-1.37-1.37c-.4-.4-.92-.59-1.43-.59-.52 0-1.04.2-1.43.59L10.3 9.45l-7.72 7.72c-.78.78-.78 2.05 0 2.83L4 21.41c.39.39.9.59 1.41.59.51 0 1.02-.2 1.41-.59l7.78-7.78 2.81-2.81c.8-.78.8-2.07 0-2.86zM5.41 20L4 18.59l7.72-7.72 1.47 1.35L5.41 20z\"/>\n",
              "  </svg>\n",
              "      </button>\n",
              "      \n",
              "  <style>\n",
              "    .colab-df-container {\n",
              "      display:flex;\n",
              "      flex-wrap:wrap;\n",
              "      gap: 12px;\n",
              "    }\n",
              "\n",
              "    .colab-df-convert {\n",
              "      background-color: #E8F0FE;\n",
              "      border: none;\n",
              "      border-radius: 50%;\n",
              "      cursor: pointer;\n",
              "      display: none;\n",
              "      fill: #1967D2;\n",
              "      height: 32px;\n",
              "      padding: 0 0 0 0;\n",
              "      width: 32px;\n",
              "    }\n",
              "\n",
              "    .colab-df-convert:hover {\n",
              "      background-color: #E2EBFA;\n",
              "      box-shadow: 0px 1px 2px rgba(60, 64, 67, 0.3), 0px 1px 3px 1px rgba(60, 64, 67, 0.15);\n",
              "      fill: #174EA6;\n",
              "    }\n",
              "\n",
              "    [theme=dark] .colab-df-convert {\n",
              "      background-color: #3B4455;\n",
              "      fill: #D2E3FC;\n",
              "    }\n",
              "\n",
              "    [theme=dark] .colab-df-convert:hover {\n",
              "      background-color: #434B5C;\n",
              "      box-shadow: 0px 1px 3px 1px rgba(0, 0, 0, 0.15);\n",
              "      filter: drop-shadow(0px 1px 2px rgba(0, 0, 0, 0.3));\n",
              "      fill: #FFFFFF;\n",
              "    }\n",
              "  </style>\n",
              "\n",
              "      <script>\n",
              "        const buttonEl =\n",
              "          document.querySelector('#df-5d02e514-015b-4323-b8a9-fdd98127845d button.colab-df-convert');\n",
              "        buttonEl.style.display =\n",
              "          google.colab.kernel.accessAllowed ? 'block' : 'none';\n",
              "\n",
              "        async function convertToInteractive(key) {\n",
              "          const element = document.querySelector('#df-5d02e514-015b-4323-b8a9-fdd98127845d');\n",
              "          const dataTable =\n",
              "            await google.colab.kernel.invokeFunction('convertToInteractive',\n",
              "                                                     [key], {});\n",
              "          if (!dataTable) return;\n",
              "\n",
              "          const docLinkHtml = 'Like what you see? Visit the ' +\n",
              "            '<a target=\"_blank\" href=https://colab.research.google.com/notebooks/data_table.ipynb>data table notebook</a>'\n",
              "            + ' to learn more about interactive tables.';\n",
              "          element.innerHTML = '';\n",
              "          dataTable['output_type'] = 'display_data';\n",
              "          await google.colab.output.renderOutput(dataTable, element);\n",
              "          const docLink = document.createElement('div');\n",
              "          docLink.innerHTML = docLinkHtml;\n",
              "          element.appendChild(docLink);\n",
              "        }\n",
              "      </script>\n",
              "    </div>\n",
              "  </div>\n",
              "  "
            ],
            "text/plain": [
              "            EEM     GLD     LQD     QQQ     SPY   TB3MS\n",
              "Date                                                   \n",
              "1993-02     NaN     NaN     NaN     NaN     NaN     NaN\n",
              "1993-03     NaN     NaN     NaN     NaN     NaN     NaN\n",
              "1993-04     NaN     NaN     NaN     NaN     NaN     NaN\n",
              "1993-05     NaN     NaN     NaN     NaN     NaN     NaN\n",
              "1993-06     NaN     NaN     NaN     NaN     NaN     NaN\n",
              "...         ...     ...     ...     ...     ...     ...\n",
              "2021-09  0.2509 -0.0649 -0.0026  0.2757  0.2782  0.0004\n",
              "2021-10  0.1541 -0.0362  0.0170  0.3534  0.3429  0.0004\n",
              "2021-11  0.0755  0.0181 -0.0230  0.2681  0.2472  0.0004\n",
              "2021-12 -0.0250 -0.0793 -0.0369  0.1409  0.1478  0.0003\n",
              "2022-01 -0.0448 -0.0345 -0.0156  0.2275  0.2410  0.0003\n",
              "\n",
              "[348 rows x 6 columns]"
            ]
          },
          "metadata": {},
          "execution_count": 21
        }
      ]
    },
    {
      "cell_type": "code",
      "source": [
        "winners = ror_df.idxmax(axis=1)"
      ],
      "metadata": {
        "id": "hi7Jr6uD8cfP"
      },
      "execution_count": 22,
      "outputs": []
    },
    {
      "cell_type": "code",
      "source": [
        "winners[:look_back] = risk_free_asset"
      ],
      "metadata": {
        "id": "3k4OT_xR6JP8"
      },
      "execution_count": 23,
      "outputs": []
    },
    {
      "cell_type": "code",
      "source": [
        "winners = winners.to_numpy()"
      ],
      "metadata": {
        "id": "zz-B5S-YLi_W"
      },
      "execution_count": 24,
      "outputs": []
    },
    {
      "cell_type": "code",
      "source": [
        "winners"
      ],
      "metadata": {
        "colab": {
          "base_uri": "https://localhost:8080/"
        },
        "id": "jZCPsBcgL3ln",
        "outputId": "7361dac2-2999-4edb-9b35-486756c4b48c"
      },
      "execution_count": 25,
      "outputs": [
        {
          "output_type": "execute_result",
          "data": {
            "text/plain": [
              "array(['TB3MS', 'TB3MS', 'TB3MS', 'TB3MS', 'TB3MS', 'TB3MS', 'TB3MS',\n",
              "       'TB3MS', 'TB3MS', 'TB3MS', 'TB3MS', 'TB3MS', 'SPY', 'SPY', 'SPY',\n",
              "       'SPY', 'TB3MS', 'TB3MS', 'TB3MS', 'TB3MS', 'TB3MS', 'SPY', 'TB3MS',\n",
              "       'TB3MS', 'TB3MS', 'TB3MS', 'SPY', 'SPY', 'SPY', 'SPY', 'SPY',\n",
              "       'SPY', 'SPY', 'SPY', 'SPY', 'SPY', 'SPY', 'SPY', 'SPY', 'SPY',\n",
              "       'SPY', 'SPY', 'SPY', 'SPY', 'SPY', 'SPY', 'SPY', 'SPY', 'SPY',\n",
              "       'SPY', 'SPY', 'SPY', 'SPY', 'SPY', 'SPY', 'SPY', 'SPY', 'SPY',\n",
              "       'SPY', 'SPY', 'SPY', 'SPY', 'SPY', 'SPY', 'SPY', 'SPY', 'SPY',\n",
              "       'SPY', 'SPY', 'TB3MS', 'SPY', 'SPY', 'SPY', 'SPY', 'SPY', 'SPY',\n",
              "       'SPY', 'SPY', 'SPY', 'SPY', 'SPY', 'SPY', 'SPY', 'SPY', 'SPY',\n",
              "       'SPY', 'QQQ', 'QQQ', 'QQQ', 'QQQ', 'QQQ', 'QQQ', 'QQQ', 'QQQ',\n",
              "       'TB3MS', 'TB3MS', 'TB3MS', 'TB3MS', 'TB3MS', 'TB3MS', 'TB3MS',\n",
              "       'TB3MS', 'TB3MS', 'TB3MS', 'TB3MS', 'TB3MS', 'TB3MS', 'TB3MS',\n",
              "       'TB3MS', 'TB3MS', 'TB3MS', 'TB3MS', 'TB3MS', 'TB3MS', 'TB3MS',\n",
              "       'TB3MS', 'TB3MS', 'TB3MS', 'TB3MS', 'TB3MS', 'TB3MS', 'TB3MS',\n",
              "       'TB3MS', 'TB3MS', 'TB3MS', 'QQQ', 'QQQ', 'QQQ', 'QQQ', 'QQQ',\n",
              "       'QQQ', 'QQQ', 'QQQ', 'QQQ', 'QQQ', 'EEM', 'EEM', 'EEM', 'EEM',\n",
              "       'EEM', 'SPY', 'EEM', 'EEM', 'EEM', 'EEM', 'EEM', 'EEM', 'EEM',\n",
              "       'EEM', 'EEM', 'EEM', 'EEM', 'EEM', 'EEM', 'EEM', 'EEM', 'EEM',\n",
              "       'EEM', 'EEM', 'EEM', 'EEM', 'GLD', 'GLD', 'GLD', 'GLD', 'GLD',\n",
              "       'GLD', 'SPY', 'GLD', 'EEM', 'SPY', 'EEM', 'EEM', 'EEM', 'EEM',\n",
              "       'EEM', 'EEM', 'EEM', 'EEM', 'EEM', 'EEM', 'EEM', 'GLD', 'GLD',\n",
              "       'GLD', 'GLD', 'GLD', 'GLD', 'GLD', 'GLD', 'GLD', 'TB3MS', 'TB3MS',\n",
              "       'TB3MS', 'GLD', 'GLD', 'TB3MS', 'TB3MS', 'GLD', 'LQD', 'EEM',\n",
              "       'EEM', 'EEM', 'EEM', 'EEM', 'EEM', 'EEM', 'QQQ', 'QQQ', 'QQQ',\n",
              "       'GLD', 'GLD', 'GLD', 'GLD', 'GLD', 'GLD', 'GLD', 'GLD', 'QQQ',\n",
              "       'QQQ', 'QQQ', 'GLD', 'QQQ', 'QQQ', 'GLD', 'GLD', 'GLD', 'GLD',\n",
              "       'GLD', 'GLD', 'GLD', 'QQQ', 'QQQ', 'QQQ', 'QQQ', 'QQQ', 'QQQ',\n",
              "       'QQQ', 'QQQ', 'SPY', 'LQD', 'LQD', 'SPY', 'SPY', 'SPY', 'SPY',\n",
              "       'SPY', 'SPY', 'SPY', 'SPY', 'QQQ', 'QQQ', 'QQQ', 'QQQ', 'QQQ',\n",
              "       'QQQ', 'QQQ', 'QQQ', 'QQQ', 'QQQ', 'QQQ', 'QQQ', 'QQQ', 'QQQ',\n",
              "       'QQQ', 'QQQ', 'QQQ', 'QQQ', 'QQQ', 'QQQ', 'QQQ', 'QQQ', 'QQQ',\n",
              "       'TB3MS', 'TB3MS', 'QQQ', 'QQQ', 'QQQ', 'TB3MS', 'GLD', 'GLD',\n",
              "       'GLD', 'GLD', 'GLD', 'GLD', 'GLD', 'GLD', 'EEM', 'EEM', 'SPY',\n",
              "       'QQQ', 'QQQ', 'QQQ', 'QQQ', 'QQQ', 'QQQ', 'QQQ', 'EEM', 'EEM',\n",
              "       'EEM', 'EEM', 'EEM', 'EEM', 'QQQ', 'EEM', 'QQQ', 'QQQ', 'QQQ',\n",
              "       'QQQ', 'QQQ', 'QQQ', 'TB3MS', 'TB3MS', 'TB3MS', 'QQQ', 'SPY',\n",
              "       'QQQ', 'QQQ', 'GLD', 'GLD', 'GLD', 'GLD', 'QQQ', 'QQQ', 'QQQ',\n",
              "       'QQQ', 'GLD', 'GLD', 'GLD', 'GLD', 'QQQ', 'QQQ', 'QQQ', 'QQQ',\n",
              "       'QQQ', 'QQQ', 'QQQ', 'QQQ', 'EEM', 'EEM', 'EEM', 'SPY', 'EEM',\n",
              "       'SPY', 'QQQ', 'QQQ', 'SPY', 'SPY'], dtype=object)"
            ]
          },
          "metadata": {},
          "execution_count": 25
        }
      ]
    },
    {
      "cell_type": "code",
      "source": [
        "masking = np.roll(winners, 1) != winners"
      ],
      "metadata": {
        "id": "I_JZVjN4MXEw"
      },
      "execution_count": 26,
      "outputs": []
    },
    {
      "cell_type": "code",
      "source": [
        "buy_tickers = winners[masking]"
      ],
      "metadata": {
        "id": "_Ef-chR2WOwm"
      },
      "execution_count": 27,
      "outputs": []
    },
    {
      "cell_type": "code",
      "source": [
        "buy_tickers"
      ],
      "metadata": {
        "colab": {
          "base_uri": "https://localhost:8080/"
        },
        "id": "o7nN76GA-LRx",
        "outputId": "923b851c-49f5-400f-848e-03a3618569ef"
      },
      "execution_count": 28,
      "outputs": [
        {
          "output_type": "execute_result",
          "data": {
            "text/plain": [
              "array(['TB3MS', 'SPY', 'TB3MS', 'SPY', 'TB3MS', 'SPY', 'TB3MS', 'SPY',\n",
              "       'QQQ', 'TB3MS', 'QQQ', 'EEM', 'SPY', 'EEM', 'GLD', 'SPY', 'GLD',\n",
              "       'EEM', 'SPY', 'EEM', 'GLD', 'TB3MS', 'GLD', 'TB3MS', 'GLD', 'LQD',\n",
              "       'EEM', 'QQQ', 'GLD', 'QQQ', 'GLD', 'QQQ', 'GLD', 'QQQ', 'SPY',\n",
              "       'LQD', 'SPY', 'QQQ', 'TB3MS', 'QQQ', 'TB3MS', 'GLD', 'EEM', 'SPY',\n",
              "       'QQQ', 'EEM', 'QQQ', 'EEM', 'QQQ', 'TB3MS', 'QQQ', 'SPY', 'QQQ',\n",
              "       'GLD', 'QQQ', 'GLD', 'QQQ', 'EEM', 'SPY', 'EEM', 'SPY', 'QQQ',\n",
              "       'SPY'], dtype=object)"
            ]
          },
          "metadata": {},
          "execution_count": 28
        }
      ]
    },
    {
      "cell_type": "code",
      "source": [
        "buy_indices = np.where(masking)[0]"
      ],
      "metadata": {
        "id": "AjLRFmwkXJ-V"
      },
      "execution_count": 29,
      "outputs": []
    },
    {
      "cell_type": "code",
      "source": [
        "buy_indices, len(buy_indices)"
      ],
      "metadata": {
        "colab": {
          "base_uri": "https://localhost:8080/"
        },
        "id": "tXF3ITz5-E7q",
        "outputId": "a746519e-dd87-442f-e0dd-b806b9008840"
      },
      "execution_count": 30,
      "outputs": [
        {
          "output_type": "execute_result",
          "data": {
            "text/plain": [
              "(array([  0,  12,  16,  21,  22,  26,  69,  70,  86,  94, 125, 135, 140,\n",
              "        141, 161, 167, 168, 169, 170, 171, 182, 191, 194, 196, 198, 199,\n",
              "        200, 207, 210, 218, 221, 222, 224, 231, 239, 240, 242, 250, 273,\n",
              "        275, 278, 279, 287, 289, 290, 297, 303, 304, 305, 311, 314, 315,\n",
              "        316, 318, 322, 326, 330, 338, 341, 342, 343, 344, 346]), 63)"
            ]
          },
          "metadata": {},
          "execution_count": 30
        }
      ]
    },
    {
      "cell_type": "markdown",
      "source": [
        "# transaction history (accessing df)"
      ],
      "metadata": {
        "id": "mgF2DV1hdWjZ"
      }
    },
    {
      "cell_type": "code",
      "source": [
        "stamp = time.time()\n",
        "holdings = deque([])\n",
        "transactions = []\n",
        "for ticker, index in zip(buy_tickers, buy_indices):\n",
        "  date_ = closes_df.index[index]\n",
        "  price_ = closes_df[ticker][index]\n",
        "  new_buy = {\"ticker\": ticker, \"buy_date\": date_, \"buy_price\": price_}\n",
        "  if len(holdings):\n",
        "    # pop existing one\n",
        "    new_sell = holdings.popleft()\n",
        "    new_sell[\"sell_date\"] = date_\n",
        "    new_sell[\"sell_price\"] = closes_df[new_sell[\"ticker\"]][index]\n",
        "    new_sell[\"ror\"] = (new_sell[\"sell_price\"] - new_sell[\"buy_price\"]) / new_sell[\"buy_price\"] + 1\n",
        "    transactions.append(new_sell)\n",
        "  # add new ticker\n",
        "  holdings.append(new_buy)\n",
        "print(time.time()-stamp)"
      ],
      "metadata": {
        "id": "TDvVr4giYUdK",
        "colab": {
          "base_uri": "https://localhost:8080/"
        },
        "outputId": "8e391eb9-5e7a-411f-928c-3cc7f3bad4f2"
      },
      "execution_count": 31,
      "outputs": [
        {
          "output_type": "stream",
          "name": "stdout",
          "text": [
            "0.00257110595703125\n"
          ]
        }
      ]
    },
    {
      "cell_type": "code",
      "source": [
        "len(transactions), np.prod(list(map(lambda x: x[\"ror\"], transactions)))"
      ],
      "metadata": {
        "colab": {
          "base_uri": "https://localhost:8080/"
        },
        "id": "ig_rwwgl5SAY",
        "outputId": "f367824e-b80d-4784-b052-c76bb169aa3e"
      },
      "execution_count": 32,
      "outputs": [
        {
          "output_type": "execute_result",
          "data": {
            "text/plain": [
              "(62, 17.656100336254294)"
            ]
          },
          "metadata": {},
          "execution_count": 32
        }
      ]
    },
    {
      "cell_type": "markdown",
      "source": [
        "# transactions history (itertuples)"
      ],
      "metadata": {
        "id": "Upi2XUhYNGMO"
      }
    },
    {
      "cell_type": "code",
      "source": [
        "stamp = time.time()\n",
        "holdings = deque([])\n",
        "transactions = []\n",
        "for row, ticker in zip(closes_df[masking].itertuples(), buy_tickers):\n",
        "  new_buy = {\"ticker\": ticker, \"buy_date\": row.Index, \"buy_price\": getattr(row, ticker)}\n",
        "  if len(holdings):\n",
        "    # pop existing one\n",
        "    new_sell = holdings.popleft()\n",
        "    new_sell[\"sell_date\"] = row.Index\n",
        "    new_sell[\"sell_price\"] = getattr(row, new_sell[\"ticker\"])\n",
        "    new_sell[\"ror\"] = (new_sell[\"sell_price\"] - new_sell[\"buy_price\"]) / new_sell[\"buy_price\"] + 1\n",
        "    transactions.append(new_sell)\n",
        "  # add new ticker\n",
        "  holdings.append(new_buy)\n",
        "print(time.time()-stamp)"
      ],
      "metadata": {
        "colab": {
          "base_uri": "https://localhost:8080/"
        },
        "id": "vW5XvjylUDyJ",
        "outputId": "5e86dd6f-a935-4877-d487-e7d971b140b6"
      },
      "execution_count": 33,
      "outputs": [
        {
          "output_type": "stream",
          "name": "stdout",
          "text": [
            "0.0024394989013671875\n"
          ]
        }
      ]
    },
    {
      "cell_type": "code",
      "source": [
        "len(transactions), np.prod(list(map(lambda x: x[\"ror\"], transactions)))"
      ],
      "metadata": {
        "colab": {
          "base_uri": "https://localhost:8080/"
        },
        "id": "QcRp76IxROba",
        "outputId": "08e39370-6d48-4217-a698-43a0c1fb7607"
      },
      "execution_count": 34,
      "outputs": [
        {
          "output_type": "execute_result",
          "data": {
            "text/plain": [
              "(62, 17.656100336254294)"
            ]
          },
          "metadata": {},
          "execution_count": 34
        }
      ]
    },
    {
      "cell_type": "code",
      "source": [
        "# transactions"
      ],
      "metadata": {
        "id": "62UMD6kxX77S"
      },
      "execution_count": 35,
      "outputs": []
    },
    {
      "cell_type": "code",
      "source": [
        "holding = holdings.pop()\n",
        "holding[\"up_to_date\"] = closes_df.index[-1]\n",
        "holding[\"current_price\"] = closes_df[holding[\"ticker\"]][-1]\n",
        "holding[\"ror\"] = (holding[\"current_price\"] - holding[\"buy_price\"]) / holding[\"buy_price\"] + 1\n",
        "transactions.append(holding)"
      ],
      "metadata": {
        "id": "tLFrYfFrvYfK"
      },
      "execution_count": 36,
      "outputs": []
    },
    {
      "cell_type": "code",
      "source": [
        "# transactions"
      ],
      "metadata": {
        "id": "OS0Y2_l0yemQ"
      },
      "execution_count": 37,
      "outputs": []
    },
    {
      "cell_type": "code",
      "source": [
        "len(transactions), np.prod(list(map(lambda x: x[\"ror\"], transactions)))"
      ],
      "metadata": {
        "id": "MWhAg0E8y6bS",
        "outputId": "734e9641-79b6-45a9-e1ff-96d3d9e0476a",
        "colab": {
          "base_uri": "https://localhost:8080/"
        }
      },
      "execution_count": 38,
      "outputs": [
        {
          "output_type": "execute_result",
          "data": {
            "text/plain": [
              "(63, 16.724895380359744)"
            ]
          },
          "metadata": {},
          "execution_count": 38
        }
      ]
    },
    {
      "cell_type": "markdown",
      "source": [
        "# normalized closes"
      ],
      "metadata": {
        "id": "AVvMo2Lj-cgk"
      }
    },
    {
      "cell_type": "code",
      "source": [
        "mrr_df = closes_df.apply(lambda x: round((x.shift(-1) - x) / x, 6) + 1, axis=0)"
      ],
      "metadata": {
        "id": "60GjU2GyI7-6"
      },
      "execution_count": 39,
      "outputs": []
    },
    {
      "cell_type": "code",
      "source": [
        "mrr_df.drop(mrr_df.tail(1).index, inplace=True)"
      ],
      "metadata": {
        "id": "I_G2OFL8ZeB-"
      },
      "execution_count": 40,
      "outputs": []
    },
    {
      "cell_type": "code",
      "source": [
        "mrr_df"
      ],
      "metadata": {
        "colab": {
          "base_uri": "https://localhost:8080/",
          "height": 455
        },
        "id": "RlBKpJHaucQC",
        "outputId": "36422a1f-b6db-466f-fa30-863ef8ecb40c"
      },
      "execution_count": 41,
      "outputs": [
        {
          "output_type": "execute_result",
          "data": {
            "text/html": [
              "\n",
              "  <div id=\"df-483d0bdc-a3fb-4659-a9c5-b3475b8fcc7d\">\n",
              "    <div class=\"colab-df-container\">\n",
              "      <div>\n",
              "<style scoped>\n",
              "    .dataframe tbody tr th:only-of-type {\n",
              "        vertical-align: middle;\n",
              "    }\n",
              "\n",
              "    .dataframe tbody tr th {\n",
              "        vertical-align: top;\n",
              "    }\n",
              "\n",
              "    .dataframe thead th {\n",
              "        text-align: right;\n",
              "    }\n",
              "</style>\n",
              "<table border=\"1\" class=\"dataframe\">\n",
              "  <thead>\n",
              "    <tr style=\"text-align: right;\">\n",
              "      <th></th>\n",
              "      <th>EEM</th>\n",
              "      <th>GLD</th>\n",
              "      <th>LQD</th>\n",
              "      <th>QQQ</th>\n",
              "      <th>SPY</th>\n",
              "      <th>TB3MS</th>\n",
              "    </tr>\n",
              "    <tr>\n",
              "      <th>Date</th>\n",
              "      <th></th>\n",
              "      <th></th>\n",
              "      <th></th>\n",
              "      <th></th>\n",
              "      <th></th>\n",
              "      <th></th>\n",
              "    </tr>\n",
              "  </thead>\n",
              "  <tbody>\n",
              "    <tr>\n",
              "      <th>1993-02</th>\n",
              "      <td>NaN</td>\n",
              "      <td>NaN</td>\n",
              "      <td>NaN</td>\n",
              "      <td>NaN</td>\n",
              "      <td>1.017593</td>\n",
              "      <td>1.002458</td>\n",
              "    </tr>\n",
              "    <tr>\n",
              "      <th>1993-03</th>\n",
              "      <td>NaN</td>\n",
              "      <td>NaN</td>\n",
              "      <td>NaN</td>\n",
              "      <td>NaN</td>\n",
              "      <td>0.974412</td>\n",
              "      <td>1.002392</td>\n",
              "    </tr>\n",
              "    <tr>\n",
              "      <th>1993-04</th>\n",
              "      <td>NaN</td>\n",
              "      <td>NaN</td>\n",
              "      <td>NaN</td>\n",
              "      <td>NaN</td>\n",
              "      <td>1.026969</td>\n",
              "      <td>1.002467</td>\n",
              "    </tr>\n",
              "    <tr>\n",
              "      <th>1993-05</th>\n",
              "      <td>NaN</td>\n",
              "      <td>NaN</td>\n",
              "      <td>NaN</td>\n",
              "      <td>NaN</td>\n",
              "      <td>0.996545</td>\n",
              "      <td>1.002558</td>\n",
              "    </tr>\n",
              "    <tr>\n",
              "      <th>1993-06</th>\n",
              "      <td>NaN</td>\n",
              "      <td>NaN</td>\n",
              "      <td>NaN</td>\n",
              "      <td>NaN</td>\n",
              "      <td>0.995146</td>\n",
              "      <td>1.002533</td>\n",
              "    </tr>\n",
              "    <tr>\n",
              "      <th>...</th>\n",
              "      <td>...</td>\n",
              "      <td>...</td>\n",
              "      <td>...</td>\n",
              "      <td>...</td>\n",
              "      <td>...</td>\n",
              "      <td>...</td>\n",
              "    </tr>\n",
              "    <tr>\n",
              "      <th>2021-08</th>\n",
              "      <td>0.961267</td>\n",
              "      <td>0.967765</td>\n",
              "      <td>0.983222</td>\n",
              "      <td>0.942124</td>\n",
              "      <td>0.950350</td>\n",
              "      <td>1.000033</td>\n",
              "    </tr>\n",
              "    <tr>\n",
              "      <th>2021-09</th>\n",
              "      <td>1.010718</td>\n",
              "      <td>1.014797</td>\n",
              "      <td>1.003383</td>\n",
              "      <td>1.078640</td>\n",
              "      <td>1.070164</td>\n",
              "      <td>1.000042</td>\n",
              "    </tr>\n",
              "    <tr>\n",
              "      <th>2021-10</th>\n",
              "      <td>0.959152</td>\n",
              "      <td>0.993099</td>\n",
              "      <td>0.996853</td>\n",
              "      <td>1.019968</td>\n",
              "      <td>0.991965</td>\n",
              "      <td>1.000042</td>\n",
              "    </tr>\n",
              "    <tr>\n",
              "      <th>2021-11</th>\n",
              "      <td>1.000205</td>\n",
              "      <td>1.032991</td>\n",
              "      <td>0.995942</td>\n",
              "      <td>1.010233</td>\n",
              "      <td>1.042585</td>\n",
              "      <td>1.000050</td>\n",
              "    </tr>\n",
              "    <tr>\n",
              "      <th>2021-12</th>\n",
              "      <td>0.999795</td>\n",
              "      <td>0.983212</td>\n",
              "      <td>0.964081</td>\n",
              "      <td>0.912530</td>\n",
              "      <td>0.947259</td>\n",
              "      <td>1.000125</td>\n",
              "    </tr>\n",
              "  </tbody>\n",
              "</table>\n",
              "<p>347 rows × 6 columns</p>\n",
              "</div>\n",
              "      <button class=\"colab-df-convert\" onclick=\"convertToInteractive('df-483d0bdc-a3fb-4659-a9c5-b3475b8fcc7d')\"\n",
              "              title=\"Convert this dataframe to an interactive table.\"\n",
              "              style=\"display:none;\">\n",
              "        \n",
              "  <svg xmlns=\"http://www.w3.org/2000/svg\" height=\"24px\"viewBox=\"0 0 24 24\"\n",
              "       width=\"24px\">\n",
              "    <path d=\"M0 0h24v24H0V0z\" fill=\"none\"/>\n",
              "    <path d=\"M18.56 5.44l.94 2.06.94-2.06 2.06-.94-2.06-.94-.94-2.06-.94 2.06-2.06.94zm-11 1L8.5 8.5l.94-2.06 2.06-.94-2.06-.94L8.5 2.5l-.94 2.06-2.06.94zm10 10l.94 2.06.94-2.06 2.06-.94-2.06-.94-.94-2.06-.94 2.06-2.06.94z\"/><path d=\"M17.41 7.96l-1.37-1.37c-.4-.4-.92-.59-1.43-.59-.52 0-1.04.2-1.43.59L10.3 9.45l-7.72 7.72c-.78.78-.78 2.05 0 2.83L4 21.41c.39.39.9.59 1.41.59.51 0 1.02-.2 1.41-.59l7.78-7.78 2.81-2.81c.8-.78.8-2.07 0-2.86zM5.41 20L4 18.59l7.72-7.72 1.47 1.35L5.41 20z\"/>\n",
              "  </svg>\n",
              "      </button>\n",
              "      \n",
              "  <style>\n",
              "    .colab-df-container {\n",
              "      display:flex;\n",
              "      flex-wrap:wrap;\n",
              "      gap: 12px;\n",
              "    }\n",
              "\n",
              "    .colab-df-convert {\n",
              "      background-color: #E8F0FE;\n",
              "      border: none;\n",
              "      border-radius: 50%;\n",
              "      cursor: pointer;\n",
              "      display: none;\n",
              "      fill: #1967D2;\n",
              "      height: 32px;\n",
              "      padding: 0 0 0 0;\n",
              "      width: 32px;\n",
              "    }\n",
              "\n",
              "    .colab-df-convert:hover {\n",
              "      background-color: #E2EBFA;\n",
              "      box-shadow: 0px 1px 2px rgba(60, 64, 67, 0.3), 0px 1px 3px 1px rgba(60, 64, 67, 0.15);\n",
              "      fill: #174EA6;\n",
              "    }\n",
              "\n",
              "    [theme=dark] .colab-df-convert {\n",
              "      background-color: #3B4455;\n",
              "      fill: #D2E3FC;\n",
              "    }\n",
              "\n",
              "    [theme=dark] .colab-df-convert:hover {\n",
              "      background-color: #434B5C;\n",
              "      box-shadow: 0px 1px 3px 1px rgba(0, 0, 0, 0.15);\n",
              "      filter: drop-shadow(0px 1px 2px rgba(0, 0, 0, 0.3));\n",
              "      fill: #FFFFFF;\n",
              "    }\n",
              "  </style>\n",
              "\n",
              "      <script>\n",
              "        const buttonEl =\n",
              "          document.querySelector('#df-483d0bdc-a3fb-4659-a9c5-b3475b8fcc7d button.colab-df-convert');\n",
              "        buttonEl.style.display =\n",
              "          google.colab.kernel.accessAllowed ? 'block' : 'none';\n",
              "\n",
              "        async function convertToInteractive(key) {\n",
              "          const element = document.querySelector('#df-483d0bdc-a3fb-4659-a9c5-b3475b8fcc7d');\n",
              "          const dataTable =\n",
              "            await google.colab.kernel.invokeFunction('convertToInteractive',\n",
              "                                                     [key], {});\n",
              "          if (!dataTable) return;\n",
              "\n",
              "          const docLinkHtml = 'Like what you see? Visit the ' +\n",
              "            '<a target=\"_blank\" href=https://colab.research.google.com/notebooks/data_table.ipynb>data table notebook</a>'\n",
              "            + ' to learn more about interactive tables.';\n",
              "          element.innerHTML = '';\n",
              "          dataTable['output_type'] = 'display_data';\n",
              "          await google.colab.output.renderOutput(dataTable, element);\n",
              "          const docLink = document.createElement('div');\n",
              "          docLink.innerHTML = docLinkHtml;\n",
              "          element.appendChild(docLink);\n",
              "        }\n",
              "      </script>\n",
              "    </div>\n",
              "  </div>\n",
              "  "
            ],
            "text/plain": [
              "              EEM       GLD       LQD       QQQ       SPY     TB3MS\n",
              "Date                                                               \n",
              "1993-02       NaN       NaN       NaN       NaN  1.017593  1.002458\n",
              "1993-03       NaN       NaN       NaN       NaN  0.974412  1.002392\n",
              "1993-04       NaN       NaN       NaN       NaN  1.026969  1.002467\n",
              "1993-05       NaN       NaN       NaN       NaN  0.996545  1.002558\n",
              "1993-06       NaN       NaN       NaN       NaN  0.995146  1.002533\n",
              "...           ...       ...       ...       ...       ...       ...\n",
              "2021-08  0.961267  0.967765  0.983222  0.942124  0.950350  1.000033\n",
              "2021-09  1.010718  1.014797  1.003383  1.078640  1.070164  1.000042\n",
              "2021-10  0.959152  0.993099  0.996853  1.019968  0.991965  1.000042\n",
              "2021-11  1.000205  1.032991  0.995942  1.010233  1.042585  1.000050\n",
              "2021-12  0.999795  0.983212  0.964081  0.912530  0.947259  1.000125\n",
              "\n",
              "[347 rows x 6 columns]"
            ]
          },
          "metadata": {},
          "execution_count": 41
        }
      ]
    },
    {
      "cell_type": "code",
      "source": [
        "idx, cols = pd.factorize(winners[:-1])\n",
        "winner_mrr = mrr_df.reindex(cols, axis=1).to_numpy()[np.arange(len(idx)), idx]"
      ],
      "metadata": {
        "id": "SwUUMNbQZfAl"
      },
      "execution_count": 42,
      "outputs": []
    },
    {
      "cell_type": "code",
      "source": [
        "accum_df = mrr_df.apply(lambda x: x.cumprod())"
      ],
      "metadata": {
        "id": "CoQcZKiBt4q1"
      },
      "execution_count": 46,
      "outputs": []
    },
    {
      "cell_type": "code",
      "source": [
        "accum_df[\"RELMOM\"] = winner_mrr.cumprod()"
      ],
      "metadata": {
        "id": "FUBGz6YYFeP0"
      },
      "execution_count": 47,
      "outputs": []
    },
    {
      "cell_type": "code",
      "source": [
        "accum_df"
      ],
      "metadata": {
        "colab": {
          "base_uri": "https://localhost:8080/",
          "height": 455
        },
        "id": "LU5bKAUcHXNL",
        "outputId": "902dffaf-c4cd-4d51-84f7-cffcde2a3919"
      },
      "execution_count": 48,
      "outputs": [
        {
          "output_type": "execute_result",
          "data": {
            "text/html": [
              "\n",
              "  <div id=\"df-d85e149b-f1b4-4c11-9b86-fbdb26c6bce8\">\n",
              "    <div class=\"colab-df-container\">\n",
              "      <div>\n",
              "<style scoped>\n",
              "    .dataframe tbody tr th:only-of-type {\n",
              "        vertical-align: middle;\n",
              "    }\n",
              "\n",
              "    .dataframe tbody tr th {\n",
              "        vertical-align: top;\n",
              "    }\n",
              "\n",
              "    .dataframe thead th {\n",
              "        text-align: right;\n",
              "    }\n",
              "</style>\n",
              "<table border=\"1\" class=\"dataframe\">\n",
              "  <thead>\n",
              "    <tr style=\"text-align: right;\">\n",
              "      <th></th>\n",
              "      <th>EEM</th>\n",
              "      <th>GLD</th>\n",
              "      <th>LQD</th>\n",
              "      <th>QQQ</th>\n",
              "      <th>SPY</th>\n",
              "      <th>TB3MS</th>\n",
              "      <th>RELMOM</th>\n",
              "    </tr>\n",
              "    <tr>\n",
              "      <th>Date</th>\n",
              "      <th></th>\n",
              "      <th></th>\n",
              "      <th></th>\n",
              "      <th></th>\n",
              "      <th></th>\n",
              "      <th></th>\n",
              "      <th></th>\n",
              "    </tr>\n",
              "  </thead>\n",
              "  <tbody>\n",
              "    <tr>\n",
              "      <th>1993-02</th>\n",
              "      <td>NaN</td>\n",
              "      <td>NaN</td>\n",
              "      <td>NaN</td>\n",
              "      <td>NaN</td>\n",
              "      <td>1.017593</td>\n",
              "      <td>1.002458</td>\n",
              "      <td>1.002458</td>\n",
              "    </tr>\n",
              "    <tr>\n",
              "      <th>1993-03</th>\n",
              "      <td>NaN</td>\n",
              "      <td>NaN</td>\n",
              "      <td>NaN</td>\n",
              "      <td>NaN</td>\n",
              "      <td>0.991555</td>\n",
              "      <td>1.004856</td>\n",
              "      <td>1.004856</td>\n",
              "    </tr>\n",
              "    <tr>\n",
              "      <th>1993-04</th>\n",
              "      <td>NaN</td>\n",
              "      <td>NaN</td>\n",
              "      <td>NaN</td>\n",
              "      <td>NaN</td>\n",
              "      <td>1.018296</td>\n",
              "      <td>1.007335</td>\n",
              "      <td>1.007335</td>\n",
              "    </tr>\n",
              "    <tr>\n",
              "      <th>1993-05</th>\n",
              "      <td>NaN</td>\n",
              "      <td>NaN</td>\n",
              "      <td>NaN</td>\n",
              "      <td>NaN</td>\n",
              "      <td>1.014778</td>\n",
              "      <td>1.009912</td>\n",
              "      <td>1.009912</td>\n",
              "    </tr>\n",
              "    <tr>\n",
              "      <th>1993-06</th>\n",
              "      <td>NaN</td>\n",
              "      <td>NaN</td>\n",
              "      <td>NaN</td>\n",
              "      <td>NaN</td>\n",
              "      <td>1.009852</td>\n",
              "      <td>1.012470</td>\n",
              "      <td>1.012470</td>\n",
              "    </tr>\n",
              "    <tr>\n",
              "      <th>...</th>\n",
              "      <td>...</td>\n",
              "      <td>...</td>\n",
              "      <td>...</td>\n",
              "      <td>...</td>\n",
              "      <td>...</td>\n",
              "      <td>...</td>\n",
              "      <td>...</td>\n",
              "    </tr>\n",
              "    <tr>\n",
              "      <th>2021-08</th>\n",
              "      <td>3.940402</td>\n",
              "      <td>3.749325</td>\n",
              "      <td>1.258560</td>\n",
              "      <td>6.663640</td>\n",
              "      <td>9.663905</td>\n",
              "      <td>1.907985</td>\n",
              "      <td>16.011718</td>\n",
              "    </tr>\n",
              "    <tr>\n",
              "      <th>2021-09</th>\n",
              "      <td>3.982635</td>\n",
              "      <td>3.804804</td>\n",
              "      <td>1.262817</td>\n",
              "      <td>7.187668</td>\n",
              "      <td>10.341964</td>\n",
              "      <td>1.908065</td>\n",
              "      <td>17.135164</td>\n",
              "    </tr>\n",
              "    <tr>\n",
              "      <th>2021-10</th>\n",
              "      <td>3.819952</td>\n",
              "      <td>3.778547</td>\n",
              "      <td>1.258843</td>\n",
              "      <td>7.331192</td>\n",
              "      <td>10.258866</td>\n",
              "      <td>1.908145</td>\n",
              "      <td>17.477319</td>\n",
              "    </tr>\n",
              "    <tr>\n",
              "      <th>2021-11</th>\n",
              "      <td>3.820735</td>\n",
              "      <td>3.903205</td>\n",
              "      <td>1.253735</td>\n",
              "      <td>7.406212</td>\n",
              "      <td>10.695740</td>\n",
              "      <td>1.908241</td>\n",
              "      <td>17.656164</td>\n",
              "    </tr>\n",
              "    <tr>\n",
              "      <th>2021-12</th>\n",
              "      <td>3.819952</td>\n",
              "      <td>3.837678</td>\n",
              "      <td>1.208702</td>\n",
              "      <td>6.758390</td>\n",
              "      <td>10.131636</td>\n",
              "      <td>1.908479</td>\n",
              "      <td>16.724961</td>\n",
              "    </tr>\n",
              "  </tbody>\n",
              "</table>\n",
              "<p>347 rows × 7 columns</p>\n",
              "</div>\n",
              "      <button class=\"colab-df-convert\" onclick=\"convertToInteractive('df-d85e149b-f1b4-4c11-9b86-fbdb26c6bce8')\"\n",
              "              title=\"Convert this dataframe to an interactive table.\"\n",
              "              style=\"display:none;\">\n",
              "        \n",
              "  <svg xmlns=\"http://www.w3.org/2000/svg\" height=\"24px\"viewBox=\"0 0 24 24\"\n",
              "       width=\"24px\">\n",
              "    <path d=\"M0 0h24v24H0V0z\" fill=\"none\"/>\n",
              "    <path d=\"M18.56 5.44l.94 2.06.94-2.06 2.06-.94-2.06-.94-.94-2.06-.94 2.06-2.06.94zm-11 1L8.5 8.5l.94-2.06 2.06-.94-2.06-.94L8.5 2.5l-.94 2.06-2.06.94zm10 10l.94 2.06.94-2.06 2.06-.94-2.06-.94-.94-2.06-.94 2.06-2.06.94z\"/><path d=\"M17.41 7.96l-1.37-1.37c-.4-.4-.92-.59-1.43-.59-.52 0-1.04.2-1.43.59L10.3 9.45l-7.72 7.72c-.78.78-.78 2.05 0 2.83L4 21.41c.39.39.9.59 1.41.59.51 0 1.02-.2 1.41-.59l7.78-7.78 2.81-2.81c.8-.78.8-2.07 0-2.86zM5.41 20L4 18.59l7.72-7.72 1.47 1.35L5.41 20z\"/>\n",
              "  </svg>\n",
              "      </button>\n",
              "      \n",
              "  <style>\n",
              "    .colab-df-container {\n",
              "      display:flex;\n",
              "      flex-wrap:wrap;\n",
              "      gap: 12px;\n",
              "    }\n",
              "\n",
              "    .colab-df-convert {\n",
              "      background-color: #E8F0FE;\n",
              "      border: none;\n",
              "      border-radius: 50%;\n",
              "      cursor: pointer;\n",
              "      display: none;\n",
              "      fill: #1967D2;\n",
              "      height: 32px;\n",
              "      padding: 0 0 0 0;\n",
              "      width: 32px;\n",
              "    }\n",
              "\n",
              "    .colab-df-convert:hover {\n",
              "      background-color: #E2EBFA;\n",
              "      box-shadow: 0px 1px 2px rgba(60, 64, 67, 0.3), 0px 1px 3px 1px rgba(60, 64, 67, 0.15);\n",
              "      fill: #174EA6;\n",
              "    }\n",
              "\n",
              "    [theme=dark] .colab-df-convert {\n",
              "      background-color: #3B4455;\n",
              "      fill: #D2E3FC;\n",
              "    }\n",
              "\n",
              "    [theme=dark] .colab-df-convert:hover {\n",
              "      background-color: #434B5C;\n",
              "      box-shadow: 0px 1px 3px 1px rgba(0, 0, 0, 0.15);\n",
              "      filter: drop-shadow(0px 1px 2px rgba(0, 0, 0, 0.3));\n",
              "      fill: #FFFFFF;\n",
              "    }\n",
              "  </style>\n",
              "\n",
              "      <script>\n",
              "        const buttonEl =\n",
              "          document.querySelector('#df-d85e149b-f1b4-4c11-9b86-fbdb26c6bce8 button.colab-df-convert');\n",
              "        buttonEl.style.display =\n",
              "          google.colab.kernel.accessAllowed ? 'block' : 'none';\n",
              "\n",
              "        async function convertToInteractive(key) {\n",
              "          const element = document.querySelector('#df-d85e149b-f1b4-4c11-9b86-fbdb26c6bce8');\n",
              "          const dataTable =\n",
              "            await google.colab.kernel.invokeFunction('convertToInteractive',\n",
              "                                                     [key], {});\n",
              "          if (!dataTable) return;\n",
              "\n",
              "          const docLinkHtml = 'Like what you see? Visit the ' +\n",
              "            '<a target=\"_blank\" href=https://colab.research.google.com/notebooks/data_table.ipynb>data table notebook</a>'\n",
              "            + ' to learn more about interactive tables.';\n",
              "          element.innerHTML = '';\n",
              "          dataTable['output_type'] = 'display_data';\n",
              "          await google.colab.output.renderOutput(dataTable, element);\n",
              "          const docLink = document.createElement('div');\n",
              "          docLink.innerHTML = docLinkHtml;\n",
              "          element.appendChild(docLink);\n",
              "        }\n",
              "      </script>\n",
              "    </div>\n",
              "  </div>\n",
              "  "
            ],
            "text/plain": [
              "              EEM       GLD       LQD       QQQ        SPY     TB3MS     RELMOM\n",
              "Date                                                                           \n",
              "1993-02       NaN       NaN       NaN       NaN   1.017593  1.002458   1.002458\n",
              "1993-03       NaN       NaN       NaN       NaN   0.991555  1.004856   1.004856\n",
              "1993-04       NaN       NaN       NaN       NaN   1.018296  1.007335   1.007335\n",
              "1993-05       NaN       NaN       NaN       NaN   1.014778  1.009912   1.009912\n",
              "1993-06       NaN       NaN       NaN       NaN   1.009852  1.012470   1.012470\n",
              "...           ...       ...       ...       ...        ...       ...        ...\n",
              "2021-08  3.940402  3.749325  1.258560  6.663640   9.663905  1.907985  16.011718\n",
              "2021-09  3.982635  3.804804  1.262817  7.187668  10.341964  1.908065  17.135164\n",
              "2021-10  3.819952  3.778547  1.258843  7.331192  10.258866  1.908145  17.477319\n",
              "2021-11  3.820735  3.903205  1.253735  7.406212  10.695740  1.908241  17.656164\n",
              "2021-12  3.819952  3.837678  1.208702  6.758390  10.131636  1.908479  16.724961\n",
              "\n",
              "[347 rows x 7 columns]"
            ]
          },
          "metadata": {},
          "execution_count": 48
        }
      ]
    },
    {
      "cell_type": "code",
      "source": [
        "accum_best = accum_df.iloc[-1].max()"
      ],
      "metadata": {
        "id": "4UbK3FjgIvqT"
      },
      "execution_count": 49,
      "outputs": []
    },
    {
      "cell_type": "code",
      "source": [
        "ceiling = (accum_best // 5 + 1) * 5 "
      ],
      "metadata": {
        "id": "SjBd4q-GJ0eB"
      },
      "execution_count": 55,
      "outputs": []
    },
    {
      "cell_type": "code",
      "source": [
        "start_month = int(accum_df.index[0].split(\"-\")[1])"
      ],
      "metadata": {
        "id": "dUj3Fx9uLXwx"
      },
      "execution_count": 65,
      "outputs": []
    },
    {
      "cell_type": "code",
      "source": [
        "chart = accum_df.plot.line(grid=True, figsize=(40,25), xticks=np.arange((13 - start_month) % 12, len(accum_df.index), 6), yticks=np.arange(0, ceiling + 1, ceiling / 20))\n",
        "chart.tick_params(axis=\"x\", rotation=90)\n",
        "# chart.figure.savefig(f'/content/drive/MyDrive/momentum-strategies/absolute_momentum/{current_date}_returns_accum.jpg')"
      ],
      "metadata": {
        "colab": {
          "base_uri": "https://localhost:8080/",
          "height": 1000
        },
        "id": "RCz2FtOhHYMD",
        "outputId": "1396c7e8-a5a8-4cef-d8d8-eddc8c8e3eb3"
      },
      "execution_count": 72,
      "outputs": [
        {
          "output_type": "display_data",
          "data": {
            "image/png": "[encoded data removed]",
            "text/plain": [
              "<Figure size 2880x1800 with 1 Axes>"
            ]
          },
          "metadata": {
            "needs_background": "light"
          }
        }
      ]
    },
    {
      "cell_type": "code",
      "source": [
        ""
      ],
      "metadata": {
        "id": "E6b8FCMqKiEv"
      },
      "execution_count": null,
      "outputs": []
    }
  ]
}