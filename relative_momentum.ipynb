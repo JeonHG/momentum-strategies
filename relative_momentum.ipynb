{
  "nbformat": 4,
  "nbformat_minor": 0,
  "metadata": {
    "colab": {
      "name": "relative_momentum.ipynb",
      "provenance": [],
      "collapsed_sections": []
    },
    "kernelspec": {
      "name": "python3",
      "display_name": "Python 3"
    },
    "language_info": {
      "name": "python"
    }
  },
  "cells": [
    {
      "cell_type": "markdown",
      "metadata": {
        "id": "50J_IXykl1bN"
      },
      "source": [
        "### trade based simulation"
      ]
    },
    {
      "cell_type": "markdown",
      "metadata": {
        "id": "T2QGbF4bNyjH"
      },
      "source": [
        "# data import using yfinance"
      ]
    },
    {
      "cell_type": "markdown",
      "metadata": {
        "id": "lCGsN04N316q"
      },
      "source": [
        "## 라이브러리 임포트"
      ]
    },
    {
      "cell_type": "code",
      "source": [
        "!pip install yfinance\n",
        "!pip install pandas-datareader"
      ],
      "metadata": {
        "id": "CNokRBnol15O",
        "colab": {
          "base_uri": "https://localhost:8080/"
        },
        "outputId": "bf2614d7-6a08-4c86-ebd2-6e1a627ec172"
      },
      "execution_count": 76,
      "outputs": [
        {
          "output_type": "stream",
          "name": "stdout",
          "text": [
            "Looking in indexes: https://pypi.org/simple, https://us-python.pkg.dev/colab-wheels/public/simple/\n",
            "Requirement already satisfied: yfinance in /usr/local/lib/python3.7/dist-packages (0.1.72)\n",
            "Requirement already satisfied: pandas>=0.24.0 in /usr/local/lib/python3.7/dist-packages (from yfinance) (1.3.5)\n",
            "Requirement already satisfied: numpy>=1.15 in /usr/local/lib/python3.7/dist-packages (from yfinance) (1.21.6)\n",
            "Requirement already satisfied: multitasking>=0.0.7 in /usr/local/lib/python3.7/dist-packages (from yfinance) (0.0.10)\n",
            "Requirement already satisfied: requests>=2.26 in /usr/local/lib/python3.7/dist-packages (from yfinance) (2.28.0)\n",
            "Requirement already satisfied: lxml>=4.5.1 in /usr/local/lib/python3.7/dist-packages (from yfinance) (4.9.0)\n",
            "Requirement already satisfied: python-dateutil>=2.7.3 in /usr/local/lib/python3.7/dist-packages (from pandas>=0.24.0->yfinance) (2.8.2)\n",
            "Requirement already satisfied: pytz>=2017.3 in /usr/local/lib/python3.7/dist-packages (from pandas>=0.24.0->yfinance) (2022.1)\n",
            "Requirement already satisfied: six>=1.5 in /usr/local/lib/python3.7/dist-packages (from python-dateutil>=2.7.3->pandas>=0.24.0->yfinance) (1.15.0)\n",
            "Requirement already satisfied: idna<4,>=2.5 in /usr/local/lib/python3.7/dist-packages (from requests>=2.26->yfinance) (2.10)\n",
            "Requirement already satisfied: certifi>=2017.4.17 in /usr/local/lib/python3.7/dist-packages (from requests>=2.26->yfinance) (2022.6.15)\n",
            "Requirement already satisfied: urllib3<1.27,>=1.21.1 in /usr/local/lib/python3.7/dist-packages (from requests>=2.26->yfinance) (1.24.3)\n",
            "Requirement already satisfied: charset-normalizer~=2.0.0 in /usr/local/lib/python3.7/dist-packages (from requests>=2.26->yfinance) (2.0.12)\n",
            "Looking in indexes: https://pypi.org/simple, https://us-python.pkg.dev/colab-wheels/public/simple/\n",
            "Requirement already satisfied: pandas-datareader in /usr/local/lib/python3.7/dist-packages (0.9.0)\n",
            "Requirement already satisfied: pandas>=0.23 in /usr/local/lib/python3.7/dist-packages (from pandas-datareader) (1.3.5)\n",
            "Requirement already satisfied: requests>=2.19.0 in /usr/local/lib/python3.7/dist-packages (from pandas-datareader) (2.28.0)\n",
            "Requirement already satisfied: lxml in /usr/local/lib/python3.7/dist-packages (from pandas-datareader) (4.9.0)\n",
            "Requirement already satisfied: numpy>=1.17.3 in /usr/local/lib/python3.7/dist-packages (from pandas>=0.23->pandas-datareader) (1.21.6)\n",
            "Requirement already satisfied: python-dateutil>=2.7.3 in /usr/local/lib/python3.7/dist-packages (from pandas>=0.23->pandas-datareader) (2.8.2)\n",
            "Requirement already satisfied: pytz>=2017.3 in /usr/local/lib/python3.7/dist-packages (from pandas>=0.23->pandas-datareader) (2022.1)\n",
            "Requirement already satisfied: six>=1.5 in /usr/local/lib/python3.7/dist-packages (from python-dateutil>=2.7.3->pandas>=0.23->pandas-datareader) (1.15.0)\n",
            "Requirement already satisfied: charset-normalizer~=2.0.0 in /usr/local/lib/python3.7/dist-packages (from requests>=2.19.0->pandas-datareader) (2.0.12)\n",
            "Requirement already satisfied: idna<4,>=2.5 in /usr/local/lib/python3.7/dist-packages (from requests>=2.19.0->pandas-datareader) (2.10)\n",
            "Requirement already satisfied: urllib3<1.27,>=1.21.1 in /usr/local/lib/python3.7/dist-packages (from requests>=2.19.0->pandas-datareader) (1.24.3)\n",
            "Requirement already satisfied: certifi>=2017.4.17 in /usr/local/lib/python3.7/dist-packages (from requests>=2.19.0->pandas-datareader) (2022.6.15)\n"
          ]
        }
      ]
    },
    {
      "cell_type": "code",
      "metadata": {
        "id": "4IduEGuosnal"
      },
      "source": [
        "import math\n",
        "import time\n",
        "from datetime import datetime\n",
        "import pandas as pd\n",
        "import numpy as np\n",
        "import yfinance as yf\n",
        "import pandas_datareader as pdr\n",
        "from collections import deque"
      ],
      "execution_count": 77,
      "outputs": []
    },
    {
      "cell_type": "code",
      "metadata": {
        "id": "Tqq86p3oWLEj"
      },
      "source": [
        "current_date = datetime.now().strftime(\"%Y-%m-%d-%H-%M-%S\")"
      ],
      "execution_count": 78,
      "outputs": []
    },
    {
      "cell_type": "markdown",
      "source": [
        "## 데이터 임포트"
      ],
      "metadata": {
        "id": "nmIuvruxLnJr"
      }
    },
    {
      "cell_type": "code",
      "source": [
        "tickers = [\"SPY\", \"QQQ\", \"GLD\", \"LQD\", \"EEM\"]\n",
        "risk_free_asset = \"TB3MS\""
      ],
      "metadata": {
        "id": "wLGIVDT7rMPr"
      },
      "execution_count": 79,
      "outputs": []
    },
    {
      "cell_type": "code",
      "source": [
        "divs = []\n",
        "for ticker in tickers:\n",
        "  div = yf.Ticker(ticker).dividends\n",
        "  div.index = pd.to_datetime(div.index).strftime('%Y-%m')\n",
        "  if not div.index.is_unique:\n",
        "    div = div.groupby(div.index).sum()\n",
        "  divs.append(div)"
      ],
      "metadata": {
        "id": "V50gvsHPplTC"
      },
      "execution_count": 80,
      "outputs": []
    },
    {
      "cell_type": "code",
      "source": [
        "dividends_df = pd.concat(divs, axis=1)\n",
        "dividends_df.columns = [[\"Dividend\"] * len(tickers), tickers]\n",
        "dividends_df.index.name = \"Date\"\n",
        "dividends_df.sort_index(inplace=True)"
      ],
      "metadata": {
        "id": "-t4lYB4yrREh"
      },
      "execution_count": 81,
      "outputs": []
    },
    {
      "cell_type": "code",
      "source": [
        "dividends_df"
      ],
      "metadata": {
        "colab": {
          "base_uri": "https://localhost:8080/",
          "height": 486
        },
        "id": "mmlCVAkINvq9",
        "outputId": "69b364f4-0577-4ad5-f027-89a0619480ac"
      },
      "execution_count": 82,
      "outputs": [
        {
          "output_type": "execute_result",
          "data": {
            "text/plain": [
              "        Dividend                         \n",
              "             SPY    QQQ GLD    LQD    EEM\n",
              "Date                                     \n",
              "1993-03    0.213    NaN NaN    NaN    NaN\n",
              "1993-06    0.318    NaN NaN    NaN    NaN\n",
              "1993-09    0.286    NaN NaN    NaN    NaN\n",
              "1993-12    0.317    NaN NaN    NaN    NaN\n",
              "1994-03    0.271    NaN NaN    NaN    NaN\n",
              "...          ...    ...  ..    ...    ...\n",
              "2022-02      NaN    NaN NaN  0.242    NaN\n",
              "2022-03    1.366  0.434 NaN  0.256    NaN\n",
              "2022-04      NaN    NaN NaN  0.255    NaN\n",
              "2022-05      NaN    NaN NaN  0.254    NaN\n",
              "2022-06    1.577  0.527 NaN  0.274  0.362\n",
              "\n",
              "[255 rows x 5 columns]"
            ],
            "text/html": [
              "\n",
              "  <div id=\"df-54cab3b7-19f9-48c9-81c9-c3f8f3cf5b37\">\n",
              "    <div class=\"colab-df-container\">\n",
              "      <div>\n",
              "<style scoped>\n",
              "    .dataframe tbody tr th:only-of-type {\n",
              "        vertical-align: middle;\n",
              "    }\n",
              "\n",
              "    .dataframe tbody tr th {\n",
              "        vertical-align: top;\n",
              "    }\n",
              "\n",
              "    .dataframe thead tr th {\n",
              "        text-align: left;\n",
              "    }\n",
              "\n",
              "    .dataframe thead tr:last-of-type th {\n",
              "        text-align: right;\n",
              "    }\n",
              "</style>\n",
              "<table border=\"1\" class=\"dataframe\">\n",
              "  <thead>\n",
              "    <tr>\n",
              "      <th></th>\n",
              "      <th colspan=\"5\" halign=\"left\">Dividend</th>\n",
              "    </tr>\n",
              "    <tr>\n",
              "      <th></th>\n",
              "      <th>SPY</th>\n",
              "      <th>QQQ</th>\n",
              "      <th>GLD</th>\n",
              "      <th>LQD</th>\n",
              "      <th>EEM</th>\n",
              "    </tr>\n",
              "    <tr>\n",
              "      <th>Date</th>\n",
              "      <th></th>\n",
              "      <th></th>\n",
              "      <th></th>\n",
              "      <th></th>\n",
              "      <th></th>\n",
              "    </tr>\n",
              "  </thead>\n",
              "  <tbody>\n",
              "    <tr>\n",
              "      <th>1993-03</th>\n",
              "      <td>0.213</td>\n",
              "      <td>NaN</td>\n",
              "      <td>NaN</td>\n",
              "      <td>NaN</td>\n",
              "      <td>NaN</td>\n",
              "    </tr>\n",
              "    <tr>\n",
              "      <th>1993-06</th>\n",
              "      <td>0.318</td>\n",
              "      <td>NaN</td>\n",
              "      <td>NaN</td>\n",
              "      <td>NaN</td>\n",
              "      <td>NaN</td>\n",
              "    </tr>\n",
              "    <tr>\n",
              "      <th>1993-09</th>\n",
              "      <td>0.286</td>\n",
              "      <td>NaN</td>\n",
              "      <td>NaN</td>\n",
              "      <td>NaN</td>\n",
              "      <td>NaN</td>\n",
              "    </tr>\n",
              "    <tr>\n",
              "      <th>1993-12</th>\n",
              "      <td>0.317</td>\n",
              "      <td>NaN</td>\n",
              "      <td>NaN</td>\n",
              "      <td>NaN</td>\n",
              "      <td>NaN</td>\n",
              "    </tr>\n",
              "    <tr>\n",
              "      <th>1994-03</th>\n",
              "      <td>0.271</td>\n",
              "      <td>NaN</td>\n",
              "      <td>NaN</td>\n",
              "      <td>NaN</td>\n",
              "      <td>NaN</td>\n",
              "    </tr>\n",
              "    <tr>\n",
              "      <th>...</th>\n",
              "      <td>...</td>\n",
              "      <td>...</td>\n",
              "      <td>...</td>\n",
              "      <td>...</td>\n",
              "      <td>...</td>\n",
              "    </tr>\n",
              "    <tr>\n",
              "      <th>2022-02</th>\n",
              "      <td>NaN</td>\n",
              "      <td>NaN</td>\n",
              "      <td>NaN</td>\n",
              "      <td>0.242</td>\n",
              "      <td>NaN</td>\n",
              "    </tr>\n",
              "    <tr>\n",
              "      <th>2022-03</th>\n",
              "      <td>1.366</td>\n",
              "      <td>0.434</td>\n",
              "      <td>NaN</td>\n",
              "      <td>0.256</td>\n",
              "      <td>NaN</td>\n",
              "    </tr>\n",
              "    <tr>\n",
              "      <th>2022-04</th>\n",
              "      <td>NaN</td>\n",
              "      <td>NaN</td>\n",
              "      <td>NaN</td>\n",
              "      <td>0.255</td>\n",
              "      <td>NaN</td>\n",
              "    </tr>\n",
              "    <tr>\n",
              "      <th>2022-05</th>\n",
              "      <td>NaN</td>\n",
              "      <td>NaN</td>\n",
              "      <td>NaN</td>\n",
              "      <td>0.254</td>\n",
              "      <td>NaN</td>\n",
              "    </tr>\n",
              "    <tr>\n",
              "      <th>2022-06</th>\n",
              "      <td>1.577</td>\n",
              "      <td>0.527</td>\n",
              "      <td>NaN</td>\n",
              "      <td>0.274</td>\n",
              "      <td>0.362</td>\n",
              "    </tr>\n",
              "  </tbody>\n",
              "</table>\n",
              "<p>255 rows × 5 columns</p>\n",
              "</div>\n",
              "      <button class=\"colab-df-convert\" onclick=\"convertToInteractive('df-54cab3b7-19f9-48c9-81c9-c3f8f3cf5b37')\"\n",
              "              title=\"Convert this dataframe to an interactive table.\"\n",
              "              style=\"display:none;\">\n",
              "        \n",
              "  <svg xmlns=\"http://www.w3.org/2000/svg\" height=\"24px\"viewBox=\"0 0 24 24\"\n",
              "       width=\"24px\">\n",
              "    <path d=\"M0 0h24v24H0V0z\" fill=\"none\"/>\n",
              "    <path d=\"M18.56 5.44l.94 2.06.94-2.06 2.06-.94-2.06-.94-.94-2.06-.94 2.06-2.06.94zm-11 1L8.5 8.5l.94-2.06 2.06-.94-2.06-.94L8.5 2.5l-.94 2.06-2.06.94zm10 10l.94 2.06.94-2.06 2.06-.94-2.06-.94-.94-2.06-.94 2.06-2.06.94z\"/><path d=\"M17.41 7.96l-1.37-1.37c-.4-.4-.92-.59-1.43-.59-.52 0-1.04.2-1.43.59L10.3 9.45l-7.72 7.72c-.78.78-.78 2.05 0 2.83L4 21.41c.39.39.9.59 1.41.59.51 0 1.02-.2 1.41-.59l7.78-7.78 2.81-2.81c.8-.78.8-2.07 0-2.86zM5.41 20L4 18.59l7.72-7.72 1.47 1.35L5.41 20z\"/>\n",
              "  </svg>\n",
              "      </button>\n",
              "      \n",
              "  <style>\n",
              "    .colab-df-container {\n",
              "      display:flex;\n",
              "      flex-wrap:wrap;\n",
              "      gap: 12px;\n",
              "    }\n",
              "\n",
              "    .colab-df-convert {\n",
              "      background-color: #E8F0FE;\n",
              "      border: none;\n",
              "      border-radius: 50%;\n",
              "      cursor: pointer;\n",
              "      display: none;\n",
              "      fill: #1967D2;\n",
              "      height: 32px;\n",
              "      padding: 0 0 0 0;\n",
              "      width: 32px;\n",
              "    }\n",
              "\n",
              "    .colab-df-convert:hover {\n",
              "      background-color: #E2EBFA;\n",
              "      box-shadow: 0px 1px 2px rgba(60, 64, 67, 0.3), 0px 1px 3px 1px rgba(60, 64, 67, 0.15);\n",
              "      fill: #174EA6;\n",
              "    }\n",
              "\n",
              "    [theme=dark] .colab-df-convert {\n",
              "      background-color: #3B4455;\n",
              "      fill: #D2E3FC;\n",
              "    }\n",
              "\n",
              "    [theme=dark] .colab-df-convert:hover {\n",
              "      background-color: #434B5C;\n",
              "      box-shadow: 0px 1px 3px 1px rgba(0, 0, 0, 0.15);\n",
              "      filter: drop-shadow(0px 1px 2px rgba(0, 0, 0, 0.3));\n",
              "      fill: #FFFFFF;\n",
              "    }\n",
              "  </style>\n",
              "\n",
              "      <script>\n",
              "        const buttonEl =\n",
              "          document.querySelector('#df-54cab3b7-19f9-48c9-81c9-c3f8f3cf5b37 button.colab-df-convert');\n",
              "        buttonEl.style.display =\n",
              "          google.colab.kernel.accessAllowed ? 'block' : 'none';\n",
              "\n",
              "        async function convertToInteractive(key) {\n",
              "          const element = document.querySelector('#df-54cab3b7-19f9-48c9-81c9-c3f8f3cf5b37');\n",
              "          const dataTable =\n",
              "            await google.colab.kernel.invokeFunction('convertToInteractive',\n",
              "                                                     [key], {});\n",
              "          if (!dataTable) return;\n",
              "\n",
              "          const docLinkHtml = 'Like what you see? Visit the ' +\n",
              "            '<a target=\"_blank\" href=https://colab.research.google.com/notebooks/data_table.ipynb>data table notebook</a>'\n",
              "            + ' to learn more about interactive tables.';\n",
              "          element.innerHTML = '';\n",
              "          dataTable['output_type'] = 'display_data';\n",
              "          await google.colab.output.renderOutput(dataTable, element);\n",
              "          const docLink = document.createElement('div');\n",
              "          docLink.innerHTML = docLinkHtml;\n",
              "          element.appendChild(docLink);\n",
              "        }\n",
              "      </script>\n",
              "    </div>\n",
              "  </div>\n",
              "  "
            ]
          },
          "metadata": {},
          "execution_count": 82
        }
      ]
    },
    {
      "cell_type": "code",
      "source": [
        "tickers_df = yf.download(\" \".join(tickers), period='max', interval='1mo')"
      ],
      "metadata": {
        "colab": {
          "base_uri": "https://localhost:8080/"
        },
        "id": "OBeky-Q48_64",
        "outputId": "24bda84c-ef3c-48af-fe84-a6ed423c7d62"
      },
      "execution_count": 83,
      "outputs": [
        {
          "output_type": "stream",
          "name": "stdout",
          "text": [
            "[*********************100%***********************]  5 of 5 completed\n"
          ]
        }
      ]
    },
    {
      "cell_type": "code",
      "source": [
        "tickers_df.index = pd.to_datetime(tickers_df.index).strftime('%Y-%m')"
      ],
      "metadata": {
        "id": "km-qJsXfOlkt"
      },
      "execution_count": 84,
      "outputs": []
    },
    {
      "cell_type": "code",
      "source": [
        "tickers_df.dropna(inplace=True) # drop nan if any\n",
        "opens_df = tickers_df[\"Open\"]\n",
        "closes_df = tickers_df[\"Close\"]\n",
        "# tickers_df.drop(columns=[\"Adj Close\", \"High\", \"Low\", \"Open\", \"Volume\"], inplace=True)\n",
        "# tickers_df.dropna(how=\"all\", inplace=True)"
      ],
      "metadata": {
        "id": "8hRM1UyOvJaa"
      },
      "execution_count": 85,
      "outputs": []
    },
    {
      "cell_type": "code",
      "source": [
        "closes_df"
      ],
      "metadata": {
        "colab": {
          "base_uri": "https://localhost:8080/",
          "height": 455
        },
        "id": "-bMfilN3e9vT",
        "outputId": "b4fa769e-3f5c-44f3-faa1-a21dabba3a72"
      },
      "execution_count": 86,
      "outputs": [
        {
          "output_type": "execute_result",
          "data": {
            "text/plain": [
              "               EEM         GLD         LQD         QQQ         SPY\n",
              "Date                                                              \n",
              "2004-12  22.427778   43.799999  111.529999   39.919998  120.870003\n",
              "2005-01  22.308889   42.220001  112.900002   37.400002  118.160004\n",
              "2005-02  24.468889   43.529999  111.419998   37.220001  120.629997\n",
              "2005-03  22.533333   42.820000  109.589996   36.570000  117.959999\n",
              "2005-04  22.252222   43.349998  110.919998   34.980000  115.750000\n",
              "...            ...         ...         ...         ...         ...\n",
              "2022-03  45.150002  180.649994  120.940002  362.540009  451.640015\n",
              "2022-04  42.380001  176.910004  112.599998  313.250000  412.000000\n",
              "2022-05  42.639999  171.139999  114.440002  308.279999  412.929993\n",
              "2022-06  40.650002  170.089996  110.089996  294.609985  390.079987\n",
              "2022-06  40.840000  169.830002  109.500000  294.524994  390.619995\n",
              "\n",
              "[212 rows x 5 columns]"
            ],
            "text/html": [
              "\n",
              "  <div id=\"df-37cdd124-dd7b-4086-a68e-9d5736969a76\">\n",
              "    <div class=\"colab-df-container\">\n",
              "      <div>\n",
              "<style scoped>\n",
              "    .dataframe tbody tr th:only-of-type {\n",
              "        vertical-align: middle;\n",
              "    }\n",
              "\n",
              "    .dataframe tbody tr th {\n",
              "        vertical-align: top;\n",
              "    }\n",
              "\n",
              "    .dataframe thead th {\n",
              "        text-align: right;\n",
              "    }\n",
              "</style>\n",
              "<table border=\"1\" class=\"dataframe\">\n",
              "  <thead>\n",
              "    <tr style=\"text-align: right;\">\n",
              "      <th></th>\n",
              "      <th>EEM</th>\n",
              "      <th>GLD</th>\n",
              "      <th>LQD</th>\n",
              "      <th>QQQ</th>\n",
              "      <th>SPY</th>\n",
              "    </tr>\n",
              "    <tr>\n",
              "      <th>Date</th>\n",
              "      <th></th>\n",
              "      <th></th>\n",
              "      <th></th>\n",
              "      <th></th>\n",
              "      <th></th>\n",
              "    </tr>\n",
              "  </thead>\n",
              "  <tbody>\n",
              "    <tr>\n",
              "      <th>2004-12</th>\n",
              "      <td>22.427778</td>\n",
              "      <td>43.799999</td>\n",
              "      <td>111.529999</td>\n",
              "      <td>39.919998</td>\n",
              "      <td>120.870003</td>\n",
              "    </tr>\n",
              "    <tr>\n",
              "      <th>2005-01</th>\n",
              "      <td>22.308889</td>\n",
              "      <td>42.220001</td>\n",
              "      <td>112.900002</td>\n",
              "      <td>37.400002</td>\n",
              "      <td>118.160004</td>\n",
              "    </tr>\n",
              "    <tr>\n",
              "      <th>2005-02</th>\n",
              "      <td>24.468889</td>\n",
              "      <td>43.529999</td>\n",
              "      <td>111.419998</td>\n",
              "      <td>37.220001</td>\n",
              "      <td>120.629997</td>\n",
              "    </tr>\n",
              "    <tr>\n",
              "      <th>2005-03</th>\n",
              "      <td>22.533333</td>\n",
              "      <td>42.820000</td>\n",
              "      <td>109.589996</td>\n",
              "      <td>36.570000</td>\n",
              "      <td>117.959999</td>\n",
              "    </tr>\n",
              "    <tr>\n",
              "      <th>2005-04</th>\n",
              "      <td>22.252222</td>\n",
              "      <td>43.349998</td>\n",
              "      <td>110.919998</td>\n",
              "      <td>34.980000</td>\n",
              "      <td>115.750000</td>\n",
              "    </tr>\n",
              "    <tr>\n",
              "      <th>...</th>\n",
              "      <td>...</td>\n",
              "      <td>...</td>\n",
              "      <td>...</td>\n",
              "      <td>...</td>\n",
              "      <td>...</td>\n",
              "    </tr>\n",
              "    <tr>\n",
              "      <th>2022-03</th>\n",
              "      <td>45.150002</td>\n",
              "      <td>180.649994</td>\n",
              "      <td>120.940002</td>\n",
              "      <td>362.540009</td>\n",
              "      <td>451.640015</td>\n",
              "    </tr>\n",
              "    <tr>\n",
              "      <th>2022-04</th>\n",
              "      <td>42.380001</td>\n",
              "      <td>176.910004</td>\n",
              "      <td>112.599998</td>\n",
              "      <td>313.250000</td>\n",
              "      <td>412.000000</td>\n",
              "    </tr>\n",
              "    <tr>\n",
              "      <th>2022-05</th>\n",
              "      <td>42.639999</td>\n",
              "      <td>171.139999</td>\n",
              "      <td>114.440002</td>\n",
              "      <td>308.279999</td>\n",
              "      <td>412.929993</td>\n",
              "    </tr>\n",
              "    <tr>\n",
              "      <th>2022-06</th>\n",
              "      <td>40.650002</td>\n",
              "      <td>170.089996</td>\n",
              "      <td>110.089996</td>\n",
              "      <td>294.609985</td>\n",
              "      <td>390.079987</td>\n",
              "    </tr>\n",
              "    <tr>\n",
              "      <th>2022-06</th>\n",
              "      <td>40.840000</td>\n",
              "      <td>169.830002</td>\n",
              "      <td>109.500000</td>\n",
              "      <td>294.524994</td>\n",
              "      <td>390.619995</td>\n",
              "    </tr>\n",
              "  </tbody>\n",
              "</table>\n",
              "<p>212 rows × 5 columns</p>\n",
              "</div>\n",
              "      <button class=\"colab-df-convert\" onclick=\"convertToInteractive('df-37cdd124-dd7b-4086-a68e-9d5736969a76')\"\n",
              "              title=\"Convert this dataframe to an interactive table.\"\n",
              "              style=\"display:none;\">\n",
              "        \n",
              "  <svg xmlns=\"http://www.w3.org/2000/svg\" height=\"24px\"viewBox=\"0 0 24 24\"\n",
              "       width=\"24px\">\n",
              "    <path d=\"M0 0h24v24H0V0z\" fill=\"none\"/>\n",
              "    <path d=\"M18.56 5.44l.94 2.06.94-2.06 2.06-.94-2.06-.94-.94-2.06-.94 2.06-2.06.94zm-11 1L8.5 8.5l.94-2.06 2.06-.94-2.06-.94L8.5 2.5l-.94 2.06-2.06.94zm10 10l.94 2.06.94-2.06 2.06-.94-2.06-.94-.94-2.06-.94 2.06-2.06.94z\"/><path d=\"M17.41 7.96l-1.37-1.37c-.4-.4-.92-.59-1.43-.59-.52 0-1.04.2-1.43.59L10.3 9.45l-7.72 7.72c-.78.78-.78 2.05 0 2.83L4 21.41c.39.39.9.59 1.41.59.51 0 1.02-.2 1.41-.59l7.78-7.78 2.81-2.81c.8-.78.8-2.07 0-2.86zM5.41 20L4 18.59l7.72-7.72 1.47 1.35L5.41 20z\"/>\n",
              "  </svg>\n",
              "      </button>\n",
              "      \n",
              "  <style>\n",
              "    .colab-df-container {\n",
              "      display:flex;\n",
              "      flex-wrap:wrap;\n",
              "      gap: 12px;\n",
              "    }\n",
              "\n",
              "    .colab-df-convert {\n",
              "      background-color: #E8F0FE;\n",
              "      border: none;\n",
              "      border-radius: 50%;\n",
              "      cursor: pointer;\n",
              "      display: none;\n",
              "      fill: #1967D2;\n",
              "      height: 32px;\n",
              "      padding: 0 0 0 0;\n",
              "      width: 32px;\n",
              "    }\n",
              "\n",
              "    .colab-df-convert:hover {\n",
              "      background-color: #E2EBFA;\n",
              "      box-shadow: 0px 1px 2px rgba(60, 64, 67, 0.3), 0px 1px 3px 1px rgba(60, 64, 67, 0.15);\n",
              "      fill: #174EA6;\n",
              "    }\n",
              "\n",
              "    [theme=dark] .colab-df-convert {\n",
              "      background-color: #3B4455;\n",
              "      fill: #D2E3FC;\n",
              "    }\n",
              "\n",
              "    [theme=dark] .colab-df-convert:hover {\n",
              "      background-color: #434B5C;\n",
              "      box-shadow: 0px 1px 3px 1px rgba(0, 0, 0, 0.15);\n",
              "      filter: drop-shadow(0px 1px 2px rgba(0, 0, 0, 0.3));\n",
              "      fill: #FFFFFF;\n",
              "    }\n",
              "  </style>\n",
              "\n",
              "      <script>\n",
              "        const buttonEl =\n",
              "          document.querySelector('#df-37cdd124-dd7b-4086-a68e-9d5736969a76 button.colab-df-convert');\n",
              "        buttonEl.style.display =\n",
              "          google.colab.kernel.accessAllowed ? 'block' : 'none';\n",
              "\n",
              "        async function convertToInteractive(key) {\n",
              "          const element = document.querySelector('#df-37cdd124-dd7b-4086-a68e-9d5736969a76');\n",
              "          const dataTable =\n",
              "            await google.colab.kernel.invokeFunction('convertToInteractive',\n",
              "                                                     [key], {});\n",
              "          if (!dataTable) return;\n",
              "\n",
              "          const docLinkHtml = 'Like what you see? Visit the ' +\n",
              "            '<a target=\"_blank\" href=https://colab.research.google.com/notebooks/data_table.ipynb>data table notebook</a>'\n",
              "            + ' to learn more about interactive tables.';\n",
              "          element.innerHTML = '';\n",
              "          dataTable['output_type'] = 'display_data';\n",
              "          await google.colab.output.renderOutput(dataTable, element);\n",
              "          const docLink = document.createElement('div');\n",
              "          docLink.innerHTML = docLinkHtml;\n",
              "          element.appendChild(docLink);\n",
              "        }\n",
              "      </script>\n",
              "    </div>\n",
              "  </div>\n",
              "  "
            ]
          },
          "metadata": {},
          "execution_count": 86
        }
      ]
    },
    {
      "cell_type": "code",
      "source": [
        "if not closes_df.index.is_unique:\n",
        "    closes_df = closes_df.groupby(closes_df.index).last()"
      ],
      "metadata": {
        "id": "Kg5wfUuEDA5t"
      },
      "execution_count": 87,
      "outputs": []
    },
    {
      "cell_type": "code",
      "source": [
        "tb3ms_df = pdr.DataReader(risk_free_asset, \"fred\", closes_df.index[0], closes_df.index[-1] )\n",
        "tb3ms_df[\"RoR12\"] = tb3ms_df[risk_free_asset].map(lambda x: x / 100)\n",
        "tb3ms_df[\"CRoR\"] = (1 + tb3ms_df[\"RoR12\"] / 12).cumprod()\n",
        "tb3ms_df.index = pd.to_datetime(tb3ms_df.index).strftime('%Y-%m')"
      ],
      "metadata": {
        "id": "f1o3g8ktzSaN"
      },
      "execution_count": 88,
      "outputs": []
    },
    {
      "cell_type": "code",
      "source": [
        "tb3ms_df"
      ],
      "metadata": {
        "colab": {
          "base_uri": "https://localhost:8080/",
          "height": 455
        },
        "id": "2rg9CYi9aMcj",
        "outputId": "2950f8c5-b8f9-4406-b00b-0e85b7108730"
      },
      "execution_count": 89,
      "outputs": [
        {
          "output_type": "execute_result",
          "data": {
            "text/plain": [
              "         TB3MS   RoR12      CRoR\n",
              "DATE                            \n",
              "2004-12   2.19  0.0219  1.001825\n",
              "2005-01   2.33  0.0233  1.003770\n",
              "2005-02   2.54  0.0254  1.005895\n",
              "2005-03   2.74  0.0274  1.008192\n",
              "2005-04   2.78  0.0278  1.010527\n",
              "...        ...     ...       ...\n",
              "2022-01   0.15  0.0015  1.221228\n",
              "2022-02   0.33  0.0033  1.221564\n",
              "2022-03   0.44  0.0044  1.222012\n",
              "2022-04   0.76  0.0076  1.222786\n",
              "2022-05   0.98  0.0098  1.223784\n",
              "\n",
              "[210 rows x 3 columns]"
            ],
            "text/html": [
              "\n",
              "  <div id=\"df-516d828a-614b-4e1a-8e8a-44bb9faae0c4\">\n",
              "    <div class=\"colab-df-container\">\n",
              "      <div>\n",
              "<style scoped>\n",
              "    .dataframe tbody tr th:only-of-type {\n",
              "        vertical-align: middle;\n",
              "    }\n",
              "\n",
              "    .dataframe tbody tr th {\n",
              "        vertical-align: top;\n",
              "    }\n",
              "\n",
              "    .dataframe thead th {\n",
              "        text-align: right;\n",
              "    }\n",
              "</style>\n",
              "<table border=\"1\" class=\"dataframe\">\n",
              "  <thead>\n",
              "    <tr style=\"text-align: right;\">\n",
              "      <th></th>\n",
              "      <th>TB3MS</th>\n",
              "      <th>RoR12</th>\n",
              "      <th>CRoR</th>\n",
              "    </tr>\n",
              "    <tr>\n",
              "      <th>DATE</th>\n",
              "      <th></th>\n",
              "      <th></th>\n",
              "      <th></th>\n",
              "    </tr>\n",
              "  </thead>\n",
              "  <tbody>\n",
              "    <tr>\n",
              "      <th>2004-12</th>\n",
              "      <td>2.19</td>\n",
              "      <td>0.0219</td>\n",
              "      <td>1.001825</td>\n",
              "    </tr>\n",
              "    <tr>\n",
              "      <th>2005-01</th>\n",
              "      <td>2.33</td>\n",
              "      <td>0.0233</td>\n",
              "      <td>1.003770</td>\n",
              "    </tr>\n",
              "    <tr>\n",
              "      <th>2005-02</th>\n",
              "      <td>2.54</td>\n",
              "      <td>0.0254</td>\n",
              "      <td>1.005895</td>\n",
              "    </tr>\n",
              "    <tr>\n",
              "      <th>2005-03</th>\n",
              "      <td>2.74</td>\n",
              "      <td>0.0274</td>\n",
              "      <td>1.008192</td>\n",
              "    </tr>\n",
              "    <tr>\n",
              "      <th>2005-04</th>\n",
              "      <td>2.78</td>\n",
              "      <td>0.0278</td>\n",
              "      <td>1.010527</td>\n",
              "    </tr>\n",
              "    <tr>\n",
              "      <th>...</th>\n",
              "      <td>...</td>\n",
              "      <td>...</td>\n",
              "      <td>...</td>\n",
              "    </tr>\n",
              "    <tr>\n",
              "      <th>2022-01</th>\n",
              "      <td>0.15</td>\n",
              "      <td>0.0015</td>\n",
              "      <td>1.221228</td>\n",
              "    </tr>\n",
              "    <tr>\n",
              "      <th>2022-02</th>\n",
              "      <td>0.33</td>\n",
              "      <td>0.0033</td>\n",
              "      <td>1.221564</td>\n",
              "    </tr>\n",
              "    <tr>\n",
              "      <th>2022-03</th>\n",
              "      <td>0.44</td>\n",
              "      <td>0.0044</td>\n",
              "      <td>1.222012</td>\n",
              "    </tr>\n",
              "    <tr>\n",
              "      <th>2022-04</th>\n",
              "      <td>0.76</td>\n",
              "      <td>0.0076</td>\n",
              "      <td>1.222786</td>\n",
              "    </tr>\n",
              "    <tr>\n",
              "      <th>2022-05</th>\n",
              "      <td>0.98</td>\n",
              "      <td>0.0098</td>\n",
              "      <td>1.223784</td>\n",
              "    </tr>\n",
              "  </tbody>\n",
              "</table>\n",
              "<p>210 rows × 3 columns</p>\n",
              "</div>\n",
              "      <button class=\"colab-df-convert\" onclick=\"convertToInteractive('df-516d828a-614b-4e1a-8e8a-44bb9faae0c4')\"\n",
              "              title=\"Convert this dataframe to an interactive table.\"\n",
              "              style=\"display:none;\">\n",
              "        \n",
              "  <svg xmlns=\"http://www.w3.org/2000/svg\" height=\"24px\"viewBox=\"0 0 24 24\"\n",
              "       width=\"24px\">\n",
              "    <path d=\"M0 0h24v24H0V0z\" fill=\"none\"/>\n",
              "    <path d=\"M18.56 5.44l.94 2.06.94-2.06 2.06-.94-2.06-.94-.94-2.06-.94 2.06-2.06.94zm-11 1L8.5 8.5l.94-2.06 2.06-.94-2.06-.94L8.5 2.5l-.94 2.06-2.06.94zm10 10l.94 2.06.94-2.06 2.06-.94-2.06-.94-.94-2.06-.94 2.06-2.06.94z\"/><path d=\"M17.41 7.96l-1.37-1.37c-.4-.4-.92-.59-1.43-.59-.52 0-1.04.2-1.43.59L10.3 9.45l-7.72 7.72c-.78.78-.78 2.05 0 2.83L4 21.41c.39.39.9.59 1.41.59.51 0 1.02-.2 1.41-.59l7.78-7.78 2.81-2.81c.8-.78.8-2.07 0-2.86zM5.41 20L4 18.59l7.72-7.72 1.47 1.35L5.41 20z\"/>\n",
              "  </svg>\n",
              "      </button>\n",
              "      \n",
              "  <style>\n",
              "    .colab-df-container {\n",
              "      display:flex;\n",
              "      flex-wrap:wrap;\n",
              "      gap: 12px;\n",
              "    }\n",
              "\n",
              "    .colab-df-convert {\n",
              "      background-color: #E8F0FE;\n",
              "      border: none;\n",
              "      border-radius: 50%;\n",
              "      cursor: pointer;\n",
              "      display: none;\n",
              "      fill: #1967D2;\n",
              "      height: 32px;\n",
              "      padding: 0 0 0 0;\n",
              "      width: 32px;\n",
              "    }\n",
              "\n",
              "    .colab-df-convert:hover {\n",
              "      background-color: #E2EBFA;\n",
              "      box-shadow: 0px 1px 2px rgba(60, 64, 67, 0.3), 0px 1px 3px 1px rgba(60, 64, 67, 0.15);\n",
              "      fill: #174EA6;\n",
              "    }\n",
              "\n",
              "    [theme=dark] .colab-df-convert {\n",
              "      background-color: #3B4455;\n",
              "      fill: #D2E3FC;\n",
              "    }\n",
              "\n",
              "    [theme=dark] .colab-df-convert:hover {\n",
              "      background-color: #434B5C;\n",
              "      box-shadow: 0px 1px 3px 1px rgba(0, 0, 0, 0.15);\n",
              "      filter: drop-shadow(0px 1px 2px rgba(0, 0, 0, 0.3));\n",
              "      fill: #FFFFFF;\n",
              "    }\n",
              "  </style>\n",
              "\n",
              "      <script>\n",
              "        const buttonEl =\n",
              "          document.querySelector('#df-516d828a-614b-4e1a-8e8a-44bb9faae0c4 button.colab-df-convert');\n",
              "        buttonEl.style.display =\n",
              "          google.colab.kernel.accessAllowed ? 'block' : 'none';\n",
              "\n",
              "        async function convertToInteractive(key) {\n",
              "          const element = document.querySelector('#df-516d828a-614b-4e1a-8e8a-44bb9faae0c4');\n",
              "          const dataTable =\n",
              "            await google.colab.kernel.invokeFunction('convertToInteractive',\n",
              "                                                     [key], {});\n",
              "          if (!dataTable) return;\n",
              "\n",
              "          const docLinkHtml = 'Like what you see? Visit the ' +\n",
              "            '<a target=\"_blank\" href=https://colab.research.google.com/notebooks/data_table.ipynb>data table notebook</a>'\n",
              "            + ' to learn more about interactive tables.';\n",
              "          element.innerHTML = '';\n",
              "          dataTable['output_type'] = 'display_data';\n",
              "          await google.colab.output.renderOutput(dataTable, element);\n",
              "          const docLink = document.createElement('div');\n",
              "          docLink.innerHTML = docLinkHtml;\n",
              "          element.appendChild(docLink);\n",
              "        }\n",
              "      </script>\n",
              "    </div>\n",
              "  </div>\n",
              "  "
            ]
          },
          "metadata": {},
          "execution_count": 89
        }
      ]
    },
    {
      "cell_type": "code",
      "source": [
        "closes_df[risk_free_asset] = tb3ms_df[\"CRoR\"]"
      ],
      "metadata": {
        "id": "qvsHKVC7LNYS"
      },
      "execution_count": 90,
      "outputs": []
    },
    {
      "cell_type": "code",
      "source": [
        "closes_df.drop(closes_df.tail(1).index, inplace=True)"
      ],
      "metadata": {
        "id": "WZiiu-8AeQTT"
      },
      "execution_count": 91,
      "outputs": []
    },
    {
      "cell_type": "code",
      "source": [
        "closes_df"
      ],
      "metadata": {
        "colab": {
          "base_uri": "https://localhost:8080/",
          "height": 455
        },
        "id": "n5bQ-ezitPfZ",
        "outputId": "5c66ec24-cb69-4d88-f973-1f86d9ce710b"
      },
      "execution_count": 92,
      "outputs": [
        {
          "output_type": "execute_result",
          "data": {
            "text/plain": [
              "               EEM         GLD         LQD         QQQ         SPY     TB3MS\n",
              "Date                                                                        \n",
              "2004-12  22.427778   43.799999  111.529999   39.919998  120.870003  1.001825\n",
              "2005-01  22.308889   42.220001  112.900002   37.400002  118.160004  1.003770\n",
              "2005-02  24.468889   43.529999  111.419998   37.220001  120.629997  1.005895\n",
              "2005-03  22.533333   42.820000  109.589996   36.570000  117.959999  1.008192\n",
              "2005-04  22.252222   43.349998  110.919998   34.980000  115.750000  1.010527\n",
              "...            ...         ...         ...         ...         ...       ...\n",
              "2022-01  48.840000  168.089996  127.760002  363.049988  449.910004  1.221228\n",
              "2022-02  46.730000  178.380005  124.800003  346.799988  436.630005  1.221564\n",
              "2022-03  45.150002  180.649994  120.940002  362.540009  451.640015  1.222012\n",
              "2022-04  42.380001  176.910004  112.599998  313.250000  412.000000  1.222786\n",
              "2022-05  42.639999  171.139999  114.440002  308.279999  412.929993  1.223784\n",
              "\n",
              "[210 rows x 6 columns]"
            ],
            "text/html": [
              "\n",
              "  <div id=\"df-b25e90f2-8f21-4473-97b6-d3b9ff17dbef\">\n",
              "    <div class=\"colab-df-container\">\n",
              "      <div>\n",
              "<style scoped>\n",
              "    .dataframe tbody tr th:only-of-type {\n",
              "        vertical-align: middle;\n",
              "    }\n",
              "\n",
              "    .dataframe tbody tr th {\n",
              "        vertical-align: top;\n",
              "    }\n",
              "\n",
              "    .dataframe thead th {\n",
              "        text-align: right;\n",
              "    }\n",
              "</style>\n",
              "<table border=\"1\" class=\"dataframe\">\n",
              "  <thead>\n",
              "    <tr style=\"text-align: right;\">\n",
              "      <th></th>\n",
              "      <th>EEM</th>\n",
              "      <th>GLD</th>\n",
              "      <th>LQD</th>\n",
              "      <th>QQQ</th>\n",
              "      <th>SPY</th>\n",
              "      <th>TB3MS</th>\n",
              "    </tr>\n",
              "    <tr>\n",
              "      <th>Date</th>\n",
              "      <th></th>\n",
              "      <th></th>\n",
              "      <th></th>\n",
              "      <th></th>\n",
              "      <th></th>\n",
              "      <th></th>\n",
              "    </tr>\n",
              "  </thead>\n",
              "  <tbody>\n",
              "    <tr>\n",
              "      <th>2004-12</th>\n",
              "      <td>22.427778</td>\n",
              "      <td>43.799999</td>\n",
              "      <td>111.529999</td>\n",
              "      <td>39.919998</td>\n",
              "      <td>120.870003</td>\n",
              "      <td>1.001825</td>\n",
              "    </tr>\n",
              "    <tr>\n",
              "      <th>2005-01</th>\n",
              "      <td>22.308889</td>\n",
              "      <td>42.220001</td>\n",
              "      <td>112.900002</td>\n",
              "      <td>37.400002</td>\n",
              "      <td>118.160004</td>\n",
              "      <td>1.003770</td>\n",
              "    </tr>\n",
              "    <tr>\n",
              "      <th>2005-02</th>\n",
              "      <td>24.468889</td>\n",
              "      <td>43.529999</td>\n",
              "      <td>111.419998</td>\n",
              "      <td>37.220001</td>\n",
              "      <td>120.629997</td>\n",
              "      <td>1.005895</td>\n",
              "    </tr>\n",
              "    <tr>\n",
              "      <th>2005-03</th>\n",
              "      <td>22.533333</td>\n",
              "      <td>42.820000</td>\n",
              "      <td>109.589996</td>\n",
              "      <td>36.570000</td>\n",
              "      <td>117.959999</td>\n",
              "      <td>1.008192</td>\n",
              "    </tr>\n",
              "    <tr>\n",
              "      <th>2005-04</th>\n",
              "      <td>22.252222</td>\n",
              "      <td>43.349998</td>\n",
              "      <td>110.919998</td>\n",
              "      <td>34.980000</td>\n",
              "      <td>115.750000</td>\n",
              "      <td>1.010527</td>\n",
              "    </tr>\n",
              "    <tr>\n",
              "      <th>...</th>\n",
              "      <td>...</td>\n",
              "      <td>...</td>\n",
              "      <td>...</td>\n",
              "      <td>...</td>\n",
              "      <td>...</td>\n",
              "      <td>...</td>\n",
              "    </tr>\n",
              "    <tr>\n",
              "      <th>2022-01</th>\n",
              "      <td>48.840000</td>\n",
              "      <td>168.089996</td>\n",
              "      <td>127.760002</td>\n",
              "      <td>363.049988</td>\n",
              "      <td>449.910004</td>\n",
              "      <td>1.221228</td>\n",
              "    </tr>\n",
              "    <tr>\n",
              "      <th>2022-02</th>\n",
              "      <td>46.730000</td>\n",
              "      <td>178.380005</td>\n",
              "      <td>124.800003</td>\n",
              "      <td>346.799988</td>\n",
              "      <td>436.630005</td>\n",
              "      <td>1.221564</td>\n",
              "    </tr>\n",
              "    <tr>\n",
              "      <th>2022-03</th>\n",
              "      <td>45.150002</td>\n",
              "      <td>180.649994</td>\n",
              "      <td>120.940002</td>\n",
              "      <td>362.540009</td>\n",
              "      <td>451.640015</td>\n",
              "      <td>1.222012</td>\n",
              "    </tr>\n",
              "    <tr>\n",
              "      <th>2022-04</th>\n",
              "      <td>42.380001</td>\n",
              "      <td>176.910004</td>\n",
              "      <td>112.599998</td>\n",
              "      <td>313.250000</td>\n",
              "      <td>412.000000</td>\n",
              "      <td>1.222786</td>\n",
              "    </tr>\n",
              "    <tr>\n",
              "      <th>2022-05</th>\n",
              "      <td>42.639999</td>\n",
              "      <td>171.139999</td>\n",
              "      <td>114.440002</td>\n",
              "      <td>308.279999</td>\n",
              "      <td>412.929993</td>\n",
              "      <td>1.223784</td>\n",
              "    </tr>\n",
              "  </tbody>\n",
              "</table>\n",
              "<p>210 rows × 6 columns</p>\n",
              "</div>\n",
              "      <button class=\"colab-df-convert\" onclick=\"convertToInteractive('df-b25e90f2-8f21-4473-97b6-d3b9ff17dbef')\"\n",
              "              title=\"Convert this dataframe to an interactive table.\"\n",
              "              style=\"display:none;\">\n",
              "        \n",
              "  <svg xmlns=\"http://www.w3.org/2000/svg\" height=\"24px\"viewBox=\"0 0 24 24\"\n",
              "       width=\"24px\">\n",
              "    <path d=\"M0 0h24v24H0V0z\" fill=\"none\"/>\n",
              "    <path d=\"M18.56 5.44l.94 2.06.94-2.06 2.06-.94-2.06-.94-.94-2.06-.94 2.06-2.06.94zm-11 1L8.5 8.5l.94-2.06 2.06-.94-2.06-.94L8.5 2.5l-.94 2.06-2.06.94zm10 10l.94 2.06.94-2.06 2.06-.94-2.06-.94-.94-2.06-.94 2.06-2.06.94z\"/><path d=\"M17.41 7.96l-1.37-1.37c-.4-.4-.92-.59-1.43-.59-.52 0-1.04.2-1.43.59L10.3 9.45l-7.72 7.72c-.78.78-.78 2.05 0 2.83L4 21.41c.39.39.9.59 1.41.59.51 0 1.02-.2 1.41-.59l7.78-7.78 2.81-2.81c.8-.78.8-2.07 0-2.86zM5.41 20L4 18.59l7.72-7.72 1.47 1.35L5.41 20z\"/>\n",
              "  </svg>\n",
              "      </button>\n",
              "      \n",
              "  <style>\n",
              "    .colab-df-container {\n",
              "      display:flex;\n",
              "      flex-wrap:wrap;\n",
              "      gap: 12px;\n",
              "    }\n",
              "\n",
              "    .colab-df-convert {\n",
              "      background-color: #E8F0FE;\n",
              "      border: none;\n",
              "      border-radius: 50%;\n",
              "      cursor: pointer;\n",
              "      display: none;\n",
              "      fill: #1967D2;\n",
              "      height: 32px;\n",
              "      padding: 0 0 0 0;\n",
              "      width: 32px;\n",
              "    }\n",
              "\n",
              "    .colab-df-convert:hover {\n",
              "      background-color: #E2EBFA;\n",
              "      box-shadow: 0px 1px 2px rgba(60, 64, 67, 0.3), 0px 1px 3px 1px rgba(60, 64, 67, 0.15);\n",
              "      fill: #174EA6;\n",
              "    }\n",
              "\n",
              "    [theme=dark] .colab-df-convert {\n",
              "      background-color: #3B4455;\n",
              "      fill: #D2E3FC;\n",
              "    }\n",
              "\n",
              "    [theme=dark] .colab-df-convert:hover {\n",
              "      background-color: #434B5C;\n",
              "      box-shadow: 0px 1px 3px 1px rgba(0, 0, 0, 0.15);\n",
              "      filter: drop-shadow(0px 1px 2px rgba(0, 0, 0, 0.3));\n",
              "      fill: #FFFFFF;\n",
              "    }\n",
              "  </style>\n",
              "\n",
              "      <script>\n",
              "        const buttonEl =\n",
              "          document.querySelector('#df-b25e90f2-8f21-4473-97b6-d3b9ff17dbef button.colab-df-convert');\n",
              "        buttonEl.style.display =\n",
              "          google.colab.kernel.accessAllowed ? 'block' : 'none';\n",
              "\n",
              "        async function convertToInteractive(key) {\n",
              "          const element = document.querySelector('#df-b25e90f2-8f21-4473-97b6-d3b9ff17dbef');\n",
              "          const dataTable =\n",
              "            await google.colab.kernel.invokeFunction('convertToInteractive',\n",
              "                                                     [key], {});\n",
              "          if (!dataTable) return;\n",
              "\n",
              "          const docLinkHtml = 'Like what you see? Visit the ' +\n",
              "            '<a target=\"_blank\" href=https://colab.research.google.com/notebooks/data_table.ipynb>data table notebook</a>'\n",
              "            + ' to learn more about interactive tables.';\n",
              "          element.innerHTML = '';\n",
              "          dataTable['output_type'] = 'display_data';\n",
              "          await google.colab.output.renderOutput(dataTable, element);\n",
              "          const docLink = document.createElement('div');\n",
              "          docLink.innerHTML = docLinkHtml;\n",
              "          element.appendChild(docLink);\n",
              "        }\n",
              "      </script>\n",
              "    </div>\n",
              "  </div>\n",
              "  "
            ]
          },
          "metadata": {},
          "execution_count": 92
        }
      ]
    },
    {
      "cell_type": "markdown",
      "metadata": {
        "id": "a2QbLZh3hy2t"
      },
      "source": [
        "# calculate ror and find winners"
      ]
    },
    {
      "cell_type": "code",
      "source": [
        "exclude_period, look_back = 3, 12"
      ],
      "metadata": {
        "id": "aOwwbDCx6QZ3"
      },
      "execution_count": 208,
      "outputs": []
    },
    {
      "cell_type": "code",
      "source": [
        "ror_df = closes_df.apply(lambda x: round((x.shift(exclude_period) - x.shift(look_back)) / x.shift(look_back), 4), axis=0)"
      ],
      "metadata": {
        "id": "PBrif83apBmx"
      },
      "execution_count": 209,
      "outputs": []
    },
    {
      "cell_type": "code",
      "source": [
        "ror_df"
      ],
      "metadata": {
        "colab": {
          "base_uri": "https://localhost:8080/",
          "height": 455
        },
        "id": "CdvYWSQP7fLk",
        "outputId": "a714c92c-fc53-4552-f732-9c09d2d2d2d3"
      },
      "execution_count": 210,
      "outputs": [
        {
          "output_type": "execute_result",
          "data": {
            "text/plain": [
              "            EEM     GLD     LQD     QQQ     SPY   TB3MS\n",
              "Date                                                   \n",
              "2004-12     NaN     NaN     NaN     NaN     NaN     NaN\n",
              "2005-01     NaN     NaN     NaN     NaN     NaN     NaN\n",
              "2005-02     NaN     NaN     NaN     NaN     NaN     NaN\n",
              "2005-03     NaN     NaN     NaN     NaN     NaN     NaN\n",
              "2005-04     NaN     NaN     NaN     NaN     NaN     NaN\n",
              "...         ...     ...     ...     ...     ...     ...\n",
              "2022-01 -0.0448 -0.0345 -0.0156  0.2275  0.2410  0.0003\n",
              "2022-02 -0.0910  0.0228  0.0060  0.2536  0.1977  0.0003\n",
              "2022-03 -0.0842  0.0688  0.0190  0.2467  0.1984  0.0003\n",
              "2022-04 -0.0952  0.0147 -0.0258  0.0741  0.0781  0.0004\n",
              "2022-05 -0.1484  0.0000 -0.0525  0.0385  0.0395  0.0007\n",
              "\n",
              "[210 rows x 6 columns]"
            ],
            "text/html": [
              "\n",
              "  <div id=\"df-ada0c7da-4569-4940-a93f-b592ee6f2947\">\n",
              "    <div class=\"colab-df-container\">\n",
              "      <div>\n",
              "<style scoped>\n",
              "    .dataframe tbody tr th:only-of-type {\n",
              "        vertical-align: middle;\n",
              "    }\n",
              "\n",
              "    .dataframe tbody tr th {\n",
              "        vertical-align: top;\n",
              "    }\n",
              "\n",
              "    .dataframe thead th {\n",
              "        text-align: right;\n",
              "    }\n",
              "</style>\n",
              "<table border=\"1\" class=\"dataframe\">\n",
              "  <thead>\n",
              "    <tr style=\"text-align: right;\">\n",
              "      <th></th>\n",
              "      <th>EEM</th>\n",
              "      <th>GLD</th>\n",
              "      <th>LQD</th>\n",
              "      <th>QQQ</th>\n",
              "      <th>SPY</th>\n",
              "      <th>TB3MS</th>\n",
              "    </tr>\n",
              "    <tr>\n",
              "      <th>Date</th>\n",
              "      <th></th>\n",
              "      <th></th>\n",
              "      <th></th>\n",
              "      <th></th>\n",
              "      <th></th>\n",
              "      <th></th>\n",
              "    </tr>\n",
              "  </thead>\n",
              "  <tbody>\n",
              "    <tr>\n",
              "      <th>2004-12</th>\n",
              "      <td>NaN</td>\n",
              "      <td>NaN</td>\n",
              "      <td>NaN</td>\n",
              "      <td>NaN</td>\n",
              "      <td>NaN</td>\n",
              "      <td>NaN</td>\n",
              "    </tr>\n",
              "    <tr>\n",
              "      <th>2005-01</th>\n",
              "      <td>NaN</td>\n",
              "      <td>NaN</td>\n",
              "      <td>NaN</td>\n",
              "      <td>NaN</td>\n",
              "      <td>NaN</td>\n",
              "      <td>NaN</td>\n",
              "    </tr>\n",
              "    <tr>\n",
              "      <th>2005-02</th>\n",
              "      <td>NaN</td>\n",
              "      <td>NaN</td>\n",
              "      <td>NaN</td>\n",
              "      <td>NaN</td>\n",
              "      <td>NaN</td>\n",
              "      <td>NaN</td>\n",
              "    </tr>\n",
              "    <tr>\n",
              "      <th>2005-03</th>\n",
              "      <td>NaN</td>\n",
              "      <td>NaN</td>\n",
              "      <td>NaN</td>\n",
              "      <td>NaN</td>\n",
              "      <td>NaN</td>\n",
              "      <td>NaN</td>\n",
              "    </tr>\n",
              "    <tr>\n",
              "      <th>2005-04</th>\n",
              "      <td>NaN</td>\n",
              "      <td>NaN</td>\n",
              "      <td>NaN</td>\n",
              "      <td>NaN</td>\n",
              "      <td>NaN</td>\n",
              "      <td>NaN</td>\n",
              "    </tr>\n",
              "    <tr>\n",
              "      <th>...</th>\n",
              "      <td>...</td>\n",
              "      <td>...</td>\n",
              "      <td>...</td>\n",
              "      <td>...</td>\n",
              "      <td>...</td>\n",
              "      <td>...</td>\n",
              "    </tr>\n",
              "    <tr>\n",
              "      <th>2022-01</th>\n",
              "      <td>-0.0448</td>\n",
              "      <td>-0.0345</td>\n",
              "      <td>-0.0156</td>\n",
              "      <td>0.2275</td>\n",
              "      <td>0.2410</td>\n",
              "      <td>0.0003</td>\n",
              "    </tr>\n",
              "    <tr>\n",
              "      <th>2022-02</th>\n",
              "      <td>-0.0910</td>\n",
              "      <td>0.0228</td>\n",
              "      <td>0.0060</td>\n",
              "      <td>0.2536</td>\n",
              "      <td>0.1977</td>\n",
              "      <td>0.0003</td>\n",
              "    </tr>\n",
              "    <tr>\n",
              "      <th>2022-03</th>\n",
              "      <td>-0.0842</td>\n",
              "      <td>0.0688</td>\n",
              "      <td>0.0190</td>\n",
              "      <td>0.2467</td>\n",
              "      <td>0.1984</td>\n",
              "      <td>0.0003</td>\n",
              "    </tr>\n",
              "    <tr>\n",
              "      <th>2022-04</th>\n",
              "      <td>-0.0952</td>\n",
              "      <td>0.0147</td>\n",
              "      <td>-0.0258</td>\n",
              "      <td>0.0741</td>\n",
              "      <td>0.0781</td>\n",
              "      <td>0.0004</td>\n",
              "    </tr>\n",
              "    <tr>\n",
              "      <th>2022-05</th>\n",
              "      <td>-0.1484</td>\n",
              "      <td>0.0000</td>\n",
              "      <td>-0.0525</td>\n",
              "      <td>0.0385</td>\n",
              "      <td>0.0395</td>\n",
              "      <td>0.0007</td>\n",
              "    </tr>\n",
              "  </tbody>\n",
              "</table>\n",
              "<p>210 rows × 6 columns</p>\n",
              "</div>\n",
              "      <button class=\"colab-df-convert\" onclick=\"convertToInteractive('df-ada0c7da-4569-4940-a93f-b592ee6f2947')\"\n",
              "              title=\"Convert this dataframe to an interactive table.\"\n",
              "              style=\"display:none;\">\n",
              "        \n",
              "  <svg xmlns=\"http://www.w3.org/2000/svg\" height=\"24px\"viewBox=\"0 0 24 24\"\n",
              "       width=\"24px\">\n",
              "    <path d=\"M0 0h24v24H0V0z\" fill=\"none\"/>\n",
              "    <path d=\"M18.56 5.44l.94 2.06.94-2.06 2.06-.94-2.06-.94-.94-2.06-.94 2.06-2.06.94zm-11 1L8.5 8.5l.94-2.06 2.06-.94-2.06-.94L8.5 2.5l-.94 2.06-2.06.94zm10 10l.94 2.06.94-2.06 2.06-.94-2.06-.94-.94-2.06-.94 2.06-2.06.94z\"/><path d=\"M17.41 7.96l-1.37-1.37c-.4-.4-.92-.59-1.43-.59-.52 0-1.04.2-1.43.59L10.3 9.45l-7.72 7.72c-.78.78-.78 2.05 0 2.83L4 21.41c.39.39.9.59 1.41.59.51 0 1.02-.2 1.41-.59l7.78-7.78 2.81-2.81c.8-.78.8-2.07 0-2.86zM5.41 20L4 18.59l7.72-7.72 1.47 1.35L5.41 20z\"/>\n",
              "  </svg>\n",
              "      </button>\n",
              "      \n",
              "  <style>\n",
              "    .colab-df-container {\n",
              "      display:flex;\n",
              "      flex-wrap:wrap;\n",
              "      gap: 12px;\n",
              "    }\n",
              "\n",
              "    .colab-df-convert {\n",
              "      background-color: #E8F0FE;\n",
              "      border: none;\n",
              "      border-radius: 50%;\n",
              "      cursor: pointer;\n",
              "      display: none;\n",
              "      fill: #1967D2;\n",
              "      height: 32px;\n",
              "      padding: 0 0 0 0;\n",
              "      width: 32px;\n",
              "    }\n",
              "\n",
              "    .colab-df-convert:hover {\n",
              "      background-color: #E2EBFA;\n",
              "      box-shadow: 0px 1px 2px rgba(60, 64, 67, 0.3), 0px 1px 3px 1px rgba(60, 64, 67, 0.15);\n",
              "      fill: #174EA6;\n",
              "    }\n",
              "\n",
              "    [theme=dark] .colab-df-convert {\n",
              "      background-color: #3B4455;\n",
              "      fill: #D2E3FC;\n",
              "    }\n",
              "\n",
              "    [theme=dark] .colab-df-convert:hover {\n",
              "      background-color: #434B5C;\n",
              "      box-shadow: 0px 1px 3px 1px rgba(0, 0, 0, 0.15);\n",
              "      filter: drop-shadow(0px 1px 2px rgba(0, 0, 0, 0.3));\n",
              "      fill: #FFFFFF;\n",
              "    }\n",
              "  </style>\n",
              "\n",
              "      <script>\n",
              "        const buttonEl =\n",
              "          document.querySelector('#df-ada0c7da-4569-4940-a93f-b592ee6f2947 button.colab-df-convert');\n",
              "        buttonEl.style.display =\n",
              "          google.colab.kernel.accessAllowed ? 'block' : 'none';\n",
              "\n",
              "        async function convertToInteractive(key) {\n",
              "          const element = document.querySelector('#df-ada0c7da-4569-4940-a93f-b592ee6f2947');\n",
              "          const dataTable =\n",
              "            await google.colab.kernel.invokeFunction('convertToInteractive',\n",
              "                                                     [key], {});\n",
              "          if (!dataTable) return;\n",
              "\n",
              "          const docLinkHtml = 'Like what you see? Visit the ' +\n",
              "            '<a target=\"_blank\" href=https://colab.research.google.com/notebooks/data_table.ipynb>data table notebook</a>'\n",
              "            + ' to learn more about interactive tables.';\n",
              "          element.innerHTML = '';\n",
              "          dataTable['output_type'] = 'display_data';\n",
              "          await google.colab.output.renderOutput(dataTable, element);\n",
              "          const docLink = document.createElement('div');\n",
              "          docLink.innerHTML = docLinkHtml;\n",
              "          element.appendChild(docLink);\n",
              "        }\n",
              "      </script>\n",
              "    </div>\n",
              "  </div>\n",
              "  "
            ]
          },
          "metadata": {},
          "execution_count": 210
        }
      ]
    },
    {
      "cell_type": "code",
      "source": [
        "winners = ror_df.idxmax(axis=1)"
      ],
      "metadata": {
        "id": "hi7Jr6uD8cfP"
      },
      "execution_count": 211,
      "outputs": []
    },
    {
      "cell_type": "code",
      "source": [
        "winners[:look_back] = risk_free_asset"
      ],
      "metadata": {
        "id": "3k4OT_xR6JP8"
      },
      "execution_count": 212,
      "outputs": []
    },
    {
      "cell_type": "code",
      "source": [
        "winners = winners.to_numpy()"
      ],
      "metadata": {
        "id": "zz-B5S-YLi_W"
      },
      "execution_count": 213,
      "outputs": []
    },
    {
      "cell_type": "code",
      "source": [
        "winners"
      ],
      "metadata": {
        "colab": {
          "base_uri": "https://localhost:8080/"
        },
        "id": "jZCPsBcgL3ln",
        "outputId": "29d8db39-8ed0-4748-e00c-7bf6ba1c2c0e"
      },
      "execution_count": 214,
      "outputs": [
        {
          "output_type": "execute_result",
          "data": {
            "text/plain": [
              "array(['TB3MS', 'TB3MS', 'TB3MS', 'TB3MS', 'TB3MS', 'TB3MS', 'TB3MS',\n",
              "       'TB3MS', 'TB3MS', 'TB3MS', 'TB3MS', 'TB3MS', 'EEM', 'EEM', 'EEM',\n",
              "       'EEM', 'EEM', 'EEM', 'EEM', 'GLD', 'GLD', 'GLD', 'GLD', 'GLD',\n",
              "       'GLD', 'SPY', 'GLD', 'EEM', 'SPY', 'EEM', 'EEM', 'EEM', 'EEM',\n",
              "       'EEM', 'EEM', 'EEM', 'EEM', 'EEM', 'EEM', 'EEM', 'GLD', 'GLD',\n",
              "       'GLD', 'GLD', 'GLD', 'GLD', 'GLD', 'GLD', 'GLD', 'TB3MS', 'TB3MS',\n",
              "       'TB3MS', 'GLD', 'GLD', 'TB3MS', 'TB3MS', 'GLD', 'LQD', 'EEM',\n",
              "       'EEM', 'EEM', 'EEM', 'EEM', 'EEM', 'EEM', 'QQQ', 'QQQ', 'QQQ',\n",
              "       'GLD', 'GLD', 'GLD', 'GLD', 'GLD', 'GLD', 'GLD', 'GLD', 'QQQ',\n",
              "       'QQQ', 'QQQ', 'GLD', 'QQQ', 'QQQ', 'GLD', 'GLD', 'GLD', 'GLD',\n",
              "       'GLD', 'GLD', 'GLD', 'QQQ', 'QQQ', 'QQQ', 'QQQ', 'QQQ', 'QQQ',\n",
              "       'QQQ', 'QQQ', 'SPY', 'LQD', 'LQD', 'SPY', 'SPY', 'SPY', 'SPY',\n",
              "       'SPY', 'SPY', 'SPY', 'SPY', 'QQQ', 'QQQ', 'QQQ', 'QQQ', 'QQQ',\n",
              "       'QQQ', 'QQQ', 'QQQ', 'QQQ', 'QQQ', 'QQQ', 'QQQ', 'QQQ', 'QQQ',\n",
              "       'QQQ', 'QQQ', 'QQQ', 'QQQ', 'QQQ', 'QQQ', 'QQQ', 'QQQ', 'QQQ',\n",
              "       'TB3MS', 'TB3MS', 'QQQ', 'QQQ', 'QQQ', 'TB3MS', 'GLD', 'GLD',\n",
              "       'GLD', 'GLD', 'GLD', 'GLD', 'GLD', 'GLD', 'EEM', 'EEM', 'SPY',\n",
              "       'QQQ', 'QQQ', 'QQQ', 'QQQ', 'QQQ', 'QQQ', 'QQQ', 'EEM', 'EEM',\n",
              "       'EEM', 'EEM', 'EEM', 'EEM', 'QQQ', 'EEM', 'QQQ', 'QQQ', 'QQQ',\n",
              "       'QQQ', 'QQQ', 'QQQ', 'TB3MS', 'TB3MS', 'TB3MS', 'QQQ', 'SPY',\n",
              "       'QQQ', 'QQQ', 'GLD', 'GLD', 'GLD', 'GLD', 'QQQ', 'QQQ', 'QQQ',\n",
              "       'QQQ', 'GLD', 'GLD', 'GLD', 'GLD', 'QQQ', 'QQQ', 'QQQ', 'QQQ',\n",
              "       'QQQ', 'QQQ', 'QQQ', 'QQQ', 'EEM', 'EEM', 'EEM', 'SPY', 'EEM',\n",
              "       'SPY', 'QQQ', 'QQQ', 'SPY', 'SPY', 'QQQ', 'QQQ', 'SPY', 'SPY'],\n",
              "      dtype=object)"
            ]
          },
          "metadata": {},
          "execution_count": 214
        }
      ]
    },
    {
      "cell_type": "code",
      "source": [
        "masking = np.roll(winners, 1) != winners"
      ],
      "metadata": {
        "id": "I_JZVjN4MXEw"
      },
      "execution_count": 215,
      "outputs": []
    },
    {
      "cell_type": "code",
      "source": [
        "buy_tickers = winners[masking]"
      ],
      "metadata": {
        "id": "_Ef-chR2WOwm"
      },
      "execution_count": 216,
      "outputs": []
    },
    {
      "cell_type": "code",
      "source": [
        "buy_tickers"
      ],
      "metadata": {
        "colab": {
          "base_uri": "https://localhost:8080/"
        },
        "id": "o7nN76GA-LRx",
        "outputId": "ef03e328-3e7b-42a6-9a1d-076d278b47a6"
      },
      "execution_count": 217,
      "outputs": [
        {
          "output_type": "execute_result",
          "data": {
            "text/plain": [
              "array(['TB3MS', 'EEM', 'GLD', 'SPY', 'GLD', 'EEM', 'SPY', 'EEM', 'GLD',\n",
              "       'TB3MS', 'GLD', 'TB3MS', 'GLD', 'LQD', 'EEM', 'QQQ', 'GLD', 'QQQ',\n",
              "       'GLD', 'QQQ', 'GLD', 'QQQ', 'SPY', 'LQD', 'SPY', 'QQQ', 'TB3MS',\n",
              "       'QQQ', 'TB3MS', 'GLD', 'EEM', 'SPY', 'QQQ', 'EEM', 'QQQ', 'EEM',\n",
              "       'QQQ', 'TB3MS', 'QQQ', 'SPY', 'QQQ', 'GLD', 'QQQ', 'GLD', 'QQQ',\n",
              "       'EEM', 'SPY', 'EEM', 'SPY', 'QQQ', 'SPY', 'QQQ', 'SPY'],\n",
              "      dtype=object)"
            ]
          },
          "metadata": {},
          "execution_count": 217
        }
      ]
    },
    {
      "cell_type": "code",
      "source": [
        "buy_indices = np.where(masking)[0]"
      ],
      "metadata": {
        "id": "AjLRFmwkXJ-V"
      },
      "execution_count": 218,
      "outputs": []
    },
    {
      "cell_type": "code",
      "source": [
        "buy_indices, len(buy_indices)"
      ],
      "metadata": {
        "colab": {
          "base_uri": "https://localhost:8080/"
        },
        "id": "tXF3ITz5-E7q",
        "outputId": "94bcec18-af08-497e-c2e7-7c4ca4b5341c"
      },
      "execution_count": 219,
      "outputs": [
        {
          "output_type": "execute_result",
          "data": {
            "text/plain": [
              "(array([  0,  12,  19,  25,  26,  27,  28,  29,  40,  49,  52,  54,  56,\n",
              "         57,  58,  65,  68,  76,  79,  80,  82,  89,  97,  98, 100, 108,\n",
              "        131, 133, 136, 137, 145, 147, 148, 155, 161, 162, 163, 169, 172,\n",
              "        173, 174, 176, 180, 184, 188, 196, 199, 200, 201, 202, 204, 206,\n",
              "        208]), 53)"
            ]
          },
          "metadata": {},
          "execution_count": 219
        }
      ]
    },
    {
      "cell_type": "markdown",
      "source": [
        "# transaction history (accessing df)"
      ],
      "metadata": {
        "id": "mgF2DV1hdWjZ"
      }
    },
    {
      "cell_type": "code",
      "source": [
        "stamp = time.time()\n",
        "holdings = deque([])\n",
        "transactions = []\n",
        "for ticker, index in zip(buy_tickers, buy_indices):\n",
        "  date_ = closes_df.index[index]\n",
        "  price_ = closes_df[ticker][index]\n",
        "  new_buy = {\"ticker\": ticker, \"buy_date\": date_, \"buy_price\": price_}\n",
        "  if len(holdings):\n",
        "    # pop existing one\n",
        "    new_sell = holdings.popleft()\n",
        "    new_sell[\"sell_date\"] = date_\n",
        "    new_sell[\"sell_price\"] = closes_df[new_sell[\"ticker\"]][index]\n",
        "    new_sell[\"ror\"] = (new_sell[\"sell_price\"] - new_sell[\"buy_price\"]) / new_sell[\"buy_price\"] + 1\n",
        "    transactions.append(new_sell)\n",
        "  # add new ticker\n",
        "  holdings.append(new_buy)\n",
        "print(time.time()-stamp)"
      ],
      "metadata": {
        "id": "TDvVr4giYUdK",
        "colab": {
          "base_uri": "https://localhost:8080/"
        },
        "outputId": "9a63263c-c102-4764-a2fa-3f86ad18d1ad"
      },
      "execution_count": 220,
      "outputs": [
        {
          "output_type": "stream",
          "name": "stdout",
          "text": [
            "0.0022017955780029297\n"
          ]
        }
      ]
    },
    {
      "cell_type": "code",
      "source": [
        "len(transactions), np.prod(list(map(lambda x: x[\"ror\"], transactions)))"
      ],
      "metadata": {
        "colab": {
          "base_uri": "https://localhost:8080/"
        },
        "id": "ig_rwwgl5SAY",
        "outputId": "6227b4b7-a599-46ec-fc47-9b3060a4056e"
      },
      "execution_count": 221,
      "outputs": [
        {
          "output_type": "execute_result",
          "data": {
            "text/plain": [
              "(52, 4.77234479531734)"
            ]
          },
          "metadata": {},
          "execution_count": 221
        }
      ]
    },
    {
      "cell_type": "markdown",
      "source": [
        "# transactions history (itertuples)"
      ],
      "metadata": {
        "id": "Upi2XUhYNGMO"
      }
    },
    {
      "cell_type": "code",
      "source": [
        "stamp = time.time()\n",
        "holdings = deque([])\n",
        "transactions = []\n",
        "for row, ticker in zip(closes_df[masking].itertuples(), buy_tickers):\n",
        "  new_buy = {\"ticker\": ticker, \"buy_date\": row.Index, \"buy_price\": getattr(row, ticker)}\n",
        "  if len(holdings):\n",
        "    # pop existing one\n",
        "    new_sell = holdings.popleft()\n",
        "    new_sell[\"sell_date\"] = row.Index\n",
        "    new_sell[\"sell_price\"] = getattr(row, new_sell[\"ticker\"])\n",
        "    new_sell[\"ror\"] = (new_sell[\"sell_price\"] - new_sell[\"buy_price\"]) / new_sell[\"buy_price\"] + 1\n",
        "    transactions.append(new_sell)\n",
        "  # add new ticker\n",
        "  holdings.append(new_buy)\n",
        "print(time.time()-stamp)"
      ],
      "metadata": {
        "colab": {
          "base_uri": "https://localhost:8080/"
        },
        "id": "vW5XvjylUDyJ",
        "outputId": "ca479870-d05c-4fe1-d7d7-6fe2319f9579"
      },
      "execution_count": 222,
      "outputs": [
        {
          "output_type": "stream",
          "name": "stdout",
          "text": [
            "0.0028357505798339844\n"
          ]
        }
      ]
    },
    {
      "cell_type": "code",
      "source": [
        "len(transactions), np.prod(list(map(lambda x: x[\"ror\"], transactions)))"
      ],
      "metadata": {
        "colab": {
          "base_uri": "https://localhost:8080/"
        },
        "id": "QcRp76IxROba",
        "outputId": "67498ad4-6091-48ea-b1c1-4300fe3c02b6"
      },
      "execution_count": 223,
      "outputs": [
        {
          "output_type": "execute_result",
          "data": {
            "text/plain": [
              "(52, 4.77234479531734)"
            ]
          },
          "metadata": {},
          "execution_count": 223
        }
      ]
    },
    {
      "cell_type": "code",
      "source": [
        "# transactions"
      ],
      "metadata": {
        "id": "62UMD6kxX77S"
      },
      "execution_count": 224,
      "outputs": []
    },
    {
      "cell_type": "code",
      "source": [
        "holding = holdings.pop()\n",
        "holding[\"up_to_date\"] = closes_df.index[-1]\n",
        "holding[\"current_price\"] = closes_df[holding[\"ticker\"]][-1]\n",
        "holding[\"ror\"] = (holding[\"current_price\"] - holding[\"buy_price\"]) / holding[\"buy_price\"] + 1\n",
        "transactions.append(holding)"
      ],
      "metadata": {
        "id": "tLFrYfFrvYfK"
      },
      "execution_count": 225,
      "outputs": []
    },
    {
      "cell_type": "code",
      "source": [
        "# transactions"
      ],
      "metadata": {
        "id": "OS0Y2_l0yemQ"
      },
      "execution_count": 226,
      "outputs": []
    },
    {
      "cell_type": "code",
      "source": [
        "len(transactions), np.prod(list(map(lambda x: x[\"ror\"], transactions)))"
      ],
      "metadata": {
        "id": "MWhAg0E8y6bS",
        "outputId": "0767c21b-d009-4b3e-b520-186d51e5fbfc",
        "colab": {
          "base_uri": "https://localhost:8080/"
        }
      },
      "execution_count": 227,
      "outputs": [
        {
          "output_type": "execute_result",
          "data": {
            "text/plain": [
              "(53, 4.783117236351194)"
            ]
          },
          "metadata": {},
          "execution_count": 227
        }
      ]
    },
    {
      "cell_type": "markdown",
      "source": [
        "# normalized closes"
      ],
      "metadata": {
        "id": "AVvMo2Lj-cgk"
      }
    },
    {
      "cell_type": "code",
      "source": [
        "mrr_df = closes_df.apply(lambda x: round((x.shift(-1) - x) / x, 6) + 1, axis=0)"
      ],
      "metadata": {
        "id": "60GjU2GyI7-6"
      },
      "execution_count": 228,
      "outputs": []
    },
    {
      "cell_type": "code",
      "source": [
        "mrr_df.drop(mrr_df.tail(1).index, inplace=True)"
      ],
      "metadata": {
        "id": "I_G2OFL8ZeB-"
      },
      "execution_count": 229,
      "outputs": []
    },
    {
      "cell_type": "code",
      "source": [
        "mrr_df"
      ],
      "metadata": {
        "colab": {
          "base_uri": "https://localhost:8080/",
          "height": 455
        },
        "id": "RlBKpJHaucQC",
        "outputId": "fbd9c2b3-12a9-44cf-fd18-220375731b9b"
      },
      "execution_count": 230,
      "outputs": [
        {
          "output_type": "execute_result",
          "data": {
            "text/plain": [
              "              EEM       GLD       LQD       QQQ       SPY     TB3MS\n",
              "Date                                                               \n",
              "2004-12  0.994699  0.963927  1.012284  0.936874  0.977579  1.001942\n",
              "2005-01  1.096822  1.031028  0.986891  0.995187  1.020904  1.002117\n",
              "2005-02  0.920897  0.983689  0.983576  0.982536  0.977866  1.002283\n",
              "2005-03  0.987525  1.012377  1.012136  0.956522  0.981265  1.002317\n",
              "2005-04  1.031607  0.960784  1.002344  1.088622  1.032225  1.002367\n",
              "...           ...       ...       ...       ...       ...       ...\n",
              "2021-12  0.999795  0.983212  0.964081  0.912530  0.947259  1.000125\n",
              "2022-01  0.956798  1.061217  0.976832  0.955240  0.970483  1.000275\n",
              "2022-02  0.966189  1.012726  0.969071  1.045386  1.034377  1.000367\n",
              "2022-03  0.938649  0.979297  0.931040  0.864043  0.912231  1.000633\n",
              "2022-04  1.006135  0.967385  1.016341  0.984134  1.002257  1.000817\n",
              "\n",
              "[209 rows x 6 columns]"
            ],
            "text/html": [
              "\n",
              "  <div id=\"df-9e176293-d909-45e7-a8d7-339f4788c3cd\">\n",
              "    <div class=\"colab-df-container\">\n",
              "      <div>\n",
              "<style scoped>\n",
              "    .dataframe tbody tr th:only-of-type {\n",
              "        vertical-align: middle;\n",
              "    }\n",
              "\n",
              "    .dataframe tbody tr th {\n",
              "        vertical-align: top;\n",
              "    }\n",
              "\n",
              "    .dataframe thead th {\n",
              "        text-align: right;\n",
              "    }\n",
              "</style>\n",
              "<table border=\"1\" class=\"dataframe\">\n",
              "  <thead>\n",
              "    <tr style=\"text-align: right;\">\n",
              "      <th></th>\n",
              "      <th>EEM</th>\n",
              "      <th>GLD</th>\n",
              "      <th>LQD</th>\n",
              "      <th>QQQ</th>\n",
              "      <th>SPY</th>\n",
              "      <th>TB3MS</th>\n",
              "    </tr>\n",
              "    <tr>\n",
              "      <th>Date</th>\n",
              "      <th></th>\n",
              "      <th></th>\n",
              "      <th></th>\n",
              "      <th></th>\n",
              "      <th></th>\n",
              "      <th></th>\n",
              "    </tr>\n",
              "  </thead>\n",
              "  <tbody>\n",
              "    <tr>\n",
              "      <th>2004-12</th>\n",
              "      <td>0.994699</td>\n",
              "      <td>0.963927</td>\n",
              "      <td>1.012284</td>\n",
              "      <td>0.936874</td>\n",
              "      <td>0.977579</td>\n",
              "      <td>1.001942</td>\n",
              "    </tr>\n",
              "    <tr>\n",
              "      <th>2005-01</th>\n",
              "      <td>1.096822</td>\n",
              "      <td>1.031028</td>\n",
              "      <td>0.986891</td>\n",
              "      <td>0.995187</td>\n",
              "      <td>1.020904</td>\n",
              "      <td>1.002117</td>\n",
              "    </tr>\n",
              "    <tr>\n",
              "      <th>2005-02</th>\n",
              "      <td>0.920897</td>\n",
              "      <td>0.983689</td>\n",
              "      <td>0.983576</td>\n",
              "      <td>0.982536</td>\n",
              "      <td>0.977866</td>\n",
              "      <td>1.002283</td>\n",
              "    </tr>\n",
              "    <tr>\n",
              "      <th>2005-03</th>\n",
              "      <td>0.987525</td>\n",
              "      <td>1.012377</td>\n",
              "      <td>1.012136</td>\n",
              "      <td>0.956522</td>\n",
              "      <td>0.981265</td>\n",
              "      <td>1.002317</td>\n",
              "    </tr>\n",
              "    <tr>\n",
              "      <th>2005-04</th>\n",
              "      <td>1.031607</td>\n",
              "      <td>0.960784</td>\n",
              "      <td>1.002344</td>\n",
              "      <td>1.088622</td>\n",
              "      <td>1.032225</td>\n",
              "      <td>1.002367</td>\n",
              "    </tr>\n",
              "    <tr>\n",
              "      <th>...</th>\n",
              "      <td>...</td>\n",
              "      <td>...</td>\n",
              "      <td>...</td>\n",
              "      <td>...</td>\n",
              "      <td>...</td>\n",
              "      <td>...</td>\n",
              "    </tr>\n",
              "    <tr>\n",
              "      <th>2021-12</th>\n",
              "      <td>0.999795</td>\n",
              "      <td>0.983212</td>\n",
              "      <td>0.964081</td>\n",
              "      <td>0.912530</td>\n",
              "      <td>0.947259</td>\n",
              "      <td>1.000125</td>\n",
              "    </tr>\n",
              "    <tr>\n",
              "      <th>2022-01</th>\n",
              "      <td>0.956798</td>\n",
              "      <td>1.061217</td>\n",
              "      <td>0.976832</td>\n",
              "      <td>0.955240</td>\n",
              "      <td>0.970483</td>\n",
              "      <td>1.000275</td>\n",
              "    </tr>\n",
              "    <tr>\n",
              "      <th>2022-02</th>\n",
              "      <td>0.966189</td>\n",
              "      <td>1.012726</td>\n",
              "      <td>0.969071</td>\n",
              "      <td>1.045386</td>\n",
              "      <td>1.034377</td>\n",
              "      <td>1.000367</td>\n",
              "    </tr>\n",
              "    <tr>\n",
              "      <th>2022-03</th>\n",
              "      <td>0.938649</td>\n",
              "      <td>0.979297</td>\n",
              "      <td>0.931040</td>\n",
              "      <td>0.864043</td>\n",
              "      <td>0.912231</td>\n",
              "      <td>1.000633</td>\n",
              "    </tr>\n",
              "    <tr>\n",
              "      <th>2022-04</th>\n",
              "      <td>1.006135</td>\n",
              "      <td>0.967385</td>\n",
              "      <td>1.016341</td>\n",
              "      <td>0.984134</td>\n",
              "      <td>1.002257</td>\n",
              "      <td>1.000817</td>\n",
              "    </tr>\n",
              "  </tbody>\n",
              "</table>\n",
              "<p>209 rows × 6 columns</p>\n",
              "</div>\n",
              "      <button class=\"colab-df-convert\" onclick=\"convertToInteractive('df-9e176293-d909-45e7-a8d7-339f4788c3cd')\"\n",
              "              title=\"Convert this dataframe to an interactive table.\"\n",
              "              style=\"display:none;\">\n",
              "        \n",
              "  <svg xmlns=\"http://www.w3.org/2000/svg\" height=\"24px\"viewBox=\"0 0 24 24\"\n",
              "       width=\"24px\">\n",
              "    <path d=\"M0 0h24v24H0V0z\" fill=\"none\"/>\n",
              "    <path d=\"M18.56 5.44l.94 2.06.94-2.06 2.06-.94-2.06-.94-.94-2.06-.94 2.06-2.06.94zm-11 1L8.5 8.5l.94-2.06 2.06-.94-2.06-.94L8.5 2.5l-.94 2.06-2.06.94zm10 10l.94 2.06.94-2.06 2.06-.94-2.06-.94-.94-2.06-.94 2.06-2.06.94z\"/><path d=\"M17.41 7.96l-1.37-1.37c-.4-.4-.92-.59-1.43-.59-.52 0-1.04.2-1.43.59L10.3 9.45l-7.72 7.72c-.78.78-.78 2.05 0 2.83L4 21.41c.39.39.9.59 1.41.59.51 0 1.02-.2 1.41-.59l7.78-7.78 2.81-2.81c.8-.78.8-2.07 0-2.86zM5.41 20L4 18.59l7.72-7.72 1.47 1.35L5.41 20z\"/>\n",
              "  </svg>\n",
              "      </button>\n",
              "      \n",
              "  <style>\n",
              "    .colab-df-container {\n",
              "      display:flex;\n",
              "      flex-wrap:wrap;\n",
              "      gap: 12px;\n",
              "    }\n",
              "\n",
              "    .colab-df-convert {\n",
              "      background-color: #E8F0FE;\n",
              "      border: none;\n",
              "      border-radius: 50%;\n",
              "      cursor: pointer;\n",
              "      display: none;\n",
              "      fill: #1967D2;\n",
              "      height: 32px;\n",
              "      padding: 0 0 0 0;\n",
              "      width: 32px;\n",
              "    }\n",
              "\n",
              "    .colab-df-convert:hover {\n",
              "      background-color: #E2EBFA;\n",
              "      box-shadow: 0px 1px 2px rgba(60, 64, 67, 0.3), 0px 1px 3px 1px rgba(60, 64, 67, 0.15);\n",
              "      fill: #174EA6;\n",
              "    }\n",
              "\n",
              "    [theme=dark] .colab-df-convert {\n",
              "      background-color: #3B4455;\n",
              "      fill: #D2E3FC;\n",
              "    }\n",
              "\n",
              "    [theme=dark] .colab-df-convert:hover {\n",
              "      background-color: #434B5C;\n",
              "      box-shadow: 0px 1px 3px 1px rgba(0, 0, 0, 0.15);\n",
              "      filter: drop-shadow(0px 1px 2px rgba(0, 0, 0, 0.3));\n",
              "      fill: #FFFFFF;\n",
              "    }\n",
              "  </style>\n",
              "\n",
              "      <script>\n",
              "        const buttonEl =\n",
              "          document.querySelector('#df-9e176293-d909-45e7-a8d7-339f4788c3cd button.colab-df-convert');\n",
              "        buttonEl.style.display =\n",
              "          google.colab.kernel.accessAllowed ? 'block' : 'none';\n",
              "\n",
              "        async function convertToInteractive(key) {\n",
              "          const element = document.querySelector('#df-9e176293-d909-45e7-a8d7-339f4788c3cd');\n",
              "          const dataTable =\n",
              "            await google.colab.kernel.invokeFunction('convertToInteractive',\n",
              "                                                     [key], {});\n",
              "          if (!dataTable) return;\n",
              "\n",
              "          const docLinkHtml = 'Like what you see? Visit the ' +\n",
              "            '<a target=\"_blank\" href=https://colab.research.google.com/notebooks/data_table.ipynb>data table notebook</a>'\n",
              "            + ' to learn more about interactive tables.';\n",
              "          element.innerHTML = '';\n",
              "          dataTable['output_type'] = 'display_data';\n",
              "          await google.colab.output.renderOutput(dataTable, element);\n",
              "          const docLink = document.createElement('div');\n",
              "          docLink.innerHTML = docLinkHtml;\n",
              "          element.appendChild(docLink);\n",
              "        }\n",
              "      </script>\n",
              "    </div>\n",
              "  </div>\n",
              "  "
            ]
          },
          "metadata": {},
          "execution_count": 230
        }
      ]
    },
    {
      "cell_type": "code",
      "source": [
        "idx, cols = pd.factorize(winners[:-1])\n",
        "winner_mrr = mrr_df.reindex(cols, axis=1).to_numpy()[np.arange(len(idx)), idx]"
      ],
      "metadata": {
        "id": "SwUUMNbQZfAl"
      },
      "execution_count": 231,
      "outputs": []
    },
    {
      "cell_type": "code",
      "source": [
        "accum_df = mrr_df.apply(lambda x: x.cumprod())"
      ],
      "metadata": {
        "id": "CoQcZKiBt4q1"
      },
      "execution_count": 232,
      "outputs": []
    },
    {
      "cell_type": "code",
      "source": [
        "accum_df[\"RELMOM\"] = winner_mrr.cumprod()"
      ],
      "metadata": {
        "id": "FUBGz6YYFeP0"
      },
      "execution_count": 233,
      "outputs": []
    },
    {
      "cell_type": "code",
      "source": [
        "accum_df"
      ],
      "metadata": {
        "colab": {
          "base_uri": "https://localhost:8080/",
          "height": 455
        },
        "id": "LU5bKAUcHXNL",
        "outputId": "1cea6b6d-2bb3-41eb-f0e7-dda5a828e1a0"
      },
      "execution_count": 234,
      "outputs": [
        {
          "output_type": "execute_result",
          "data": {
            "text/plain": [
              "              EEM       GLD       LQD       QQQ       SPY     TB3MS    RELMOM\n",
              "Date                                                                         \n",
              "2004-12  0.994699  0.963927  1.012284  0.936874  0.977579  1.001942  1.001942\n",
              "2005-01  1.091008  0.993836  0.999014  0.932365  0.998014  1.004063  1.004063\n",
              "2005-02  1.004706  0.977625  0.982606  0.916082  0.975924  1.006355  1.006355\n",
              "2005-03  0.992172  0.989725  0.994531  0.876253  0.957640  1.008687  1.008687\n",
              "2005-04  1.023532  0.950912  0.996862  0.953908  0.988500  1.011075  1.011075\n",
              "...           ...       ...       ...       ...       ...       ...       ...\n",
              "2021-12  2.177668  3.837678  1.145523  9.094453  3.722266  1.219008  5.444209\n",
              "2022-01  2.083588  4.072609  1.118983  8.687386  3.612396  1.219343  5.283512\n",
              "2022-02  2.013140  4.124437  1.084374  9.081671  3.736579  1.219791  5.523310\n",
              "2022-03  1.889632  4.039049  1.009596  7.846955  3.408623  1.220563  4.772377\n",
              "2022-04  1.901225  3.907315  1.026093  7.722455  3.416316  1.221560  4.783148\n",
              "\n",
              "[209 rows x 7 columns]"
            ],
            "text/html": [
              "\n",
              "  <div id=\"df-708890f3-e7f6-4e56-a744-9a49ed0b59ee\">\n",
              "    <div class=\"colab-df-container\">\n",
              "      <div>\n",
              "<style scoped>\n",
              "    .dataframe tbody tr th:only-of-type {\n",
              "        vertical-align: middle;\n",
              "    }\n",
              "\n",
              "    .dataframe tbody tr th {\n",
              "        vertical-align: top;\n",
              "    }\n",
              "\n",
              "    .dataframe thead th {\n",
              "        text-align: right;\n",
              "    }\n",
              "</style>\n",
              "<table border=\"1\" class=\"dataframe\">\n",
              "  <thead>\n",
              "    <tr style=\"text-align: right;\">\n",
              "      <th></th>\n",
              "      <th>EEM</th>\n",
              "      <th>GLD</th>\n",
              "      <th>LQD</th>\n",
              "      <th>QQQ</th>\n",
              "      <th>SPY</th>\n",
              "      <th>TB3MS</th>\n",
              "      <th>RELMOM</th>\n",
              "    </tr>\n",
              "    <tr>\n",
              "      <th>Date</th>\n",
              "      <th></th>\n",
              "      <th></th>\n",
              "      <th></th>\n",
              "      <th></th>\n",
              "      <th></th>\n",
              "      <th></th>\n",
              "      <th></th>\n",
              "    </tr>\n",
              "  </thead>\n",
              "  <tbody>\n",
              "    <tr>\n",
              "      <th>2004-12</th>\n",
              "      <td>0.994699</td>\n",
              "      <td>0.963927</td>\n",
              "      <td>1.012284</td>\n",
              "      <td>0.936874</td>\n",
              "      <td>0.977579</td>\n",
              "      <td>1.001942</td>\n",
              "      <td>1.001942</td>\n",
              "    </tr>\n",
              "    <tr>\n",
              "      <th>2005-01</th>\n",
              "      <td>1.091008</td>\n",
              "      <td>0.993836</td>\n",
              "      <td>0.999014</td>\n",
              "      <td>0.932365</td>\n",
              "      <td>0.998014</td>\n",
              "      <td>1.004063</td>\n",
              "      <td>1.004063</td>\n",
              "    </tr>\n",
              "    <tr>\n",
              "      <th>2005-02</th>\n",
              "      <td>1.004706</td>\n",
              "      <td>0.977625</td>\n",
              "      <td>0.982606</td>\n",
              "      <td>0.916082</td>\n",
              "      <td>0.975924</td>\n",
              "      <td>1.006355</td>\n",
              "      <td>1.006355</td>\n",
              "    </tr>\n",
              "    <tr>\n",
              "      <th>2005-03</th>\n",
              "      <td>0.992172</td>\n",
              "      <td>0.989725</td>\n",
              "      <td>0.994531</td>\n",
              "      <td>0.876253</td>\n",
              "      <td>0.957640</td>\n",
              "      <td>1.008687</td>\n",
              "      <td>1.008687</td>\n",
              "    </tr>\n",
              "    <tr>\n",
              "      <th>2005-04</th>\n",
              "      <td>1.023532</td>\n",
              "      <td>0.950912</td>\n",
              "      <td>0.996862</td>\n",
              "      <td>0.953908</td>\n",
              "      <td>0.988500</td>\n",
              "      <td>1.011075</td>\n",
              "      <td>1.011075</td>\n",
              "    </tr>\n",
              "    <tr>\n",
              "      <th>...</th>\n",
              "      <td>...</td>\n",
              "      <td>...</td>\n",
              "      <td>...</td>\n",
              "      <td>...</td>\n",
              "      <td>...</td>\n",
              "      <td>...</td>\n",
              "      <td>...</td>\n",
              "    </tr>\n",
              "    <tr>\n",
              "      <th>2021-12</th>\n",
              "      <td>2.177668</td>\n",
              "      <td>3.837678</td>\n",
              "      <td>1.145523</td>\n",
              "      <td>9.094453</td>\n",
              "      <td>3.722266</td>\n",
              "      <td>1.219008</td>\n",
              "      <td>5.444209</td>\n",
              "    </tr>\n",
              "    <tr>\n",
              "      <th>2022-01</th>\n",
              "      <td>2.083588</td>\n",
              "      <td>4.072609</td>\n",
              "      <td>1.118983</td>\n",
              "      <td>8.687386</td>\n",
              "      <td>3.612396</td>\n",
              "      <td>1.219343</td>\n",
              "      <td>5.283512</td>\n",
              "    </tr>\n",
              "    <tr>\n",
              "      <th>2022-02</th>\n",
              "      <td>2.013140</td>\n",
              "      <td>4.124437</td>\n",
              "      <td>1.084374</td>\n",
              "      <td>9.081671</td>\n",
              "      <td>3.736579</td>\n",
              "      <td>1.219791</td>\n",
              "      <td>5.523310</td>\n",
              "    </tr>\n",
              "    <tr>\n",
              "      <th>2022-03</th>\n",
              "      <td>1.889632</td>\n",
              "      <td>4.039049</td>\n",
              "      <td>1.009596</td>\n",
              "      <td>7.846955</td>\n",
              "      <td>3.408623</td>\n",
              "      <td>1.220563</td>\n",
              "      <td>4.772377</td>\n",
              "    </tr>\n",
              "    <tr>\n",
              "      <th>2022-04</th>\n",
              "      <td>1.901225</td>\n",
              "      <td>3.907315</td>\n",
              "      <td>1.026093</td>\n",
              "      <td>7.722455</td>\n",
              "      <td>3.416316</td>\n",
              "      <td>1.221560</td>\n",
              "      <td>4.783148</td>\n",
              "    </tr>\n",
              "  </tbody>\n",
              "</table>\n",
              "<p>209 rows × 7 columns</p>\n",
              "</div>\n",
              "      <button class=\"colab-df-convert\" onclick=\"convertToInteractive('df-708890f3-e7f6-4e56-a744-9a49ed0b59ee')\"\n",
              "              title=\"Convert this dataframe to an interactive table.\"\n",
              "              style=\"display:none;\">\n",
              "        \n",
              "  <svg xmlns=\"http://www.w3.org/2000/svg\" height=\"24px\"viewBox=\"0 0 24 24\"\n",
              "       width=\"24px\">\n",
              "    <path d=\"M0 0h24v24H0V0z\" fill=\"none\"/>\n",
              "    <path d=\"M18.56 5.44l.94 2.06.94-2.06 2.06-.94-2.06-.94-.94-2.06-.94 2.06-2.06.94zm-11 1L8.5 8.5l.94-2.06 2.06-.94-2.06-.94L8.5 2.5l-.94 2.06-2.06.94zm10 10l.94 2.06.94-2.06 2.06-.94-2.06-.94-.94-2.06-.94 2.06-2.06.94z\"/><path d=\"M17.41 7.96l-1.37-1.37c-.4-.4-.92-.59-1.43-.59-.52 0-1.04.2-1.43.59L10.3 9.45l-7.72 7.72c-.78.78-.78 2.05 0 2.83L4 21.41c.39.39.9.59 1.41.59.51 0 1.02-.2 1.41-.59l7.78-7.78 2.81-2.81c.8-.78.8-2.07 0-2.86zM5.41 20L4 18.59l7.72-7.72 1.47 1.35L5.41 20z\"/>\n",
              "  </svg>\n",
              "      </button>\n",
              "      \n",
              "  <style>\n",
              "    .colab-df-container {\n",
              "      display:flex;\n",
              "      flex-wrap:wrap;\n",
              "      gap: 12px;\n",
              "    }\n",
              "\n",
              "    .colab-df-convert {\n",
              "      background-color: #E8F0FE;\n",
              "      border: none;\n",
              "      border-radius: 50%;\n",
              "      cursor: pointer;\n",
              "      display: none;\n",
              "      fill: #1967D2;\n",
              "      height: 32px;\n",
              "      padding: 0 0 0 0;\n",
              "      width: 32px;\n",
              "    }\n",
              "\n",
              "    .colab-df-convert:hover {\n",
              "      background-color: #E2EBFA;\n",
              "      box-shadow: 0px 1px 2px rgba(60, 64, 67, 0.3), 0px 1px 3px 1px rgba(60, 64, 67, 0.15);\n",
              "      fill: #174EA6;\n",
              "    }\n",
              "\n",
              "    [theme=dark] .colab-df-convert {\n",
              "      background-color: #3B4455;\n",
              "      fill: #D2E3FC;\n",
              "    }\n",
              "\n",
              "    [theme=dark] .colab-df-convert:hover {\n",
              "      background-color: #434B5C;\n",
              "      box-shadow: 0px 1px 3px 1px rgba(0, 0, 0, 0.15);\n",
              "      filter: drop-shadow(0px 1px 2px rgba(0, 0, 0, 0.3));\n",
              "      fill: #FFFFFF;\n",
              "    }\n",
              "  </style>\n",
              "\n",
              "      <script>\n",
              "        const buttonEl =\n",
              "          document.querySelector('#df-708890f3-e7f6-4e56-a744-9a49ed0b59ee button.colab-df-convert');\n",
              "        buttonEl.style.display =\n",
              "          google.colab.kernel.accessAllowed ? 'block' : 'none';\n",
              "\n",
              "        async function convertToInteractive(key) {\n",
              "          const element = document.querySelector('#df-708890f3-e7f6-4e56-a744-9a49ed0b59ee');\n",
              "          const dataTable =\n",
              "            await google.colab.kernel.invokeFunction('convertToInteractive',\n",
              "                                                     [key], {});\n",
              "          if (!dataTable) return;\n",
              "\n",
              "          const docLinkHtml = 'Like what you see? Visit the ' +\n",
              "            '<a target=\"_blank\" href=https://colab.research.google.com/notebooks/data_table.ipynb>data table notebook</a>'\n",
              "            + ' to learn more about interactive tables.';\n",
              "          element.innerHTML = '';\n",
              "          dataTable['output_type'] = 'display_data';\n",
              "          await google.colab.output.renderOutput(dataTable, element);\n",
              "          const docLink = document.createElement('div');\n",
              "          docLink.innerHTML = docLinkHtml;\n",
              "          element.appendChild(docLink);\n",
              "        }\n",
              "      </script>\n",
              "    </div>\n",
              "  </div>\n",
              "  "
            ]
          },
          "metadata": {},
          "execution_count": 234
        }
      ]
    },
    {
      "cell_type": "code",
      "source": [
        "accum_best = accum_df.iloc[-1].max()"
      ],
      "metadata": {
        "id": "4UbK3FjgIvqT"
      },
      "execution_count": 235,
      "outputs": []
    },
    {
      "cell_type": "code",
      "source": [
        "ceiling = (accum_best // 5 + 1) * 5 "
      ],
      "metadata": {
        "id": "SjBd4q-GJ0eB"
      },
      "execution_count": 236,
      "outputs": []
    },
    {
      "cell_type": "code",
      "source": [
        "start_month = int(accum_df.index[0].split(\"-\")[1])"
      ],
      "metadata": {
        "id": "dUj3Fx9uLXwx"
      },
      "execution_count": 237,
      "outputs": []
    },
    {
      "cell_type": "code",
      "source": [
        "chart = accum_df.plot.line(grid=True, figsize=(40,25), xticks=np.arange((13 - start_month) % 12, len(accum_df.index), 6), yticks=np.arange(0, ceiling + 1, ceiling / 20))\n",
        "chart.tick_params(axis=\"x\", rotation=90)\n",
        "# chart.figure.savefig(f'/content/drive/MyDrive/momentum-strategies/absolute_momentum/{current_date}_returns_accum.jpg')"
      ],
      "metadata": {
        "id": "RCz2FtOhHYMD",
        "outputId": "8ade76ed-2603-4f36-c2b5-909e3a5cca4e",
        "colab": {
          "base_uri": "https://localhost:8080/",
          "height": 1000
        }
      },
      "execution_count": 238,
      "outputs": [
        {
          "output_type": "display_data",
          "data": {
            "text/plain": [
              "<Figure size 2880x1800 with 1 Axes>"
            ],
            "image/png": "[encoded data removed]"
          },
          "metadata": {
            "needs_background": "light"
          }
        }
      ]
    },
    {
      "cell_type": "code",
      "source": [
        ""
      ],
      "metadata": {
        "id": "E6b8FCMqKiEv"
      },
      "execution_count": 238,
      "outputs": []
    }
  ]
}