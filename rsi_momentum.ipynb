{
  "nbformat": 4,
  "nbformat_minor": 0,
  "metadata": {
    "colab": {
      "name": "rsi_momentum.ipynb",
      "provenance": [],
      "collapsed_sections": []
    },
    "kernelspec": {
      "name": "python3",
      "display_name": "Python 3"
    },
    "language_info": {
      "name": "python"
    }
  },
  "cells": [
    {
      "cell_type": "code",
      "metadata": {
        "colab": {
          "base_uri": "https://localhost:8080/"
        },
        "id": "AqLB7EGuK0Va",
        "outputId": "9ebd2ed1-7b76-40e3-ba51-9e33080c8db5"
      },
      "source": [
        "from google.colab import drive\n",
        "drive.mount('/content/drive')"
      ],
      "execution_count": 1,
      "outputs": [
        {
          "output_type": "stream",
          "name": "stdout",
          "text": [
            "Mounted at /content/drive\n"
          ]
        }
      ]
    },
    {
      "cell_type": "code",
      "metadata": {
        "id": "i5dpW5ouxciP"
      },
      "source": [
        "import pandas as pd\n",
        "import numpy as np\n",
        "import matplotlib.pyplot as plt\n",
        "from datetime import datetime\n",
        "import math"
      ],
      "execution_count": 2,
      "outputs": []
    },
    {
      "cell_type": "code",
      "metadata": {
        "id": "FcWsjgw9xeDs"
      },
      "source": [
        "current_date = datetime.now().strftime(\"%Y-%m-%d-%H-%M-%S\")\n",
        "file_directory = '/content/drive/MyDrive/momentum-strategies/technical_indicators'"
      ],
      "execution_count": 3,
      "outputs": []
    },
    {
      "cell_type": "code",
      "metadata": {
        "id": "OyprkIqmy_QX"
      },
      "source": [
        "qqq_df = pd.read_csv(f'{file_directory}/QQQ_daily161118_211117.csv')"
      ],
      "execution_count": 4,
      "outputs": []
    },
    {
      "cell_type": "code",
      "metadata": {
        "id": "MBa67RZ-95gB"
      },
      "source": [
        "tqqq_df = pd.read_csv(f'{file_directory}/TQQQ_daily161118_211117.csv')"
      ],
      "execution_count": 5,
      "outputs": []
    },
    {
      "cell_type": "code",
      "metadata": {
        "id": "xxbmfz8kAm9X"
      },
      "source": [
        "class Portfolio:\n",
        "  def __init__(self, benchmark_df, benchmark_name):\n",
        "    self.df = benchmark_df.copy()\n",
        "    self.df.drop(['Adj Close', 'Volume'], axis=1, inplace=True)\n",
        "    self.benchmark_closes = benchmark_df['Close'].to_numpy()\n",
        "    self.benchmark_opens = benchmark_df['Open'].to_numpy()\n",
        "    self.benchmark_highs = benchmark_df['High'].to_numpy()\n",
        "    self.benchmark_lows = benchmark_df['Low'].to_numpy()\n",
        "    self.benchmark_name = benchmark_name\n",
        "  \n",
        "  def init_config(self, initial_cash=10000, dc_lengths=[20,55], atr_length=20):\n",
        "    self.df_columns = [\n",
        "      'rsi',\n",
        "      'buy_price', 'sell_price', 'shares', 'position_size', 'cash', \n",
        "    ]\n",
        "    for column in self.df_columns:\n",
        "      setattr(self, column, np.zeros(len(self.benchmark_closes)))\n",
        "    self.initial_cash = initial_cash\n",
        "\n",
        "  def get_rsi(self, window_length):\n",
        "    # Calculate the RSI based on MMA\n",
        "    delta = self.df['Close'].diff()\n",
        "    # first row is NaN since it did not have a previous row to calculate the differences\n",
        "    up, down = delta.clip(lower=0), delta.clip(upper=0).abs()\n",
        "    # Make the positive gains (up) and negative gains (down) Series\n",
        "    alpha = 1 / window_length\n",
        "    roll_up = up.ewm(alpha=alpha).mean()\n",
        "    roll_down = down.ewm(alpha=alpha).mean()\n",
        "    rs = roll_up / roll_down\n",
        "    rsi_mma = 100.0 - (100.0 / (1.0 + rs))\n",
        "    self.rsi = rsi_mma.to_numpy()\n",
        "\n",
        "  def save_to_df(self, to_csv=False):\n",
        "    for column in self.df_columns:\n",
        "      self.df[column] = getattr(self, column)\n",
        "    self.df['portfolio_closes'] = self.cash + self.shares * self.benchmark_closes\n",
        "    if to_csv:\n",
        "      self.df.to_csv(f'{file_directory}/{current_date}_{self.benchmark_name}_turtle.csv')"
      ],
      "execution_count": 51,
      "outputs": []
    },
    {
      "cell_type": "code",
      "metadata": {
        "id": "OB7OfUTERjnC",
        "colab": {
          "base_uri": "https://localhost:8080/"
        },
        "outputId": "6c9136ac-a7a4-497b-d818-b0267960fd1f"
      },
      "source": [
        "ptfl = Portfolio(qqq_df, 'qqq')\n",
        "ptfl.init_config()\n",
        "ptfl.get_rsi(14)\n",
        "ptfl.rsi"
      ],
      "execution_count": 50,
      "outputs": [
        {
          "output_type": "execute_result",
          "data": {
            "text/plain": [
              "array([         nan, 100.        , 100.        , ...,  65.61370639,\n",
              "        68.30406124,  68.50238677])"
            ]
          },
          "metadata": {},
          "execution_count": 50
        }
      ]
    },
    {
      "cell_type": "code",
      "metadata": {
        "id": "5cdsjxu8x56a"
      },
      "source": [
        ""
      ],
      "execution_count": null,
      "outputs": []
    }
  ]
}